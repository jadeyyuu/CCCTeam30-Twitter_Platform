{
 "cells": [
  {
   "cell_type": "code",
   "execution_count": 142,
   "metadata": {},
   "outputs": [],
   "source": [
    "import pandas as pd\n",
    "import ijson"
   ]
  },
  {
   "cell_type": "code",
   "execution_count": 143,
   "metadata": {},
   "outputs": [
    {
     "name": "stdout",
     "output_type": "stream",
     "text": [
      "<class '_yajl2.items'>\n"
     ]
    }
   ],
   "source": [
    "time = []\n",
    "text = []\n",
    "with open('data.json', 'r') as f:\n",
    "    objects = ijson.items(f, 'results.item')\n",
    "    for row in objects:\n",
    "        if row['text'].startswith(\"RT\") == False:\n",
    "            time.append(row['created_at'])\n",
    "            text.append(row['text'])\n",
    "\n",
    "data = pd.DataFrame({\"text\":text,\"time\":time},columns=[\"text\",\"time\"])\n",
    "data['time'] = pd.to_datetime(data['time']).dt.date"
   ]
  },
  {
   "cell_type": "code",
   "execution_count": 144,
   "metadata": {},
   "outputs": [
    {
     "data": {
      "text/html": [
       "<div>\n",
       "<style scoped>\n",
       "    .dataframe tbody tr th:only-of-type {\n",
       "        vertical-align: middle;\n",
       "    }\n",
       "\n",
       "    .dataframe tbody tr th {\n",
       "        vertical-align: top;\n",
       "    }\n",
       "\n",
       "    .dataframe thead th {\n",
       "        text-align: right;\n",
       "    }\n",
       "</style>\n",
       "<table border=\"1\" class=\"dataframe\">\n",
       "  <thead>\n",
       "    <tr style=\"text-align: right;\">\n",
       "      <th></th>\n",
       "      <th>text</th>\n",
       "      <th>time</th>\n",
       "    </tr>\n",
       "  </thead>\n",
       "  <tbody>\n",
       "    <tr>\n",
       "      <th>0</th>\n",
       "      <td>Brilliant thread. I particularly like Wile. E....</td>\n",
       "      <td>2020-08-31</td>\n",
       "    </tr>\n",
       "    <tr>\n",
       "      <th>1</th>\n",
       "      <td>@TimWilsonMP Have the courage to tell the trut...</td>\n",
       "      <td>2020-08-31</td>\n",
       "    </tr>\n",
       "    <tr>\n",
       "      <th>2</th>\n",
       "      <td>@Rdene915 @ChristineBemis2 Build it and they w...</td>\n",
       "      <td>2020-08-31</td>\n",
       "    </tr>\n",
       "    <tr>\n",
       "      <th>3</th>\n",
       "      <td>A photo of you in January 2020 without imagini...</td>\n",
       "      <td>2020-08-31</td>\n",
       "    </tr>\n",
       "    <tr>\n",
       "      <th>4</th>\n",
       "      <td>@IndyCat14 @JoyOfCats @carolineCMCE @LordGrayd...</td>\n",
       "      <td>2020-08-31</td>\n",
       "    </tr>\n",
       "    <tr>\n",
       "      <th>...</th>\n",
       "      <td>...</td>\n",
       "      <td>...</td>\n",
       "    </tr>\n",
       "    <tr>\n",
       "      <th>95</th>\n",
       "      <td>@chrisedmond Well said Chris: economists alway...</td>\n",
       "      <td>2020-08-31</td>\n",
       "    </tr>\n",
       "    <tr>\n",
       "      <th>96</th>\n",
       "      <td>@laureningram Just the hoop crew hanging out i...</td>\n",
       "      <td>2020-08-31</td>\n",
       "    </tr>\n",
       "    <tr>\n",
       "      <th>97</th>\n",
       "      <td>@heidimur @VicParliament PS. I'm sure this rep...</td>\n",
       "      <td>2020-08-31</td>\n",
       "    </tr>\n",
       "    <tr>\n",
       "      <th>98</th>\n",
       "      <td>@kirtidakale @goformative Wow always so good p...</td>\n",
       "      <td>2020-08-31</td>\n",
       "    </tr>\n",
       "    <tr>\n",
       "      <th>99</th>\n",
       "      <td>@heidimur @VicParliament Seems like the politi...</td>\n",
       "      <td>2020-08-31</td>\n",
       "    </tr>\n",
       "  </tbody>\n",
       "</table>\n",
       "<p>100 rows × 2 columns</p>\n",
       "</div>"
      ],
      "text/plain": [
       "                                                 text        time\n",
       "0   Brilliant thread. I particularly like Wile. E....  2020-08-31\n",
       "1   @TimWilsonMP Have the courage to tell the trut...  2020-08-31\n",
       "2   @Rdene915 @ChristineBemis2 Build it and they w...  2020-08-31\n",
       "3   A photo of you in January 2020 without imagini...  2020-08-31\n",
       "4   @IndyCat14 @JoyOfCats @carolineCMCE @LordGrayd...  2020-08-31\n",
       "..                                                ...         ...\n",
       "95  @chrisedmond Well said Chris: economists alway...  2020-08-31\n",
       "96  @laureningram Just the hoop crew hanging out i...  2020-08-31\n",
       "97  @heidimur @VicParliament PS. I'm sure this rep...  2020-08-31\n",
       "98  @kirtidakale @goformative Wow always so good p...  2020-08-31\n",
       "99  @heidimur @VicParliament Seems like the politi...  2020-08-31\n",
       "\n",
       "[100 rows x 2 columns]"
      ]
     },
     "execution_count": 144,
     "metadata": {},
     "output_type": "execute_result"
    }
   ],
   "source": [
    "data"
   ]
  },
  {
   "cell_type": "code",
   "execution_count": 145,
   "metadata": {},
   "outputs": [],
   "source": [
    "from pyspark.sql import SparkSession\n",
    "from pyspark.sql.functions import *\n",
    "from pyspark.sql.types import *\n",
    "from pyspark.sql import functions as F\n",
    "from textblob import TextBlob\n",
    "from pyspark.sql import SQLContext"
   ]
  },
  {
   "cell_type": "code",
   "execution_count": 146,
   "metadata": {},
   "outputs": [],
   "source": [
    "import findspark\n",
    "findspark.init()\n",
    "\n",
    "from pyspark.sql.functions import udf\n",
    "from pyspark.sql.types import StringType\n",
    "\n",
    "from nltk.stem.wordnet import WordNetLemmatizer\n",
    "from nltk.corpus import stopwords\n",
    "from nltk import pos_tag\n",
    "import string\n",
    "import re\n",
    "\n",
    "# remove non ASCII characters\n",
    "def strip_non_ascii(data_str):\n",
    "    ''' Returns the string without non ASCII characters'''\n",
    "    stripped = (c for c in data_str if 0 < ord(c) < 127)\n",
    "    return ''.join(stripped)\n",
    "# setup pyspark udf function\n",
    "strip_non_ascii_udf = udf(strip_non_ascii, StringType())"
   ]
  },
  {
   "cell_type": "code",
   "execution_count": 147,
   "metadata": {},
   "outputs": [
    {
     "name": "stdout",
     "output_type": "stream",
     "text": [
      "+--------------------+----------+--------------------+\n",
      "|                text|      time|       text_non_asci|\n",
      "+--------------------+----------+--------------------+\n",
      "|Brilliant thread....|2020-08-31|Brilliant thread....|\n",
      "|@TimWilsonMP Have...|2020-08-31|@TimWilsonMP Have...|\n",
      "|@Rdene915 @Christ...|2020-08-31|@Rdene915 @Christ...|\n",
      "|A photo of you in...|2020-08-31|A photo of you in...|\n",
      "|@IndyCat14 @JoyOf...|2020-08-31|@IndyCat14 @JoyOf...|\n",
      "|@BuckleyIOP It re...|2020-08-31|@BuckleyIOP It re...|\n",
      "|@kruevans But you...|2020-08-31|@kruevans But you...|\n",
      "|@johniadarola I d...|2020-08-31|@johniadarola I d...|\n",
      "|My sister turns 7...|2020-08-31|My sister turns 7...|\n",
      "|@kruevans It’s sh...|2020-08-31|@kruevans Its shi...|\n",
      "|@runwader Cannot ...|2020-08-31|@runwader Cannot ...|\n",
      "|@abcmelbourne mor...|2020-08-31|@abcmelbourne mor...|\n",
      "|#VICTORIA #Parlia...|2020-08-31|#VICTORIA #Parlia...|\n",
      "|@profsarahj Sadly...|2020-08-31|@profsarahj Sadly...|\n",
      "|@ChristineBemis2 ...|2020-08-31|@ChristineBemis2 ...|\n",
      "|@MonmouthTrack Ag...|2020-08-31|@MonmouthTrack Ag...|\n",
      "|@CardsSIUCIllini ...|2020-08-31|@CardsSIUCIllini ...|\n",
      "|Beautiful Scotlan...|2020-08-31|Beautiful Scotlan...|\n",
      "|@johnweber94 @sha...|2020-08-31|@johnweber94 @sha...|\n",
      "|That's what... Ma...|2020-08-31|That's what... Ma...|\n",
      "+--------------------+----------+--------------------+\n",
      "only showing top 20 rows\n",
      "\n"
     ]
    }
   ],
   "source": [
    "df = spark.createDataFrame(data)\n",
    "df = df.withColumn('text_non_asci',strip_non_ascii_udf(df['text']))\n",
    "df.show()"
   ]
  },
  {
   "cell_type": "code",
   "execution_count": 148,
   "metadata": {},
   "outputs": [],
   "source": [
    "# fixed abbreviation\n",
    "def fix_abbreviation(data_str):\n",
    "    data_str = data_str.lower()\n",
    "    data_str = re.sub(r'\\bthats\\b', 'that is', data_str)\n",
    "    data_str = re.sub(r'\\bive\\b', 'i have', data_str)\n",
    "    data_str = re.sub(r'\\bim\\b', 'i am', data_str)\n",
    "    data_str = re.sub(r'\\bya\\b', 'yeah', data_str)\n",
    "    data_str = re.sub(r'\\bcant\\b', 'can not', data_str)\n",
    "    data_str = re.sub(r'\\bdont\\b', 'do not', data_str)\n",
    "    data_str = re.sub(r'\\bwont\\b', 'will not', data_str)\n",
    "    data_str = re.sub(r'\\bid\\b', 'i would', data_str)\n",
    "    data_str = re.sub(r'wtf', 'what the fuck', data_str)\n",
    "    data_str = re.sub(r'\\bwth\\b', 'what the hell', data_str)\n",
    "    data_str = re.sub(r'\\br\\b', 'are', data_str)\n",
    "    data_str = re.sub(r'\\bu\\b', 'you', data_str)\n",
    "    data_str = re.sub(r'\\bk\\b', 'OK', data_str)\n",
    "    data_str = re.sub(r'\\bsux\\b', 'sucks', data_str)\n",
    "    data_str = re.sub(r'\\bno+\\b', 'no', data_str)\n",
    "    data_str = re.sub(r'\\bcoo+\\b', 'cool', data_str)\n",
    "    data_str = re.sub(r'rt\\b', '', data_str)\n",
    "    data_str = data_str.strip()\n",
    "    return data_str\n",
    "\n",
    "fix_abbreviation_udf = udf(fix_abbreviation, StringType())"
   ]
  },
  {
   "cell_type": "code",
   "execution_count": 149,
   "metadata": {},
   "outputs": [
    {
     "name": "stdout",
     "output_type": "stream",
     "text": [
      "+--------------------+----------+--------------------+--------------------+\n",
      "|                text|      time|       text_non_asci|        fixed_abbrev|\n",
      "+--------------------+----------+--------------------+--------------------+\n",
      "|Brilliant thread....|2020-08-31|Brilliant thread....|brilliant thread....|\n",
      "|@TimWilsonMP Have...|2020-08-31|@TimWilsonMP Have...|@timwilsonmp have...|\n",
      "|@Rdene915 @Christ...|2020-08-31|@Rdene915 @Christ...|@rdene915 @christ...|\n",
      "|A photo of you in...|2020-08-31|A photo of you in...|a photo of you in...|\n",
      "|@IndyCat14 @JoyOf...|2020-08-31|@IndyCat14 @JoyOf...|@indycat14 @joyof...|\n",
      "+--------------------+----------+--------------------+--------------------+\n",
      "only showing top 5 rows\n",
      "\n"
     ]
    }
   ],
   "source": [
    "df = df.withColumn('fixed_abbrev',fix_abbreviation_udf(df['text_non_asci']))\n",
    "df.show(5,True)"
   ]
  },
  {
   "cell_type": "code",
   "execution_count": 150,
   "metadata": {},
   "outputs": [],
   "source": [
    "def remove_features(data_str):\n",
    "    # compile regex\n",
    "    url_re = re.compile('https?://(www.)?\\w+\\.\\w+(/\\w+)*/?')\n",
    "    punc_re = re.compile('[%s]' % re.escape(string.punctuation))\n",
    "    num_re = re.compile('(\\\\d+)')\n",
    "    mention_re = re.compile('@(\\w+)')\n",
    "    alpha_num_re = re.compile(\"^[a-z0-9_.]+$\")\n",
    "    # convert to lowercase\n",
    "    data_str = data_str.lower()\n",
    "    # remove hyperlinks\n",
    "    data_str = url_re.sub(' ', data_str)\n",
    "    # remove @mentions\n",
    "    data_str = mention_re.sub(' ', data_str)\n",
    "    # remove puncuation\n",
    "    data_str = punc_re.sub(' ', data_str)\n",
    "    # remove numeric 'words'\n",
    "    data_str = num_re.sub(' ', data_str)\n",
    "    # remove non a-z 0-9 characters and words shorter than 1 characters\n",
    "    list_pos = 0\n",
    "    cleaned_str = ''\n",
    "    for word in data_str.split():\n",
    "        if list_pos == 0:\n",
    "            if alpha_num_re.match(word) and len(word) > 1:\n",
    "                cleaned_str = word\n",
    "            else:\n",
    "                cleaned_str = ' '\n",
    "        else:\n",
    "            if alpha_num_re.match(word) and len(word) > 1:\n",
    "                cleaned_str = cleaned_str + ' ' + word\n",
    "            else:\n",
    "                cleaned_str += ' '\n",
    "        list_pos += 1\n",
    "    # remove unwanted space, *.split() will automatically split on\n",
    "    # whitespace and discard duplicates, the \" \".join() joins the\n",
    "    # resulting list into one string.\n",
    "    return \" \".join(cleaned_str.split())\n",
    "# setup pyspark udf function\n",
    "remove_features_udf = udf(remove_features, StringType())"
   ]
  },
  {
   "cell_type": "code",
   "execution_count": 151,
   "metadata": {},
   "outputs": [
    {
     "name": "stdout",
     "output_type": "stream",
     "text": [
      "+--------------------+----------+--------------------+--------------------+--------------------+\n",
      "|                text|      time|       text_non_asci|        fixed_abbrev|             removed|\n",
      "+--------------------+----------+--------------------+--------------------+--------------------+\n",
      "|Brilliant thread....|2020-08-31|Brilliant thread....|brilliant thread....|brilliant thread ...|\n",
      "|@TimWilsonMP Have...|2020-08-31|@TimWilsonMP Have...|@timwilsonmp have...|have the courage ...|\n",
      "|@Rdene915 @Christ...|2020-08-31|@Rdene915 @Christ...|@rdene915 @christ...|build it and they...|\n",
      "|A photo of you in...|2020-08-31|A photo of you in...|a photo of you in...|photo of you in j...|\n",
      "|@IndyCat14 @JoyOf...|2020-08-31|@IndyCat14 @JoyOf...|@indycat14 @joyof...|                    |\n",
      "+--------------------+----------+--------------------+--------------------+--------------------+\n",
      "only showing top 5 rows\n",
      "\n"
     ]
    }
   ],
   "source": [
    "df = df.withColumn('removed',remove_features_udf(df['fixed_abbrev']))\n",
    "df.show(5,True)"
   ]
  },
  {
   "cell_type": "code",
   "execution_count": 152,
   "metadata": {},
   "outputs": [],
   "source": [
    "from pyspark.sql.types import FloatType\n",
    "\n",
    "from textblob import TextBlob\n",
    "\n",
    "def sentiment_analysis(text):\n",
    "    return TextBlob(text).sentiment.polarity\n",
    "\n",
    "sentiment_analysis_udf = udf(sentiment_analysis , FloatType())"
   ]
  },
  {
   "cell_type": "code",
   "execution_count": 153,
   "metadata": {},
   "outputs": [
    {
     "name": "stdout",
     "output_type": "stream",
     "text": [
      "+--------------------+----------+--------------------+--------------------+--------------------+---------------+\n",
      "|                text|      time|       text_non_asci|        fixed_abbrev|             removed|sentiment_score|\n",
      "+--------------------+----------+--------------------+--------------------+--------------------+---------------+\n",
      "|Brilliant thread....|2020-08-31|Brilliant thread....|brilliant thread....|brilliant thread ...|     0.53333336|\n",
      "|@TimWilsonMP Have...|2020-08-31|@TimWilsonMP Have...|@timwilsonmp have...|have the courage ...|            0.0|\n",
      "|@Rdene915 @Christ...|2020-08-31|@Rdene915 @Christ...|@rdene915 @christ...|build it and they...|            0.0|\n",
      "|A photo of you in...|2020-08-31|A photo of you in...|a photo of you in...|photo of you in j...|            0.0|\n",
      "|@IndyCat14 @JoyOf...|2020-08-31|@IndyCat14 @JoyOf...|@indycat14 @joyof...|                    |            0.0|\n",
      "+--------------------+----------+--------------------+--------------------+--------------------+---------------+\n",
      "only showing top 5 rows\n",
      "\n"
     ]
    }
   ],
   "source": [
    "df  = df.withColumn(\"sentiment_score\", sentiment_analysis_udf( df['removed'] ))\n",
    "df.show(5,True)"
   ]
  },
  {
   "cell_type": "code",
   "execution_count": 154,
   "metadata": {},
   "outputs": [],
   "source": [
    "def condition(r):\n",
    "    if (r >=0.1):\n",
    "        label = \"positive\"\n",
    "    elif(r <= -0.1):\n",
    "        label = \"negative\"\n",
    "    else:\n",
    "        label = \"neutral\"\n",
    "    return label\n",
    "\n",
    "sentiment_udf = udf(lambda x: condition(x), StringType())\n",
    "df  = df.withColumn(\"sentiment\", sentiment_udf( df['sentiment_score'] ))\n",
    "SA_results = df.select('text','time','sentiment_score','sentiment')"
   ]
  },
  {
   "cell_type": "code",
   "execution_count": 155,
   "metadata": {},
   "outputs": [
    {
     "name": "stdout",
     "output_type": "stream",
     "text": [
      "+--------------------+----------+---------------+---------+\n",
      "|                text|      time|sentiment_score|sentiment|\n",
      "+--------------------+----------+---------------+---------+\n",
      "|Brilliant thread....|2020-08-31|     0.53333336| positive|\n",
      "|@TimWilsonMP Have...|2020-08-31|            0.0|  neutral|\n",
      "|@Rdene915 @Christ...|2020-08-31|            0.0|  neutral|\n",
      "|A photo of you in...|2020-08-31|            0.0|  neutral|\n",
      "|@IndyCat14 @JoyOf...|2020-08-31|            0.0|  neutral|\n",
      "|@BuckleyIOP It re...|2020-08-31|     0.14621212| positive|\n",
      "|@kruevans But you...|2020-08-31|            0.0|  neutral|\n",
      "|@johniadarola I d...|2020-08-31|            0.4| positive|\n",
      "|My sister turns 7...|2020-08-31|            0.0|  neutral|\n",
      "|@kruevans It’s sh...|2020-08-31|            0.0|  neutral|\n",
      "|@runwader Cannot ...|2020-08-31|     0.53333336| positive|\n",
      "|@abcmelbourne mor...|2020-08-31|   -0.033333335|  neutral|\n",
      "|#VICTORIA #Parlia...|2020-08-31|            0.0|  neutral|\n",
      "|@profsarahj Sadly...|2020-08-31|            0.0|  neutral|\n",
      "|@ChristineBemis2 ...|2020-08-31|            0.0|  neutral|\n",
      "|@MonmouthTrack Ag...|2020-08-31|   5.551115E-17|  neutral|\n",
      "|@CardsSIUCIllini ...|2020-08-31|           -0.6| negative|\n",
      "|Beautiful Scotlan...|2020-08-31|           0.85| positive|\n",
      "|@johnweber94 @sha...|2020-08-31|            0.5| positive|\n",
      "|That's what... Ma...|2020-08-31|            0.0|  neutral|\n",
      "|This man is barel...|2020-08-31|            0.5| positive|\n",
      "|Mmmmhmmmm... let’...|2020-08-31|            0.0|  neutral|\n",
      "|@3croookedhearts ...|2020-08-31|   -0.054166667|  neutral|\n",
      "|@allygreeneperez ...|2020-08-31|     0.13636364| positive|\n",
      "|@JGNorton82 @bmra...|2020-08-31|     0.28333333| positive|\n",
      "|Mental health car...|2020-08-31|           -0.1| negative|\n",
      "|Yep! Can definite...|2020-08-31|            0.0|  neutral|\n",
      "|@sj_bowden @shaun...|2020-08-31|            0.0|  neutral|\n",
      "|@madmargw @Cyclin...|2020-08-31|           0.25| positive|\n",
      "|@MonmouthTrack Ye...|2020-08-31|            0.2| positive|\n",
      "|@Izunama @Overlyp...|2020-08-31|            0.0|  neutral|\n",
      "|@femulla @mjrowla...|2020-08-31|            0.0|  neutral|\n",
      "|@BenFolds #365🌎 ...|2020-08-31|            0.0|  neutral|\n",
      "|@AmberTomlin8 Yes...|2020-08-31|            0.0|  neutral|\n",
      "|Jeff Lynne is suc...|2020-08-31|           0.35| positive|\n",
      "|Worried about the...|2020-08-31|         -0.125| negative|\n",
      "|@JGNorton82 @bmra...|2020-08-31|            0.0|  neutral|\n",
      "|Question 3 last f...|2020-08-31|            0.0|  neutral|\n",
      "|He was charged wi...|2020-08-31|      0.2857143| positive|\n",
      "|@ElaineM11584892 ...|2020-08-31|            0.0|  neutral|\n",
      "|@Sam_Hibbins I kn...|2020-08-31|            0.1| positive|\n",
      "|@CardsSIUCIllini ...|2020-08-31|            0.0|  neutral|\n",
      "|@LaurieOakes Happ...|2020-08-31|            0.8| positive|\n",
      "|@IngrahamAngle I ...|2020-08-31|      0.3181818| positive|\n",
      "|@CardsSIUCIllini ...|2020-08-31|            0.7| positive|\n",
      "|@AmberTomlin8 Tha...|2020-08-31|            0.0|  neutral|\n",
      "|@janecat60 Oh my!...|2020-08-31|           0.35| positive|\n",
      "|@feebs1907 Thanks...|2020-08-31|            0.2| positive|\n",
      "|@DougCameron51 It...|2020-08-31|            0.7| positive|\n",
      "|What 😮 last ques...|2020-08-31|            0.1|  neutral|\n",
      "|@RonniSalt @abcne...|2020-08-31|           0.65| positive|\n",
      "|#victoria #corona...|2020-08-31|            0.0|  neutral|\n",
      "|@allygreeneperez ...|2020-08-31|            0.4| positive|\n",
      "|@mjrowland68 Mean...|2020-08-31|            0.0|  neutral|\n",
      "|They’ve reinveste...|2020-08-31|      0.2857143| positive|\n",
      "|@catcallxo Sorry ...|2020-08-31|           -0.5| negative|\n",
      "|@BBugVic I might ...|2020-08-31|            0.0|  neutral|\n",
      "|@kruevans Yes alw...|2020-08-31|            0.0|  neutral|\n",
      "|@TACVictoria @Aut...|2020-08-31|            0.0|  neutral|\n",
      "|Time to pack Augu...|2020-08-31|     0.21428572| positive|\n",
      "|So is the functio...|2020-08-31|            0.0|  neutral|\n",
      "|Would you like to...|2020-08-31|            0.0|  neutral|\n",
      "|We sure did SPRIN...|2020-08-31|            0.5| positive|\n",
      "|@Mikkina4 Yes agr...|2020-08-31|            0.0|  neutral|\n",
      "|@Converse do the ...|2020-08-31|            0.0|  neutral|\n",
      "|How could they no...|2020-08-31|            0.0|  neutral|\n",
      "|Yeah, the path of...|2020-08-31|           -0.3| negative|\n",
      "|Victorians should...|2020-08-31|            0.4| positive|\n",
      "|@Rdene915 @DrMBEd...|2020-08-31|           0.35| positive|\n",
      "|Got bored and mad...|2020-08-31|    -0.06666667|  neutral|\n",
      "|@TheGamb10 @arnar...|2020-08-31|            0.0|  neutral|\n",
      "|Please dump this ...|2020-08-31|            0.0|  neutral|\n",
      "|@kmd6kmd6 @totaIb...|2020-08-31|           -0.3| negative|\n",
      "|@DewarDeanne @Ale...|2020-08-31|        -0.3375| negative|\n",
      "|Question 2 here #...|2020-08-31|            0.0|  neutral|\n",
      "|@TimWilsonMP Quic...|2020-08-31|     0.33333334| positive|\n",
      "|@misstierney @abr...|2020-08-31|           -0.1| negative|\n",
      "|Tuscan Grand Prix...|2020-08-31|          0.375| positive|\n",
      "|Yay! It’s working...|2020-08-31|            0.0|  neutral|\n",
      "|@scary2larry2 @ma...|2020-08-31|        -0.1375| negative|\n",
      "|@allygreeneperez ...|2020-08-31|            0.2| positive|\n",
      "|Nozzle clogged on...|2020-08-31|           0.25| positive|\n",
      "|@WalterDixon2 You...|2020-08-31|     -0.6666667| negative|\n",
      "|@msgrantgotclass ...|2020-08-31|            0.0|  neutral|\n",
      "|@tony40scott @Mab...|2020-08-31|            0.0|  neutral|\n",
      "|How do we do busi...|2020-08-31|   -0.033333335|  neutral|\n",
      "|Question 2 is com...|2020-08-31|            0.0|  neutral|\n",
      "|@AnthonyHoll1 Do ...|2020-08-31|     0.56666666| positive|\n",
      "|@shauncrowe @sj_b...|2020-08-31|            0.5| positive|\n",
      "|@djebel I’d sugge...|2020-08-31|            0.0|  neutral|\n",
      "+--------------------+----------+---------------+---------+\n",
      "only showing top 90 rows\n",
      "\n"
     ]
    }
   ],
   "source": [
    "SA_results.show(90)"
   ]
  },
  {
   "cell_type": "code",
   "execution_count": 156,
   "metadata": {},
   "outputs": [
    {
     "name": "stdout",
     "output_type": "stream",
     "text": [
      "+----------+---------+-----+\n",
      "|      time|sentiment|count|\n",
      "+----------+---------+-----+\n",
      "|2020-08-31|  neutral|   49|\n",
      "|2020-08-31| negative|   12|\n",
      "|2020-08-31| positive|   39|\n",
      "+----------+---------+-----+\n",
      "\n"
     ]
    }
   ],
   "source": [
    "SA_results.groupBy(['time','sentiment'])\\\n",
    "            .count()\\\n",
    "            .orderBy(\"time\").show()"
   ]
  },
  {
   "cell_type": "code",
   "execution_count": null,
   "metadata": {},
   "outputs": [],
   "source": []
  }
 ],
 "metadata": {
  "kernelspec": {
   "display_name": "Python 3",
   "language": "python",
   "name": "python3"
  },
  "language_info": {
   "codemirror_mode": {
    "name": "ipython",
    "version": 3
   },
   "file_extension": ".py",
   "mimetype": "text/x-python",
   "name": "python",
   "nbconvert_exporter": "python",
   "pygments_lexer": "ipython3",
   "version": "3.7.6"
  }
 },
 "nbformat": 4,
 "nbformat_minor": 4
}

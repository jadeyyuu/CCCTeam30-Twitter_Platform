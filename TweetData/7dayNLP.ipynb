{
 "cells": [
  {
   "cell_type": "code",
   "execution_count": 56,
   "id": "556e5a62",
   "metadata": {},
   "outputs": [],
   "source": [
    "import pandas as pd\n",
    "import ijson\n",
    "from pyspark.sql import SparkSession\n",
    "import warnings\n",
    "warnings.filterwarnings('ignore')"
   ]
  },
  {
   "cell_type": "code",
   "execution_count": 66,
   "id": "f5489adb",
   "metadata": {},
   "outputs": [],
   "source": [
    "import glob\n",
    "# tweet_id=[]\n",
    "time = []\n",
    "text = []\n",
    "location =[]\n",
    "read_files = glob.glob(\"7day/7dayTweetData_formatted*.json\")\n",
    "for file in read_files:\n",
    "    with open(str(file), 'r') as f:\n",
    "        objects = ijson.items(f, 'results.item')\n",
    "        for row in objects:  \n",
    "#             tweet_id.append(row['id'])\n",
    "            if row['text'].startswith(\"RT\") == False and row['id'] not in location:\n",
    "                location.append(row['user']['location'])\n",
    "                time.append(row['created_at'])\n",
    "                text.append(row['text'])\n",
    "\n",
    "data = pd.DataFrame({\"text\":text,\"time\":time,\"location\":location},columns=[\"text\",\"time\",\"location\"])\n",
    "data['time'] = pd.to_datetime(data['time']).dt.date"
   ]
  },
  {
   "cell_type": "code",
   "execution_count": 61,
   "id": "edbd478b",
   "metadata": {},
   "outputs": [],
   "source": [
    "tweet_id = {'id':tweet_id}\n",
    "with open('tweet_id.json', 'w') as outfile:\n",
    "    json.dump(tweet_id, outfile)"
   ]
  },
  {
   "cell_type": "code",
   "execution_count": null,
   "id": "ebf97af9",
   "metadata": {},
   "outputs": [],
   "source": [
    "from SentimentAnalysis import *"
   ]
  },
  {
   "cell_type": "code",
   "execution_count": null,
   "id": "3cb53ed1",
   "metadata": {},
   "outputs": [],
   "source": [
    "spark = SparkSession.builder.appName('NLP').getOrCreate()"
   ]
  },
  {
   "cell_type": "code",
   "execution_count": null,
   "id": "c1f95351",
   "metadata": {},
   "outputs": [],
   "source": [
    "strip_non_ascii_udf = udf(strip_non_ascii, StringType())\n",
    "fix_abbreviation_udf = udf(fix_abbreviation, StringType())\n",
    "remove_features_udf = udf(remove_features, StringType())\n",
    "sentiment_analysis_udf = udf(sentiment_analysis , FloatType())\n",
    "sentiment_udf = udf(lambda x: condition(x), StringType())"
   ]
  },
  {
   "cell_type": "code",
   "execution_count": null,
   "id": "f7f3b66d",
   "metadata": {},
   "outputs": [],
   "source": [
    "df = spark.createDataFrame(data)\n",
    "df = df.withColumn('text_non_asci',strip_non_ascii_udf(df['text']))"
   ]
  },
  {
   "cell_type": "code",
   "execution_count": null,
   "id": "bf404d0a",
   "metadata": {},
   "outputs": [],
   "source": [
    "df = df.withColumn('fixed_abbrev',fix_abbreviation_udf(df['text_non_asci']))"
   ]
  },
  {
   "cell_type": "code",
   "execution_count": null,
   "id": "d51ba60f",
   "metadata": {},
   "outputs": [],
   "source": [
    "df = df.withColumn('removed',remove_features_udf(df['fixed_abbrev']))"
   ]
  },
  {
   "cell_type": "code",
   "execution_count": null,
   "id": "1d19cd9b",
   "metadata": {},
   "outputs": [],
   "source": [
    "df  = df.withColumn(\"sentiment_score\", sentiment_analysis_udf( df['removed'] ))"
   ]
  },
  {
   "cell_type": "code",
   "execution_count": null,
   "id": "5481743a",
   "metadata": {},
   "outputs": [],
   "source": [
    "df  = df.withColumn(\"sentiment\", sentiment_udf( df['sentiment_score'] ))\n",
    "SA_results = df.select('text','time','sentiment_score','sentiment')"
   ]
  },
  {
   "cell_type": "code",
   "execution_count": null,
   "id": "942190a1",
   "metadata": {},
   "outputs": [],
   "source": [
    "SA_results.show()"
   ]
  },
  {
   "cell_type": "code",
   "execution_count": null,
   "id": "bd80283c",
   "metadata": {},
   "outputs": [],
   "source": [
    "SA_results = SA_results.groupBy(['time','sentiment']).count()\n",
    "SA_results = SA_results.where(SA_results.sentiment=='negative').orderBy('time').show()"
   ]
  },
  {
   "cell_type": "markdown",
   "id": "2086d825",
   "metadata": {},
   "source": [
    "# Topic Model: Latent Dirichlet Allocation"
   ]
  },
  {
   "cell_type": "code",
   "execution_count": 3,
   "id": "73226ccc",
   "metadata": {},
   "outputs": [],
   "source": [
    "from TextAnalytics import *"
   ]
  },
  {
   "cell_type": "code",
   "execution_count": 4,
   "id": "b63678cc",
   "metadata": {},
   "outputs": [],
   "source": [
    "from pyspark.sql.types import ArrayType\n",
    "def to_word(text):\n",
    "    return text.split(\" \")"
   ]
  },
  {
   "cell_type": "code",
   "execution_count": 5,
   "id": "cea0acf7",
   "metadata": {},
   "outputs": [],
   "source": [
    "spark = SparkSession.builder.appName('NLP').getOrCreate()"
   ]
  },
  {
   "cell_type": "code",
   "execution_count": 6,
   "id": "6c10918f",
   "metadata": {},
   "outputs": [],
   "source": [
    "strip_non_ascii_udf = udf(strip_non_ascii, StringType())\n",
    "check_blanks_udf = udf(check_blanks, StringType())\n",
    "check_lang_udf = udf(check_lang, StringType())\n",
    "fix_abbreviation_udf = udf(fix_abbreviation, StringType())\n",
    "remove_stops_udf = udf(remove_stops, StringType())\n",
    "remove_features_udf = udf(remove_features, StringType())\n",
    "tag_and_remove_udf = udf(tag_and_remove, StringType())\n",
    "lemmatize_udf = udf(lemmatize, StringType())\n",
    "to_word_udf = udf(to_word,ArrayType(StringType()))"
   ]
  },
  {
   "cell_type": "code",
   "execution_count": 7,
   "id": "76a28a06",
   "metadata": {},
   "outputs": [],
   "source": [
    "rawdata = spark.createDataFrame(data)"
   ]
  },
  {
   "cell_type": "code",
   "execution_count": 8,
   "id": "2d060d39",
   "metadata": {},
   "outputs": [],
   "source": [
    "raw_cols =  rawdata.columns"
   ]
  },
  {
   "cell_type": "code",
   "execution_count": 9,
   "id": "2801b3ec",
   "metadata": {},
   "outputs": [],
   "source": [
    "rawdata = rawdata.withColumn('non_asci', strip_non_ascii_udf(rawdata['text']))"
   ]
  },
  {
   "cell_type": "code",
   "execution_count": 10,
   "id": "01e8692b",
   "metadata": {},
   "outputs": [],
   "source": [
    "rawdata = rawdata.select(raw_cols+['non_asci'])\\\n",
    "                 .withColumn('fixed_abbrev',fix_abbreviation_udf(rawdata['non_asci']))"
   ]
  },
  {
   "cell_type": "code",
   "execution_count": 11,
   "id": "319dfa78",
   "metadata": {},
   "outputs": [],
   "source": [
    "rawdata = rawdata.select(raw_cols+['fixed_abbrev'])\\\n",
    "                .withColumn('stop_texts',remove_stops_udf(rawdata['fixed_abbrev']))"
   ]
  },
  {
   "cell_type": "code",
   "execution_count": 12,
   "id": "9353be35",
   "metadata": {},
   "outputs": [],
   "source": [
    "rawdata=rawdata.select(raw_cols+['stop_texts'])\\\n",
    "                .withColumn('removed',remove_features_udf(rawdata['stop_texts']))"
   ]
  },
  {
   "cell_type": "code",
   "execution_count": 13,
   "id": "38049abb",
   "metadata": {},
   "outputs": [],
   "source": [
    "rawdata = rawdata.select(raw_cols+['removed'])\\\n",
    "                  .withColumn('tagged_text',tag_and_remove_udf(rawdata['removed']))"
   ]
  },
  {
   "cell_type": "code",
   "execution_count": 14,
   "id": "921d2502",
   "metadata": {},
   "outputs": [],
   "source": [
    "rawdata = rawdata.select(raw_cols+['tagged_text']) \\\n",
    "                  .withColumn('lemm_text',lemmatize_udf(rawdata['tagged_text']))"
   ]
  },
  {
   "cell_type": "code",
   "execution_count": 15,
   "id": "8b8732ad",
   "metadata": {},
   "outputs": [],
   "source": [
    "rawdata = rawdata.select(raw_cols+['lemm_text']) \\\n",
    "                  .withColumn(\"is_blank\", check_blanks_udf(rawdata[\"lemm_text\"]))"
   ]
  },
  {
   "cell_type": "code",
   "execution_count": 16,
   "id": "b984d292",
   "metadata": {},
   "outputs": [],
   "source": [
    "rawdata = rawdata.select(raw_cols+['lemm_text','is_blank']) \\\n",
    "                  .withColumn(\"word\", to_word_udf(rawdata[\"lemm_text\"]))"
   ]
  },
  {
   "cell_type": "code",
   "execution_count": 17,
   "id": "e99da818",
   "metadata": {},
   "outputs": [],
   "source": [
    "from pyspark.sql.functions import monotonically_increasing_id\n",
    "# Create Unique ID\n",
    "rawdata = rawdata.withColumn(\"uid\", monotonically_increasing_id())\n",
    "data = rawdata.filter(rawdata[\"is_blank\"] == \"False\")"
   ]
  },
  {
   "cell_type": "code",
   "execution_count": 18,
   "id": "50ed8599",
   "metadata": {},
   "outputs": [],
   "source": [
    "from pyspark.ml.feature import HashingTF, IDF, Tokenizer\n",
    "from pyspark.ml import Pipeline\n",
    "from pyspark.ml.classification import NaiveBayes, RandomForestClassifier\n",
    "from pyspark.ml.clustering import LDA\n",
    "from pyspark.ml.classification import DecisionTreeClassifier\n",
    "from pyspark.ml.evaluation import MulticlassClassificationEvaluator\n",
    "from pyspark.ml.tuning import ParamGridBuilder\n",
    "from pyspark.ml.tuning import CrossValidator\n",
    "from pyspark.ml.feature import IndexToString, StringIndexer, VectorIndexer\n",
    "from pyspark.ml.feature import CountVectorizer\n",
    "\n",
    "# Configure an ML pipeline, which consists of tree stages: tokenizer, hashingTF, and nb.\n",
    "tokenizer = Tokenizer(inputCol=\"lemm_text\", outputCol=\"words\")\n",
    "#data = tokenizer.transform(data)\n",
    "vectorizer = CountVectorizer(inputCol= \"words\", outputCol=\"rawFeatures\")\n",
    "idf = IDF(inputCol=\"rawFeatures\", outputCol=\"features\")\n",
    "#idfModel = idf.fit(data)\n",
    "\n",
    "lda = LDA(k=20, seed=1, optimizer=\"em\")"
   ]
  },
  {
   "cell_type": "code",
   "execution_count": 19,
   "id": "f9996354",
   "metadata": {},
   "outputs": [],
   "source": [
    "from pyspark.ml.feature import CountVectorizer\n",
    "\n",
    "cv = CountVectorizer(inputCol=\"word\", outputCol=\"rawFeatures\", vocabSize = 1000)\n",
    "cvmodel = cv.fit(data)\n",
    "featurizedData = cvmodel.transform(data)\n",
    "\n",
    "idf = IDF(inputCol=\"rawFeatures\", outputCol=\"features\")\n",
    "idfModel = idf.fit(featurizedData)\n",
    "rescaledData = idfModel.transform(featurizedData) # TFIDF"
   ]
  },
  {
   "cell_type": "code",
   "execution_count": 20,
   "id": "191f5bdf",
   "metadata": {},
   "outputs": [],
   "source": [
    "# \"em\" = expectation-maximization \n",
    "lda = LDA(k=5, seed=123, optimizer=\"em\", featuresCol=\"features\")\n",
    "ldamodel = lda.fit(rescaledData)\n",
    "ldatopics = ldamodel.describeTopics()"
   ]
  },
  {
   "cell_type": "code",
   "execution_count": 21,
   "id": "2b8f50a8",
   "metadata": {},
   "outputs": [],
   "source": [
    "def indices_to_terms(vocabulary):\n",
    "    def indices_to_terms(xs):\n",
    "        return [vocabulary[int(x)] for x in xs]\n",
    "    return udf(indices_to_terms, ArrayType(StringType()))"
   ]
  },
  {
   "cell_type": "code",
   "execution_count": 22,
   "id": "ab194ecf",
   "metadata": {},
   "outputs": [],
   "source": [
    "ldatopics = ldatopics.withColumn(\n",
    "    \"topics_words\", indices_to_terms(cvmodel.vocabulary)(\"termIndices\"))"
   ]
  },
  {
   "cell_type": "code",
   "execution_count": 23,
   "id": "60a41919",
   "metadata": {},
   "outputs": [
    {
     "name": "stdout",
     "output_type": "stream",
     "text": [
      "+-----+--------------------+\n",
      "|topic|        topics_words|\n",
      "+-----+--------------------+\n",
      "|    0|[covid, melbourne...|\n",
      "|    1|[covid, get, peop...|\n",
      "|    2|[covid, vaccine, ...|\n",
      "|    3|[covid, get, vacc...|\n",
      "|    4|[covid, test, cas...|\n",
      "+-----+--------------------+\n",
      "\n"
     ]
    }
   ],
   "source": [
    "ldatopics.select(['topic','topics_words']).show()"
   ]
  },
  {
   "cell_type": "code",
   "execution_count": 33,
   "id": "27aff13d",
   "metadata": {},
   "outputs": [
    {
     "name": "stderr",
     "output_type": "stream",
     "text": [
      "/usr/local/lib/python3.9/site-packages/ipykernel/ipkernel.py:283: DeprecationWarning: `should_run_async` will not call `transform_cell` automatically in the future. Please pass the result to `transformed_cell` argument and any exception that happen during thetransform in `preprocessing_exc_tuple` in IPython 7.17 and above.\n",
      "  and should_run_async(code)\n"
     ]
    }
   ],
   "source": [
    "from pyspark.ml.feature import StopWordsRemover,Tokenizer, RegexTokenizer, CountVectorizer, IDF\n",
    "from pyspark.sql.functions import udf, col, size, explode, regexp_replace, trim, lower, lit\n",
    "from pyspark.sql.types import ArrayType, StringType, DoubleType, IntegerType, LongType\n",
    "# from pyspark.ml.clustering import LDA\n",
    "import pyLDAvis\n",
    "\n",
    "import numpy as np\n",
    "def format_data_to_pyldavis(df_filtered, count_vectorizer, transformed, lda_model):\n",
    "    xxx = df_filtered.select((explode(df_filtered.word)).alias(\"words\")).groupby(\"words\").count()\n",
    "    word_counts = {r['words']:r['count'] for r in xxx.collect()}\n",
    "    word_counts = [word_counts[w] for w in count_vectorizer.vocabulary]\n",
    "\n",
    "\n",
    "    data = {'topic_term_dists': np.array(lda_model.topicsMatrix().toArray()).T, \n",
    "            'doc_topic_dists': np.array([x.toArray() for x in transformed.select([\"topicDistribution\"]).toPandas()['topicDistribution']]),\n",
    "            'doc_lengths': [r[0] for r in df_filtered.select(size(df_filtered.word)).collect()],\n",
    "            'vocab': count_vectorizer.vocabulary,\n",
    "            'term_frequency': word_counts}\n",
    "\n",
    "    return data\n",
    "\n",
    "def filter_bad_docs(data):\n",
    "    bad = 0\n",
    "    doc_topic_dists_filtrado = []\n",
    "    doc_lengths_filtrado = []\n",
    "\n",
    "    for x,y in zip(data['doc_topic_dists'], data['doc_lengths']):\n",
    "        if np.sum(x)==0:\n",
    "            bad+=1\n",
    "        elif np.sum(x) != 1:\n",
    "            bad+=1\n",
    "        elif np.isnan(x).any():\n",
    "            bad+=1\n",
    "        else:\n",
    "            doc_topic_dists_filtrado.append(x)\n",
    "            doc_lengths_filtrado.append(y)\n",
    "\n",
    "    data['doc_topic_dists'] = doc_topic_dists_filtrado\n",
    "    data['doc_lengths'] = doc_lengths_filtrado\n",
    "\n",
    "transformed = ldamodel.transform(rescaledData)\n",
    "\n",
    "# # FORMAT DATA AND PASS IT TO PYLDAVIS\n",
    "formatted = format_data_to_pyldavis(data, cvmodel, transformed, ldamodel)\n",
    "filter_bad_docs(formatted)"
   ]
  },
  {
   "cell_type": "code",
   "execution_count": 38,
   "id": "9e17aac0",
   "metadata": {},
   "outputs": [
    {
     "data": {
      "text/html": [
       "\n",
       "<link rel=\"stylesheet\" type=\"text/css\" href=\"https://cdn.jsdelivr.net/gh/bmabey/pyLDAvis@3.3.1/pyLDAvis/js/ldavis.v1.0.0.css\">\n",
       "\n",
       "\n",
       "<div id=\"ldavis_el801149882982885215679082\"></div>\n",
       "<script type=\"text/javascript\">\n",
       "\n",
       "var ldavis_el801149882982885215679082_data = {\"mdsDat\": {\"x\": [0.07986146656020587, 0.010183715797153173, 0.01833490025353896, -0.1267511086117285, 0.018371026000830595], \"y\": [0.05297428780380194, -0.11385966417710147, 0.006835458542538987, 0.02886788952502701, 0.02518202830573355], \"topics\": [1, 2, 3, 4, 5], \"cluster\": [1, 1, 1, 1, 1], \"Freq\": [20.50519879604528, 20.022706833203433, 19.9720380696737, 19.803938336539943, 19.696117964537645]}, \"tinfo\": {\"Term\": [\"crowd\", \"biggest\", \"fund\", \"mcg\", \"anzac\", \"youre\", \"pfizer\", \"afl\", \"event\", \"cost\", \"supply\", \"melbourne\", \"there\", \"way\", \"gt\", \"set\", \"game\", \"sport\", \"update\", \"johnson\", \"scott\", \"misinformation\", \"hq\", \"facebook\", \"vax\", \"name\", \"production\", \"answer\", \"little\", \"confirm\", \"blah\", \"name\", \"feeling\", \"approval\", \"source\", \"zone\", \"jhu\", \"announce\", \"there\", \"scott\", \"prime\", \"youre\", \"occur\", \"pick\", \"mutation\", \"trace\", \"phase\", \"code\", \"toll\", \"strong\", \"living\", \"red\", \"rtpcr\", \"update\", \"auckland\", \"war\", \"nd\", \"confirm\", \"cat\", \"cricketer\", \"contact\", \"havent\", \"airpo\", \"link\", \"clot\", \"astrazeneca\", \"blood\", \"april\", \"call\", \"break\", \"issue\", \"handle\", \"test\", \"find\", \"hotel\", \"perth\", \"minister\", \"positive\", \"case\", \"quarantine\", \"wa\", \"worker\", \"covid\", \"premier\", \"morrison\", \"vaccine\", \"get\", \"lockdown\", \"india\", \"new\", \"say\", \"use\", \"day\", \"year\", \"australia\", \"people\", \"announces\", \"pave\", \"customer\", \"household\", \"energy\", \"production\", \"gas\", \"style\", \"gt\", \"fund\", \"view\", \"double\", \"farmer\", \"cover\", \"million\", \"journey\", \"pull\", \"comparison\", \"worth\", \"stick\", \"truth\", \"hq\", \"pharma\", \"sir\", \"supply\", \"recovery\", \"oxford\", \"option\", \"covidisairborne\", \"crazy\", \"level\", \"pfizer\", \"dose\", \"evidence\", \"way\", \"immune\", \"victoria\", \"victorian\", \"face\", \"indian\", \"join\", \"st\", \"vaccine\", \"want\", \"india\", \"covid\", \"govt\", \"strain\", \"share\", \"think\", \"response\", \"wear\", \"people\", \"amp\", \"pandemic\", \"need\", \"get\", \"mask\", \"state\", \"die\", \"case\", \"know\", \"go\", \"australia\", \"new\", \"government\", \"health\", \"cross\", \"finger\", \"growth\", \"carry\", \"respect\", \"spent\", \"add\", \"condition\", \"difficult\", \"waste\", \"american\", \"little\", \"large\", \"weve\", \"power\", \"tax\", \"regional\", \"busy\", \"ravage\", \"wed\", \"win\", \"session\", \"deal\", \"responsible\", \"car\", \"ventilator\", \"infrastructure\", \"pass\", \"relevant\", \"protection\", \"ale\", \"western\", \"resident\", \"everyone\", \"many\", \"build\", \"ve\", \"fight\", \"lose\", \"fuck\", \"social\", \"government\", \"travel\", \"covid\", \"list\", \"people\", \"international\", \"time\", \"get\", \"shot\", \"australia\", \"amp\", \"know\", \"india\", \"test\", \"lockdown\", \"vaccine\", \"family\", \"australian\", \"state\", \"quarantine\", \"stop\", \"need\", \"day\", \"case\", \"month\", \"go\", \"flu\", \"pandemic\", \"year\", \"new\", \"help\", \"attendance\", \"mcg\", \"clash\", \"female\", \"afl\", \"plasma\", \"brain\", \"crowd\", \"spirit\", \"adult\", \"answer\", \"match\", \"sport\", \"toilet\", \"pray\", \"healthy\", \"host\", \"anzacday\", \"collingwood\", \"sit\", \"biggest\", \"ventilation\", \"worsen\", \"clean\", \"exemption\", \"anzac\", \"capacity\", \"footy\", \"seat\", \"north\", \"fan\", \"event\", \"economy\", \"dawn\", \"set\", \"attend\", \"special\", \"game\", \"delay\", \"melbourne\", \"tonight\", \"play\", \"today\", \"day\", \"record\", \"rollout\", \"covid\", \"get\", \"people\", \"mask\", \"week\", \"safe\", \"vaccine\", \"go\", \"world\", \"india\", \"outbreak\", \"australia\", \"show\", \"keep\", \"make\", \"year\", \"new\", \"combine\", \"natural\", \"craig\", \"misinformation\", \"former\", \"facebook\", \"disaster\", \"cost\", \"johnson\", \"arrival\", \"boot\", \"liberal\", \"class\", \"front\", \"mp\", \"south\", \"cdc\", \"vote\", \"politician\", \"shortage\", \"enough\", \"remove\", \"spend\", \"fed\", \"practice\", \"policy\", \"action\", \"whilst\", \"lift\", \"doc\", \"breach\", \"charge\", \"vax\", \"create\", \"bad\", \"city\", \"ban\", \"one\", \"put\", \"consider\", \"border\", \"dr\", \"take\", \"covid\", \"say\", \"th\", \"look\", \"get\", \"india\", \"go\", \"vaccine\", \"year\", \"new\", \"come\", \"australia\", \"people\", \"world\", \"see\", \"case\", \"time\", \"country\", \"amp\", \"day\", \"die\", \"vaccination\", \"work\"], \"Freq\": [5033880.0, 4264891.0, 3316189.0, 3191851.0, 3519762.0, 3095591.0, 4713151.0, 2647886.0, 3605248.0, 2587100.0, 3204180.0, 9763300.0, 2620341.0, 6618911.0, 2391609.0, 3652827.0, 4230958.0, 2342104.0, 2925452.0, 2286323.0, 2322921.0, 2059037.0, 2486790.0, 2059201.0, 3465921.0, 2016595.0, 1969321.0, 2048503.0, 2286615.0, 2612610.0, 1686936.3147975935, 2010553.7331467601, 1677338.8670555893, 1108274.0261582788, 1107980.458664842, 1105826.165579765, 1105453.0098197598, 1870754.1573191315, 2561261.9734709733, 2267947.8387187365, 1651221.4670320668, 3014561.9016723586, 1085933.0479295475, 1306811.0801304136, 1306131.5035275333, 1305299.8837236965, 1410252.9490537948, 1076120.1675017339, 1068844.1785578649, 1060229.6436067347, 942202.4091577837, 1044753.2723546772, 1701466.597722414, 2694975.0097486656, 1767671.9013047086, 1645735.4748209044, 1007177.8553002639, 2339602.8184200088, 1098598.2055859617, 1184979.6069198288, 2380987.1461748853, 1545207.6777851407, 2705447.687307407, 2005721.4258741336, 2989986.3079701103, 2278167.7692501005, 2667388.0301661105, 2400409.7161582266, 4106241.252632796, 3049310.2339646653, 2872013.8837775863, 1778975.224795357, 6764929.3371998025, 3097937.058548999, 4698088.5381284645, 4112746.181895145, 2215997.1106463526, 3589348.734620809, 5546803.48571083, 4604260.259229603, 3648387.5735641993, 2773017.7668470345, 6772237.619395547, 2638808.240974533, 2829749.6563330274, 5433339.750259892, 5010403.687302496, 3528870.811785097, 4050845.000571094, 3367458.2211980117, 3270402.9713662057, 2744806.0263230335, 2912865.6418493693, 2812936.5575041254, 2805152.1924626855, 2718906.1538752853, 1654722.586671501, 1213770.1674578558, 1347919.226507603, 1097359.7758600581, 1212789.1961749932, 1963219.6373261854, 1756672.1745139542, 1432101.3955244315, 2375222.590171378, 3280790.696903878, 1083355.8986799608, 961382.690275659, 1121923.1568396736, 1722101.2011922884, 1291228.8299567502, 1067980.7817084298, 1282522.3341347836, 1057369.0091184154, 1051909.68137197, 1595766.3762944175, 920374.7797053655, 2326576.759738378, 1042865.9040879287, 1121085.8414110222, 2936279.1528937253, 1608004.4418686938, 995510.7073417673, 872843.2257900176, 970842.9341390732, 857134.1450069265, 1860836.5826749837, 3865657.7877583597, 2153126.3080867575, 1583613.0412437913, 4541823.324412822, 1576766.580304734, 4306013.955775833, 3438417.700366613, 2156879.750599566, 2899782.0986443684, 1813612.248437329, 1687229.892886424, 6215052.644167003, 2732000.087981718, 5063337.021411902, 6232697.552037477, 2219130.1967170695, 1850703.899999144, 1956012.5719538901, 3041072.198274621, 2380224.691503892, 2049027.5872300141, 3751531.198529631, 3276897.7046248573, 2811836.6733478555, 2685040.9538751324, 3418467.602494871, 2347431.6691609123, 2445243.3153963867, 2369209.532661163, 2598331.948875306, 2416631.9305256885, 2460364.6432810295, 2356628.5126953903, 2306340.315821567, 2247847.2657861765, 2222457.899413985, 1114556.1567957501, 996075.2726994809, 1223400.3929215397, 984709.7069388068, 1074956.364454281, 947578.4339656668, 1061050.4368987207, 1056415.284762135, 1049410.099709885, 1158689.9014627347, 1895450.1129995824, 2166816.0241993098, 1137415.8278058544, 1027636.5263262454, 1023676.3604894856, 910619.2376100979, 1433901.274034865, 1009704.6459923392, 1520488.0578871716, 1007980.464685108, 1602249.795902047, 992865.4088910935, 1586317.304359145, 1213500.4218031634, 1499322.2740141456, 870937.5560453614, 960938.8072086355, 1159490.4519478541, 851804.0698405881, 1139049.7766239285, 1364147.723610254, 2117000.112258974, 1499712.9600176895, 2077176.0931801458, 4017145.24197311, 1705111.9086240928, 2269531.1940304143, 1991709.2311786546, 1931458.6042075362, 2375632.527882209, 1745583.3586396845, 3803574.8867323725, 2352499.9495079517, 6560816.824882147, 1400841.0842027874, 4637949.736748068, 1891288.8176359104, 3651055.857082633, 5106061.596334669, 2122986.137793647, 4059723.0824574945, 3636468.5171310767, 3201278.3109382177, 4330010.811886653, 3609164.282015838, 3138284.8814323517, 4091047.2684892644, 2297916.337030892, 2754314.639768937, 2771307.305066723, 2916313.7188097523, 2465520.956965046, 2688898.972404339, 2914436.109849803, 2902816.743872423, 2297876.2069686768, 2692760.8436479573, 2255450.53659568, 2439844.340498515, 2482974.7899418585, 2429176.3249260006, 2281951.553652725, 1083817.0167898904, 3178634.662540053, 1308575.2853115373, 1417862.7754532932, 2627642.6105187633, 1121815.418578821, 1408124.8049867619, 4966717.722250805, 1116586.7350446647, 1422523.6141152645, 2015413.877541756, 953295.8781873849, 2296818.085104601, 951387.7820088872, 1062590.801273707, 1512791.8219042255, 1591389.6756808273, 939603.7774890629, 1582363.9736171549, 1679472.4320370522, 4103992.4430510276, 932134.6680401709, 1042219.639253897, 973994.2445791077, 1040916.5002103964, 3348989.3992211362, 1557409.1352812622, 1139754.0026025234, 1594608.7577883527, 1732012.1418789108, 1844191.0224455446, 3204848.6971158264, 1815741.5893607656, 1425536.2824653555, 3077610.9909821493, 2073928.2842028758, 2050508.6910732056, 3312748.070592162, 2455930.762167011, 5780647.149890399, 1833523.625496043, 2023427.216016547, 3801708.400166915, 4859126.596202748, 2846817.436253919, 2207222.179436012, 6140139.083308243, 4879512.729649351, 4243982.15777219, 2784373.5922307773, 2830294.914332128, 2658287.8752868706, 4062669.7896479955, 3449506.7631125473, 2771692.7010485874, 3435275.180246353, 2190521.3070396944, 2667645.528047572, 2221738.054196568, 2232927.8310215403, 2259172.2406713148, 2259413.06210246, 2240356.7057595295, 1078704.9336803951, 1191748.5325875035, 1411905.9507764718, 2037185.2458212827, 1313641.0032037173, 2032909.85201992, 1604178.3946764334, 2532707.739480292, 2237105.337754085, 1505317.2947798532, 1052772.0399747512, 1265041.4202036785, 930320.7855907067, 929408.0639898668, 929979.8731480446, 1147367.7761992388, 1142388.5938886432, 1118004.5010750869, 1414743.55857518, 1022753.232124763, 1202200.3338869517, 1705964.6066801148, 1108572.3283719814, 982555.3978289948, 1160513.0550624589, 1622367.4798990255, 1971667.170578328, 837758.9741841239, 1032959.6031617799, 1031307.6234076561, 1306290.3109560779, 1214710.2848105126, 2691924.853680515, 1806645.1851241256, 2388023.3905326244, 1967311.7950322235, 1773470.9853069396, 1340920.7719816975, 2501800.6502354844, 1863231.1945453607, 2389211.2504771063, 1930673.0204698413, 3826187.6173279975, 6911006.637524481, 3761134.6558909337, 2370084.7209912827, 2955087.71605395, 4582985.232493243, 4192885.6418566266, 3583222.4426640635, 4202051.72624484, 3207744.7421578844, 3010573.166073417, 2553076.6472487147, 3022106.5587442894, 3201431.9682811936, 2641767.0416632807, 2554110.5428006034, 2897988.103264087, 2555731.4070489667, 2370905.137864282, 2439513.594258915, 2382229.375477999, 2234254.511184888, 2137501.6952185836, 2133259.919047647], \"Total\": [5033880.0, 4264891.0, 3316189.0, 3191851.0, 3519762.0, 3095591.0, 4713151.0, 2647886.0, 3605248.0, 2587100.0, 3204180.0, 9763300.0, 2620341.0, 6618911.0, 2391609.0, 3652827.0, 4230958.0, 2342104.0, 2925452.0, 2286323.0, 2322921.0, 2059037.0, 2486790.0, 2059201.0, 3465921.0, 2016595.0, 1969321.0, 2048503.0, 2286615.0, 2612610.0, 1688642.15845492, 2016595.1577429136, 1695833.59471897, 1125288.604880547, 1125263.5995199329, 1125153.4849924203, 1125200.7333210171, 1910292.9410005442, 2620341.554233653, 2322921.7100391304, 1695052.813615957, 3095591.2191811437, 1124669.878052412, 1358888.8593165402, 1358893.0367377533, 1359091.6239263115, 1472426.0177422303, 1124402.5752420635, 1124113.8987755938, 1123865.1432234324, 1002562.0917244287, 1123449.3356989045, 1846757.54154996, 2925452.91105801, 1928286.6719939143, 1799909.441589226, 1122219.1923355565, 2612610.660578781, 1239435.8296906052, 1355550.7962663865, 2802329.7289455836, 1796193.1679684764, 3352769.2896786127, 2411620.8133387608, 3877461.6877988293, 2893082.129405317, 3549675.4697825443, 3168173.063298091, 6747758.872435136, 4612166.889879242, 4311707.340693097, 2208214.1516726553, 14988345.30465321, 5156257.548184304, 9955880.560610786, 8677241.999925833, 3270235.7705660635, 7321846.616997089, 15939461.347439446, 11766470.673060788, 8184444.901557562, 4883836.787035223, 32616897.717147894, 4566156.341798412, 5401911.3840298, 24004161.178808995, 22997430.84827463, 10932812.26268587, 21072353.65597263, 13353904.733778525, 13455205.970890064, 6803671.305122327, 14437817.043141657, 12786531.762208575, 14911255.87440743, 18553801.21520637, 1656436.5154803968, 1215090.9651497335, 1350099.7806966903, 1099300.8890994058, 1215087.1369374068, 1969321.8439457838, 1762228.438195043, 1439706.9634134914, 2391609.9644712894, 3316189.5600464037, 1099212.365815616, 980772.1901503126, 1145603.5311580573, 1762129.178130005, 1328467.5588971507, 1099341.5860938043, 1328620.4537844523, 1099105.7367693665, 1099271.3279595505, 1678329.9365874673, 980420.9190557367, 2486790.884979189, 1120170.716339764, 1216475.4379456805, 3204180.5475512636, 1762444.9099330814, 1101154.0727929154, 981309.9434577312, 1098795.6328255278, 980218.2139914543, 2169461.426737814, 4713151.830625101, 2585770.6178845516, 1869722.4927621598, 6618911.070156341, 1886041.1527498, 8767600.77740759, 7090915.36213905, 3425981.4448631974, 5600858.943150915, 2674797.787450205, 2372798.360313938, 24004161.178808995, 5773488.642110384, 21072353.65597263, 32616897.717147894, 4555807.13179532, 3045885.4869849365, 3475088.693705059, 10305416.628098039, 5637639.175934321, 3903921.146087937, 18553801.21520637, 13683997.900972834, 10300305.172981996, 9943607.48685993, 22997430.84827463, 6853361.098573925, 10121217.870426878, 9102923.138236197, 15939461.347439446, 10493703.955058988, 14844011.917483956, 14911255.87440743, 13353904.733778525, 10707435.216869976, 9340145.633043734, 1118118.3179440473, 999943.0034185653, 1233588.2177532201, 999902.5418922473, 1096454.3617708478, 978272.4601649452, 1096644.4405395437, 1096408.058922892, 1096537.8851585537, 1211729.8843392842, 1986189.7140611275, 2286615.8447183394, 1212506.8460151663, 1096831.097405871, 1096715.6731606147, 977900.7417845265, 1544445.7928539221, 1096128.9524957396, 1651843.1056524839, 1095901.923249994, 1759378.1635706285, 1096192.5846301406, 1757321.6211060171, 1345987.786758813, 1673080.532032774, 977590.2402601694, 1096464.3085319246, 1326544.8620335422, 977969.3252140912, 1324756.2338515122, 1655143.8753907487, 2971373.0357453753, 1969539.2834549525, 3214832.119795505, 8444724.987941166, 2415607.4538037684, 3825081.647728327, 3126487.0244850963, 2995737.703340505, 4184065.5143695027, 2668143.9522655606, 10707435.216869976, 4775310.065654028, 32616897.717147894, 1882266.1508655648, 18553801.21520637, 3325542.092629382, 11843444.121883905, 22997430.84827463, 4163067.057449475, 14911255.87440743, 13683997.900972834, 10493703.955058988, 21072353.65597263, 14988345.30465321, 10932812.26268587, 24004161.178808995, 5557471.869842489, 9820960.630509527, 10121217.870426878, 11766470.673060788, 7497100.557647906, 9943607.48685993, 14437817.043141657, 15939461.347439446, 6225290.134376713, 14844011.917483956, 5917346.301110782, 10300305.172981996, 12786531.762208575, 13353904.733778525, 7153782.146709206, 1087327.8315105857, 3191851.822597447, 1314020.370728477, 1424039.176531196, 2647886.7512366595, 1133272.0247313776, 1424139.5400085172, 5033880.671502359, 1133309.3307989151, 1445590.8279300355, 2048503.6167572348, 970205.3816045823, 2342104.0303814826, 970198.2940641852, 1087568.235983815, 1553931.9349331139, 1638428.0166924032, 970134.6519304588, 1638816.9235914226, 1743432.9760912892, 4264891.297800443, 970678.7425643884, 1087637.8713702287, 1017169.5753533832, 1088059.5855490325, 3519762.471924857, 1639138.1107436612, 1201951.9831227942, 1683000.598300734, 1848618.5194361608, 1970639.9988175097, 3605248.014864046, 1970545.2491812576, 1534354.322018833, 3652827.6116240546, 2366766.2611102513, 2368774.9796211394, 4230958.465601344, 3000188.939477028, 9763300.81067814, 2248970.2399176373, 2653011.6599390446, 8213227.854757362, 14437817.043141657, 5609800.270004315, 3530607.959755963, 32616897.717147894, 22997430.84827463, 18553801.21520637, 6853361.098573925, 7219839.383299791, 6801924.597070021, 24004161.178808995, 14844011.917483956, 9738491.325818442, 21072353.65597263, 4486661.805740112, 14911255.87440743, 5371133.269455936, 5662482.1380966995, 10063598.788335454, 12786531.762208575, 13353904.733778525, 1081430.1649070184, 1195344.4937508309, 1416350.3531124382, 2059037.4046379572, 1328423.6644243065, 2059201.7257477376, 1629884.1449984196, 2587100.4495612914, 2286323.48418613, 1545819.2057263998, 1082319.1253344666, 1308070.03986558, 965533.5645517727, 965235.4546636193, 965952.6610773908, 1196018.5438498443, 1196081.3108203006, 1196740.658044923, 1525688.5192582202, 1105148.164569135, 1308072.7393397454, 1861568.4883536743, 1218380.3396843597, 1082889.9293869983, 1309381.4131571925, 1841503.146055805, 2238807.7832466196, 966061.2244840424, 1198076.005654145, 1201851.3945685306, 1531242.9527826027, 1421085.9606993773, 3465921.9418781223, 2240635.6742709256, 3347227.1813525055, 2623354.69817832, 2436845.2264161524, 1633394.1401582952, 4251287.516629029, 2717848.151900464, 4498435.77362327, 3118694.2846459453, 10783125.908340553, 32616897.717147894, 13455205.970890064, 5389321.484927776, 8628815.482896626, 22997430.84827463, 21072353.65597263, 14844011.917483956, 24004161.178808995, 12786531.762208575, 13353904.733778525, 8254129.681065492, 14911255.87440743, 18553801.21520637, 9738491.325818442, 8994050.4767853, 15939461.347439446, 11843444.121883905, 8878264.496947773, 13683997.900972834, 14437817.043141657, 9102923.138236197, 8930531.776957039, 8652025.240361458], \"Category\": [\"Default\", \"Default\", \"Default\", \"Default\", \"Default\", \"Default\", \"Default\", \"Default\", \"Default\", \"Default\", \"Default\", \"Default\", \"Default\", \"Default\", \"Default\", \"Default\", \"Default\", \"Default\", \"Default\", \"Default\", \"Default\", \"Default\", \"Default\", \"Default\", \"Default\", \"Default\", \"Default\", \"Default\", \"Default\", \"Default\", \"Topic1\", \"Topic1\", \"Topic1\", \"Topic1\", \"Topic1\", \"Topic1\", \"Topic1\", \"Topic1\", \"Topic1\", \"Topic1\", \"Topic1\", \"Topic1\", \"Topic1\", \"Topic1\", \"Topic1\", \"Topic1\", \"Topic1\", \"Topic1\", \"Topic1\", \"Topic1\", \"Topic1\", \"Topic1\", \"Topic1\", \"Topic1\", \"Topic1\", \"Topic1\", \"Topic1\", \"Topic1\", \"Topic1\", \"Topic1\", \"Topic1\", \"Topic1\", \"Topic1\", \"Topic1\", \"Topic1\", \"Topic1\", \"Topic1\", \"Topic1\", \"Topic1\", \"Topic1\", \"Topic1\", \"Topic1\", \"Topic1\", \"Topic1\", \"Topic1\", \"Topic1\", \"Topic1\", \"Topic1\", \"Topic1\", \"Topic1\", \"Topic1\", \"Topic1\", \"Topic1\", \"Topic1\", \"Topic1\", \"Topic1\", \"Topic1\", \"Topic1\", \"Topic1\", \"Topic1\", \"Topic1\", \"Topic1\", \"Topic1\", \"Topic1\", \"Topic1\", \"Topic1\", \"Topic2\", \"Topic2\", \"Topic2\", \"Topic2\", \"Topic2\", \"Topic2\", \"Topic2\", \"Topic2\", \"Topic2\", \"Topic2\", \"Topic2\", \"Topic2\", \"Topic2\", \"Topic2\", \"Topic2\", \"Topic2\", \"Topic2\", \"Topic2\", \"Topic2\", \"Topic2\", \"Topic2\", \"Topic2\", \"Topic2\", \"Topic2\", \"Topic2\", \"Topic2\", \"Topic2\", \"Topic2\", \"Topic2\", \"Topic2\", \"Topic2\", \"Topic2\", \"Topic2\", \"Topic2\", \"Topic2\", \"Topic2\", \"Topic2\", \"Topic2\", \"Topic2\", \"Topic2\", \"Topic2\", \"Topic2\", \"Topic2\", \"Topic2\", \"Topic2\", \"Topic2\", \"Topic2\", \"Topic2\", \"Topic2\", \"Topic2\", \"Topic2\", \"Topic2\", \"Topic2\", \"Topic2\", \"Topic2\", \"Topic2\", \"Topic2\", \"Topic2\", \"Topic2\", \"Topic2\", \"Topic2\", \"Topic2\", \"Topic2\", \"Topic2\", \"Topic2\", \"Topic2\", \"Topic2\", \"Topic3\", \"Topic3\", \"Topic3\", \"Topic3\", \"Topic3\", \"Topic3\", \"Topic3\", \"Topic3\", \"Topic3\", \"Topic3\", \"Topic3\", \"Topic3\", \"Topic3\", \"Topic3\", \"Topic3\", \"Topic3\", \"Topic3\", \"Topic3\", \"Topic3\", \"Topic3\", \"Topic3\", \"Topic3\", \"Topic3\", \"Topic3\", \"Topic3\", \"Topic3\", \"Topic3\", \"Topic3\", \"Topic3\", \"Topic3\", \"Topic3\", \"Topic3\", \"Topic3\", \"Topic3\", \"Topic3\", \"Topic3\", \"Topic3\", \"Topic3\", \"Topic3\", \"Topic3\", \"Topic3\", \"Topic3\", \"Topic3\", \"Topic3\", \"Topic3\", \"Topic3\", \"Topic3\", \"Topic3\", \"Topic3\", \"Topic3\", \"Topic3\", \"Topic3\", \"Topic3\", \"Topic3\", \"Topic3\", \"Topic3\", \"Topic3\", \"Topic3\", \"Topic3\", \"Topic3\", \"Topic3\", \"Topic3\", \"Topic3\", \"Topic3\", \"Topic3\", \"Topic3\", \"Topic3\", \"Topic3\", \"Topic3\", \"Topic3\", \"Topic3\", \"Topic3\", \"Topic4\", \"Topic4\", \"Topic4\", \"Topic4\", \"Topic4\", \"Topic4\", \"Topic4\", \"Topic4\", \"Topic4\", \"Topic4\", \"Topic4\", \"Topic4\", \"Topic4\", \"Topic4\", \"Topic4\", \"Topic4\", \"Topic4\", \"Topic4\", \"Topic4\", \"Topic4\", \"Topic4\", \"Topic4\", \"Topic4\", \"Topic4\", \"Topic4\", \"Topic4\", \"Topic4\", \"Topic4\", \"Topic4\", \"Topic4\", \"Topic4\", \"Topic4\", \"Topic4\", \"Topic4\", \"Topic4\", \"Topic4\", \"Topic4\", \"Topic4\", \"Topic4\", \"Topic4\", \"Topic4\", \"Topic4\", \"Topic4\", \"Topic4\", \"Topic4\", \"Topic4\", \"Topic4\", \"Topic4\", \"Topic4\", \"Topic4\", \"Topic4\", \"Topic4\", \"Topic4\", \"Topic4\", \"Topic4\", \"Topic4\", \"Topic4\", \"Topic4\", \"Topic4\", \"Topic4\", \"Topic4\", \"Topic4\", \"Topic4\", \"Topic5\", \"Topic5\", \"Topic5\", \"Topic5\", \"Topic5\", \"Topic5\", \"Topic5\", \"Topic5\", \"Topic5\", \"Topic5\", \"Topic5\", \"Topic5\", \"Topic5\", \"Topic5\", \"Topic5\", \"Topic5\", \"Topic5\", \"Topic5\", \"Topic5\", \"Topic5\", \"Topic5\", \"Topic5\", \"Topic5\", \"Topic5\", \"Topic5\", \"Topic5\", \"Topic5\", \"Topic5\", \"Topic5\", \"Topic5\", \"Topic5\", \"Topic5\", \"Topic5\", \"Topic5\", \"Topic5\", \"Topic5\", \"Topic5\", \"Topic5\", \"Topic5\", \"Topic5\", \"Topic5\", \"Topic5\", \"Topic5\", \"Topic5\", \"Topic5\", \"Topic5\", \"Topic5\", \"Topic5\", \"Topic5\", \"Topic5\", \"Topic5\", \"Topic5\", \"Topic5\", \"Topic5\", \"Topic5\", \"Topic5\", \"Topic5\", \"Topic5\", \"Topic5\", \"Topic5\", \"Topic5\", \"Topic5\", \"Topic5\", \"Topic5\", \"Topic5\", \"Topic5\"], \"logprob\": [30.0, 29.0, 28.0, 27.0, 26.0, 25.0, 24.0, 23.0, 22.0, 21.0, 20.0, 19.0, 18.0, 17.0, 16.0, 15.0, 14.0, 13.0, 12.0, 11.0, 10.0, 9.0, 8.0, 7.0, 6.0, 5.0, 4.0, 3.0, 2.0, 1.0, 5.0271, 5.2026, 5.0214, 4.607, 4.6067, 4.6048, 4.6044, 5.1305, 5.4447, 5.323, 5.0057, 5.6076, 4.5866, 4.7718, 4.7712, 4.7706, 4.8479, 4.5775, 4.5707, 4.5627, 4.4446, 4.548, 5.0357, 5.4956, 5.0738, 5.0024, 4.5113, 5.3542, 4.5982, 4.6739, 5.3717, 4.9393, 5.4994, 5.2002, 5.5994, 5.3275, 5.4853, 5.3798, 5.9167, 5.6191, 5.5592, 5.0802, 6.4159, 5.6349, 6.0513, 5.9183, 5.2999, 5.7821, 6.2174, 6.0312, 5.7985, 5.5241, 6.417, 5.4745, 5.5444, 6.1967, 6.1157, 5.7651, 5.9031, 5.7183, 5.6891, 5.5139, 5.5733, 5.5384, 5.5356, 5.5044, 5.0316, 4.7217, 4.8265, 4.6209, 4.7209, 5.2026, 5.0914, 4.8871, 5.3931, 5.7161, 4.608, 4.4886, 4.643, 5.0715, 4.7836, 4.5938, 4.7768, 4.5838, 4.5786, 4.9953, 4.445, 5.3724, 4.57, 4.6423, 5.6051, 5.003, 4.5235, 4.392, 4.4984, 4.3738, 5.149, 5.8801, 5.2949, 4.9877, 6.0413, 4.9834, 5.988, 5.763, 5.2966, 5.5926, 5.1233, 5.0511, 6.355, 5.533, 6.15, 6.3578, 5.3251, 5.1435, 5.1989, 5.6402, 5.3952, 5.2453, 5.8501, 5.7149, 5.5618, 5.5157, 5.7572, 5.3813, 5.4221, 5.3905, 5.4829, 5.4104, 5.4283, 5.3852, 5.3636, 5.338, 5.3266, 4.639, 4.5266, 4.7322, 4.5151, 4.6028, 4.4767, 4.5898, 4.5854, 4.5787, 4.6778, 5.17, 5.3038, 4.6593, 4.5578, 4.5539, 4.4369, 4.8909, 4.5402, 4.9495, 4.5385, 5.0019, 4.5234, 4.9919, 4.724, 4.9355, 4.3923, 4.4907, 4.6785, 4.3701, 4.6607, 4.841, 5.2805, 4.9358, 5.2615, 5.9211, 5.0641, 5.3501, 5.2195, 5.1888, 5.3958, 5.0876, 5.8665, 5.386, 6.4116, 4.8676, 6.0648, 5.1678, 5.8255, 6.1609, 5.2833, 5.9316, 5.8215, 5.6941, 5.9961, 5.814, 5.6742, 5.9393, 5.3625, 5.5437, 5.5498, 5.6008, 5.4329, 5.5196, 5.6002, 5.5962, 5.3625, 5.5211, 5.3439, 5.4225, 5.44, 5.4181, 5.3555, 4.6195, 5.6954, 4.8079, 4.8881, 5.5051, 4.6539, 4.8812, 6.1417, 4.6492, 4.8914, 5.2398, 4.4911, 5.3705, 4.4891, 4.5997, 4.9529, 5.0036, 4.4767, 4.9979, 5.0574, 5.9509, 4.4687, 4.5803, 4.5126, 4.5791, 5.7476, 4.982, 4.6698, 5.0056, 5.0883, 5.151, 5.7036, 5.1355, 4.8935, 5.6631, 5.2684, 5.2571, 5.7367, 5.4375, 6.2935, 5.1452, 5.2438, 5.8744, 6.1198, 5.5852, 5.3307, 6.3538, 6.124, 5.9845, 5.563, 5.5793, 5.5167, 5.9408, 5.7772, 5.5584, 5.7731, 5.3231, 5.5202, 5.3373, 5.3423, 5.354, 5.3541, 5.3456, 4.6202, 4.7198, 4.8894, 5.256, 4.8172, 5.2539, 5.017, 5.4737, 5.3496, 4.9534, 4.5959, 4.7795, 4.4722, 4.4712, 4.4718, 4.6819, 4.6775, 4.656, 4.8914, 4.5669, 4.7286, 5.0786, 4.6475, 4.5268, 4.6933, 5.0283, 5.2233, 4.3674, 4.5769, 4.5753, 4.8116, 4.7389, 5.5347, 5.1359, 5.4149, 5.2211, 5.1174, 4.8378, 5.4614, 5.1667, 5.4154, 5.2023, 5.8863, 6.4775, 5.8691, 5.4074, 5.628, 6.0668, 5.9778, 5.8207, 5.98, 5.71, 5.6466, 5.4817, 5.6504, 5.708, 5.5159, 5.4821, 5.6084, 5.4828, 5.4077, 5.4362, 5.4125, 5.3483, 5.3041, 5.3021], \"loglift\": [30.0, 29.0, 28.0, 27.0, 26.0, 25.0, 24.0, 23.0, 22.0, 21.0, 20.0, 19.0, 18.0, 17.0, 16.0, 15.0, 14.0, 13.0, 12.0, 11.0, 10.0, 9.0, 8.0, 7.0, 6.0, 5.0, 4.0, 3.0, 2.0, 1.0, 12.4063, 12.4043, 12.3964, 12.3921, 12.3919, 12.39, 12.3896, 12.3864, 12.3845, 12.3834, 12.3811, 12.3808, 12.3723, 12.3683, 12.3677, 12.3669, 12.3642, 12.3634, 12.3569, 12.349, 12.3452, 12.3347, 12.3254, 12.3253, 12.3204, 12.3178, 12.2992, 12.297, 12.2867, 12.2728, 12.2444, 12.2568, 12.1928, 12.223, 12.1474, 12.1684, 12.1216, 12.1298, 11.9106, 11.9935, 12.001, 12.1912, 11.6118, 11.8979, 11.6563, 11.6607, 12.0182, 11.6944, 11.3518, 11.4691, 11.5994, 11.8413, 10.8353, 11.859, 11.7608, 10.9217, 10.8835, 11.2765, 10.7583, 11.0297, 10.9929, 11.4996, 10.8066, 10.8932, 10.7367, 10.4869, 12.4301, 12.4301, 12.4295, 12.4294, 12.4292, 12.428, 12.428, 12.4258, 12.4243, 12.4204, 12.4166, 12.4112, 12.4103, 12.4082, 12.4027, 12.4022, 12.3958, 12.3924, 12.3871, 12.3807, 12.3679, 12.3645, 12.3596, 12.3495, 12.3438, 12.3394, 12.3303, 12.314, 12.3073, 12.297, 12.2777, 12.2329, 12.248, 12.2651, 12.0545, 12.252, 11.7201, 11.7073, 11.9684, 11.7729, 12.0426, 12.0902, 11.0799, 11.6829, 11.0052, 10.7761, 11.7119, 11.9329, 11.8564, 11.2107, 11.5689, 11.7865, 10.8326, 11.0018, 11.1328, 11.1219, 10.525, 11.3597, 11.0107, 11.0851, 10.6172, 10.9627, 10.6339, 10.5863, 10.675, 10.8702, 10.9954, 12.4305, 12.4298, 12.4254, 12.4184, 12.4139, 12.4018, 12.4007, 12.3965, 12.3897, 12.3889, 12.3869, 12.3799, 12.3697, 12.3685, 12.3648, 12.3624, 12.3594, 12.3515, 12.3508, 12.35, 12.3401, 12.3347, 12.3313, 12.3301, 12.324, 12.3182, 12.3017, 12.2991, 12.2956, 12.2826, 12.2403, 12.0947, 12.1611, 11.9969, 11.6907, 12.0854, 11.9117, 11.9828, 11.9948, 11.8677, 12.0094, 11.3987, 11.7257, 10.83, 12.1383, 11.0473, 11.8693, 11.2569, 10.9287, 11.7602, 11.1327, 11.1085, 11.2465, 10.8513, 11.0099, 11.1856, 10.6642, 11.5505, 11.1623, 11.1384, 11.0387, 11.3216, 11.1259, 10.8335, 10.7306, 11.437, 10.7266, 11.4691, 10.9934, 10.7947, 10.7294, 11.2911, 12.4389, 12.438, 12.438, 12.4378, 12.4345, 12.432, 12.4308, 12.4287, 12.4273, 12.426, 12.4258, 12.4245, 12.4226, 12.4225, 12.4189, 12.4153, 12.413, 12.4102, 12.4071, 12.4048, 12.4037, 12.4016, 12.3995, 12.3988, 12.3978, 12.3924, 12.391, 12.389, 12.3882, 12.377, 12.3758, 12.3244, 12.3603, 12.3686, 12.2708, 12.31, 12.2978, 12.1975, 12.242, 11.918, 12.2379, 12.1712, 11.6718, 11.3531, 11.7638, 11.9724, 10.7721, 10.8918, 10.967, 11.5414, 11.5057, 11.5026, 10.6657, 10.9828, 11.1855, 10.6283, 11.7252, 10.7212, 11.5594, 11.5116, 10.9482, 10.7088, 10.657, 12.4451, 12.4446, 12.4444, 12.4369, 12.4364, 12.4347, 12.4317, 12.4263, 12.4258, 12.421, 12.4199, 12.4141, 12.4104, 12.4098, 12.4096, 12.4061, 12.4017, 12.3795, 12.3721, 12.3701, 12.3632, 12.3603, 12.3531, 12.3504, 12.3269, 12.3209, 12.3205, 12.3051, 12.2993, 12.2946, 12.2887, 12.2907, 12.1949, 12.2323, 12.1099, 12.1598, 12.1298, 12.2503, 11.9174, 12.0701, 11.8148, 11.968, 11.4115, 10.8959, 11.1729, 11.6261, 11.376, 10.8346, 10.833, 11.0263, 10.7049, 11.0648, 10.9579, 11.2742, 10.8514, 10.6905, 11.1429, 11.1887, 10.7428, 10.9142, 11.1273, 10.7232, 10.6458, 11.0429, 11.0177, 11.0474]}, \"token.table\": {\"Topic\": [1, 2, 3, 4, 5, 1, 2, 3, 4, 5, 1, 2, 3, 4, 5, 1, 2, 3, 4, 5, 1, 2, 3, 4, 5, 1, 2, 3, 4, 5, 1, 2, 3, 4, 5, 1, 2, 3, 4, 5, 1, 2, 3, 4, 5, 1, 2, 3, 4, 5, 1, 2, 3, 4, 5, 1, 2, 3, 4, 5, 1, 2, 3, 4, 5, 1, 2, 3, 4, 5, 1, 2, 3, 4, 5, 1, 2, 3, 4, 5, 1, 2, 3, 4, 5, 1, 2, 3, 4, 5, 1, 2, 3, 4, 5, 1, 2, 3, 4, 5, 1, 2, 3, 4, 5, 1, 2, 3, 4, 5, 1, 2, 3, 4, 5, 1, 2, 3, 4, 5, 1, 2, 3, 4, 5, 1, 2, 3, 4, 5, 1, 2, 3, 4, 5, 1, 2, 3, 4, 5, 1, 2, 3, 4, 5, 1, 2, 3, 4, 5, 1, 2, 3, 4, 5, 1, 2, 3, 4, 5, 1, 2, 3, 4, 5, 1, 2, 3, 4, 5, 1, 2, 3, 4, 5, 1, 2, 3, 4, 5, 1, 2, 3, 4, 5, 1, 2, 3, 4, 5, 1, 2, 3, 4, 5, 1, 2, 3, 4, 5, 1, 2, 3, 4, 5, 1, 2, 3, 4, 5, 1, 2, 3, 4, 5, 1, 2, 3, 4, 5, 1, 2, 3, 4, 5, 1, 2, 3, 4, 5, 1, 2, 3, 4, 5, 1, 2, 3, 4, 5, 1, 2, 3, 4, 5, 1, 2, 3, 4, 5, 1, 2, 3, 4, 5, 1, 2, 3, 4, 5, 1, 2, 3, 4, 5, 1, 2, 3, 4, 5, 1, 2, 3, 4, 5, 1, 2, 3, 4, 5, 1, 2, 3, 4, 5, 1, 2, 3, 4, 5, 1, 2, 3, 4, 5, 1, 2, 3, 4, 5, 1, 2, 3, 4, 5, 1, 2, 3, 4, 5, 1, 2, 3, 4, 5, 1, 2, 3, 4, 5, 1, 2, 3, 4, 5, 1, 2, 3, 4, 5, 1, 2, 3, 4, 5, 1, 2, 3, 4, 5, 1, 2, 3, 4, 5, 1, 2, 3, 4, 5, 1, 2, 3, 4, 5, 1, 2, 3, 4, 5, 1, 2, 3, 4, 5, 1, 2, 3, 4, 5, 1, 2, 3, 4, 5, 1, 2, 3, 4, 5, 1, 2, 3, 4, 5, 1, 2, 3, 4, 5, 1, 2, 3, 4, 5, 1, 2, 3, 4, 5, 1, 2, 3, 4, 5, 1, 2, 3, 4, 5, 1, 2, 3, 4, 5, 1, 2, 3, 4, 5, 1, 2, 3, 4, 5, 1, 2, 3, 4, 5, 1, 2, 3, 4, 5, 1, 2, 3, 4, 5, 1, 2, 3, 4, 5, 1, 2, 3, 4, 5, 1, 2, 3, 4, 5, 1, 2, 3, 4, 5, 1, 2, 3, 4, 5, 1, 2, 3, 4, 5, 1, 2, 3, 4, 5, 1, 2, 3, 4, 5, 1, 2, 3, 4, 5, 1, 2, 3, 4, 5, 1, 2, 3, 4, 5, 1, 2, 3, 4, 5, 1, 2, 3, 4, 5, 1, 2, 3, 4, 5, 1, 2, 3, 4, 5, 1, 2, 3, 4, 5, 1, 2, 3, 4, 5, 1, 2, 3, 4, 5, 1, 2, 3, 4, 5, 1, 2, 3, 4, 5, 1, 2, 3, 4, 5, 1, 2, 3, 4, 5, 1, 2, 3, 4, 5, 1, 2, 3, 4, 5, 1, 2, 3, 4, 5, 1, 2, 3, 4, 5, 1, 2, 3, 4, 5, 1, 2, 3, 4, 5, 1, 2, 3, 4, 5, 1, 2, 3, 4, 5, 1, 2, 3, 4, 5, 1, 2, 3, 4, 5, 1, 2, 3, 4, 5, 1, 2, 3, 4, 5, 1, 2, 3, 4, 5, 1, 2, 3, 4, 5, 1, 2, 3, 4, 5, 1, 2, 3, 4, 5, 1, 2, 3, 4, 5, 1, 2, 3, 4, 5, 1, 2, 3, 4, 5, 1, 2, 3, 4, 5, 1, 2, 3, 4, 5, 1, 2, 3, 4, 5, 1, 2, 3, 4, 5, 1, 2, 3, 4, 5, 1, 2, 3, 4, 5, 1, 2, 3, 4, 5, 1, 2, 3, 4, 5, 1, 2, 3, 4, 5, 1, 2, 3, 4, 5, 1, 2, 3, 4, 5, 1, 2, 3, 4, 5, 1, 2, 3, 4, 5, 1, 2, 3, 4, 5, 1, 2, 3, 4, 5, 1, 2, 3, 4, 5, 1, 2, 3, 4, 5, 1, 2, 3, 4, 5, 1, 2, 3, 4, 5, 1, 2, 3, 4, 5, 1, 2, 3, 4, 5, 1, 2, 3, 4, 5, 1, 2, 3, 4, 5, 1, 2, 3, 4, 5, 1, 2, 3, 4, 5, 1, 2, 3, 4, 5, 1, 2, 3, 4, 5, 1, 2, 3, 4, 5, 1, 2, 3, 4, 5, 1, 2, 3, 4, 5, 1, 2, 3, 4, 5, 1, 2, 3, 4, 5, 1, 2, 3, 4, 5, 1, 2, 3, 4, 5, 1, 2, 3, 4, 5, 1, 2, 3, 4, 5, 1, 2, 3, 4, 5, 1, 2, 3, 4, 5, 1, 2, 3, 4, 5, 1, 2, 3, 4, 5, 1, 2, 3, 4, 5, 1, 2, 3, 4, 5, 1, 2, 3, 4, 5, 1, 2, 3, 4, 5, 1, 2, 3, 4, 5, 1, 2, 3, 4, 5, 1, 2, 3, 4, 5, 1, 2, 3, 4, 5, 1, 2, 3, 4, 5, 1, 2, 3, 4, 5, 1, 2, 3, 4, 5, 1, 2, 3, 4, 5, 1, 2, 3, 4, 5, 1, 2, 3, 4, 5, 1, 2, 3, 4, 5, 1, 2, 3, 4, 5, 1, 2, 3, 4, 5, 1, 2, 3, 4, 5, 1, 2, 3, 4, 5, 1, 2, 3, 4, 5, 1, 2, 3, 4, 5, 1, 2, 3, 4, 5, 1, 2, 3, 4, 5, 1, 2, 3, 4, 5, 1, 2, 3, 4, 5, 1, 2, 3, 4, 5, 1, 2, 3, 4, 5, 1, 2, 3, 4, 5, 1, 2, 3, 4, 5, 1, 2, 3, 4, 5, 1, 2, 3, 4, 5, 1, 2, 3, 4, 5, 1, 2, 3, 4, 5, 1, 2, 3, 4, 5, 1, 2, 3, 4, 5, 1, 2, 3, 4, 5, 1, 2, 3, 4, 5, 1, 2, 3, 4, 5, 1, 2, 3, 4, 5, 1, 2, 3, 4, 5, 1, 2, 3, 4, 5, 1, 2, 3, 4, 5, 1, 2, 3, 4, 5, 1, 2, 3, 4, 5, 1, 2, 3, 4, 5, 1, 2, 3, 4, 5, 1, 2, 3, 4, 5, 1, 2, 3, 4, 5, 1, 2, 3, 4, 5, 1, 2, 3, 4, 5, 1, 2, 3, 4, 5, 1, 2, 3, 4, 5, 1, 2, 3, 4, 5, 1, 2, 3, 4, 5, 1, 2, 3, 4, 5, 1, 2, 3, 4, 5, 1, 2, 3, 4, 5, 1, 2, 3, 4, 5, 1, 2, 3, 4, 5, 1, 2, 3, 4, 5, 1, 2, 3, 4, 5, 1, 2, 3, 4, 5, 1, 2, 3, 4, 5, 1, 2, 3, 4, 5, 1, 2, 3, 4, 5, 1, 2, 3, 4, 5, 1, 2, 3, 4, 5, 1, 2, 3, 4, 5, 1, 2, 3, 4, 5, 1, 2, 3, 4, 5, 1, 2, 3, 4, 5, 1, 2, 3, 4, 5, 1, 2, 3, 4, 5, 1, 2, 3, 4, 5, 1, 2, 3, 4, 5, 1, 2, 3, 4, 5, 1, 2, 3, 4, 5, 1, 2, 3, 4, 5, 1, 2, 3, 4, 5, 1, 2, 3, 4, 5, 1, 2, 3, 4, 5, 1, 2, 3, 4, 5, 1, 2, 3, 4, 5, 1, 2, 3, 4, 5, 1, 2, 3, 4, 5, 1, 2, 3, 4, 5, 1, 2, 3, 4, 5, 1, 2, 3, 4, 5, 1, 2, 3, 4, 5, 1, 2, 3, 4, 5, 1, 2, 3, 4, 5, 1, 2, 3, 4, 5, 1, 2, 3, 4, 5, 1, 2, 3, 4, 5, 1, 2, 3, 4, 5, 1, 2, 3, 4, 5, 1, 2, 3, 4, 5, 1, 2, 3, 4, 5, 1, 2, 3, 4, 5, 1, 2, 3, 4, 5, 1, 2, 3, 4, 5, 1, 2, 3, 4, 5, 1, 2, 3, 4, 5, 1, 2, 3, 4, 5, 1, 2, 3, 4, 5, 1, 2, 3, 4, 5, 1, 2, 3, 4, 5, 1, 2, 3, 4, 5, 1, 2, 3, 4, 5, 1, 2, 3, 4, 5], \"Freq\": [0.03679815686567356, 0.021534675893472684, 0.056122727882333356, 0.004867322724864595, 0.8806772134500873, 0.0102166204339555, 0.008168554609726292, 0.9675424055202145, 0.0035827473835247374, 0.010488358464062491, 0.003349495518682376, 0.004653460626636998, 0.002626607700214164, 0.9840433216063875, 0.005326541820292089, 0.003309809226511252, 0.0012946173012871487, 0.001426798180940154, 0.9923547518687478, 0.0016137397107351186, 0.8069293668158529, 0.0358757163429906, 0.058126874580947153, 0.0443415538485354, 0.05472640201186893, 0.09478994686365917, 0.007735279204641621, 0.8241869605915377, 0.0529422253272773, 0.020345663298938263, 0.014519257549187203, 0.00792019004460309, 0.9543146792983871, 0.01331846591125075, 0.00992704768351911, 0.16658369991696226, 0.23946934395298586, 0.2657460945489821, 0.14992599493559897, 0.17827494696024238, 0.9793021582439418, 0.005293952452498289, 0.008199266020318471, 0.0034298404497942045, 0.003774813718477718, 0.00025295264628870026, 0.998965541109253, 0.00028313792627541865, 0.00023423777269693485, 0.00026442305268365324, 0.0028113203964542917, 0.004862085630957588, 0.004203556161463433, 0.9838469327139313, 0.004276292181444625, 0.00792951235278579, 0.005615151635272603, 0.026579634491312138, 0.9514815351072637, 0.008394032334756581, 0.0025254226257404324, 0.0029222747526425007, 0.0038716275029718633, 0.9685294697290667, 0.022151564174351795, 0.9848797856774235, 0.005509697666100645, 0.004338442581597314, 0.0023478421344899844, 0.0029245830676027777, 0.7576637866812604, 0.018235114952924614, 0.16350842888006073, 0.027966275272779666, 0.03262637423360808, 0.007249877578493205, 0.008781104510615397, 0.007463356618459543, 0.002706008558118772, 0.9737988727424516, 0.7874536214664204, 0.12515959927982767, 0.026727550944395218, 0.03958753843726588, 0.02107164514286739, 0.02395842839731885, 0.010363085025766073, 0.07147135852809092, 0.8762707302693757, 0.01793628745581586, 0.0006171091924206554, 0.0006345832232045488, 0.0008847377691634434, 0.9967711380056296, 0.0010925867669087012, 0.916706019739361, 0.012259069329954174, 0.025385229650207574, 0.014847896018694445, 0.03080195536412827, 0.18812312146118787, 0.15804362958084187, 0.2722589588827194, 0.17890149712865897, 0.20267286843269317, 0.2602042810416417, 0.1403703824773888, 0.2804527075939517, 0.12988454469894564, 0.18908812181071277, 0.08851057425994281, 0.0452894266766637, 0.10567015049665095, 0.04709629536896327, 0.7134332002631139, 0.05316874399550958, 0.06454328666220353, 0.13080641993369035, 0.02370811218280213, 0.7277733443121576, 0.0067518719679563995, 0.006213522959815411, 0.0058941713269373515, 0.9622735290150479, 0.018866834904209324, 0.9989896269932754, 0.0003026099978858497, 0.0002345079435671164, 0.0002362845188971703, 0.00023687671067385496, 0.7514455962824698, 0.13120833269542018, 0.03136906484772857, 0.03308894038338535, 0.05288765172989201, 0.020091116835138798, 0.001871906309863932, 0.0022655055635668123, 0.0030711829091745854, 0.9727001725804895, 0.09343625676830665, 0.12525709565619955, 0.1669384732362505, 0.0832476040217801, 0.5311203983414011, 0.0016079884980837653, 0.0012386426683929092, 0.006526045895716382, 0.988754936185241, 0.0018727097486416603, 0.11650274025804928, 0.005769822472616038, 0.011381603401556572, 0.013253938549150253, 0.853091273090391, 0.6611447661816588, 0.07818342410619952, 0.07749220887567619, 0.10862443011317774, 0.07455519459943115, 0.1727139065343735, 0.063297536095623, 0.7058729667831678, 0.016578852634743235, 0.04153655008888327, 0.008500824632707817, 0.005515774386064764, 0.9211553054054783, 0.056503388455329324, 0.008324750458624044, 0.6085340448032543, 0.09027471365172965, 0.0994459068093279, 0.08041395821308907, 0.12133139542737419, 0.008954706076195576, 0.01910211213733204, 0.006525990659290372, 0.9501389723001551, 0.01527876134161616, 0.014274268059878527, 0.013068707441974876, 0.8961445497057697, 0.04211512754522907, 0.03439702925123312, 0.003540345035327935, 0.0019451895744951506, 0.9848059773270539, 0.0025742508816198034, 0.007134695333906635, 0.34799187244122604, 0.16301253495102597, 0.1821151252684154, 0.1250682790683039, 0.18181216647358914, 0.8863694058886761, 0.0042737186331964164, 0.032512372996397206, 0.025377675266860505, 0.05146696462367367, 0.006590689051560929, 0.009504370561733432, 0.012348658796340851, 0.016446206308924908, 0.9551098154159126, 0.07013579949164273, 0.008250028727488179, 0.018433789879331315, 0.048404531395234505, 0.8547758781616484, 0.03839816250160497, 0.06571776211570503, 0.11895760806447662, 0.02700435440514136, 0.749922227964872, 0.0009756317546959145, 0.0008858310159641533, 0.0008135338110529895, 0.9958559464908006, 0.00146877479451101, 0.008595247544659543, 0.01794241094875068, 0.005820615881550383, 0.004111716201024025, 0.9635304604163406, 0.01055969452907435, 0.023916366149221834, 0.005756169022226079, 0.9575532178708912, 0.0022149699072716235, 0.7711194179967167, 0.08181976394461792, 0.03974481565734957, 0.04326129140820099, 0.06405453360933012, 0.9570593519570434, 0.02555401475651575, 0.004446805895053727, 0.004554418597714028, 0.008384007834534296, 0.007158822825852715, 0.004409278361712557, 0.008824048489997963, 0.9655526356978865, 0.014054651052494508, 0.0007073965798482928, 0.0006112276330453876, 0.0006648603149162385, 0.0005354021172969431, 0.9974800361637288, 0.13030241122419145, 0.16408404669323898, 0.2304356817125355, 0.16586885024845746, 0.3093090487609632, 0.007384184913687736, 0.96202664095627, 0.008771676534359717, 0.004939470169592252, 0.016878266921367815, 0.005389416788677186, 0.005341989191281483, 0.9635235635150465, 0.018190307739613776, 0.0075555810928078886, 0.8955038863240723, 0.004808982903413804, 0.03834287347576232, 0.004507751643863766, 0.05683625281047589, 0.036219830725703166, 0.06443737479503374, 0.1656586294878806, 0.04813035632933723, 0.6855537527720706, 0.8496455557697274, 0.0645973234806, 0.01809101886774597, 0.036321921345886174, 0.03134427726070976, 0.012336977485900224, 0.00223532101390986, 0.004859107810109086, 0.0015932895070614633, 0.978975516945809, 0.17147731975358335, 0.2283635501845003, 0.21224429624143523, 0.12086889283022817, 0.26704599765135234, 0.005344670593329887, 0.9772841976474826, 0.003247775515568798, 0.009332459960427903, 0.004790795195252804, 0.20762974022632408, 0.191088007634866, 0.20114779329705348, 0.18825024541717542, 0.21188425275548603, 0.009241936986850458, 0.8835519281265247, 0.07227094614109125, 0.014443086162611203, 0.02049243674376285, 0.0018561791538532519, 0.0003847917987257597, 0.00043703875855274357, 0.00046033807847558776, 0.9968621089388853, 0.01655753766695616, 0.874431823205718, 0.04212837448902986, 0.03791910767363484, 0.028962938654644818, 0.04140744569292333, 0.035110125623434026, 0.0686028530943642, 0.04857014518230915, 0.8063091294785616, 0.8741686429337859, 0.07581272519115877, 0.012064468587266565, 0.010952005665070284, 0.0270023079185348, 0.0010383516497026915, 0.0007673606506846764, 0.9968140062756529, 0.0006967062317987913, 0.0006841851955405331, 0.00182860909916102, 0.0012813176197271677, 0.0024370859781105265, 0.986657873738927, 0.007795178821409932, 0.0004088586694793418, 0.9983847262788496, 0.00040071112352957236, 0.0003866380896163341, 0.0004192282734154121, 0.042866239600681165, 0.0046338710022630165, 0.008178684558002615, 0.9290787528947976, 0.015242242071719432, 0.20175252195647456, 0.09483144133969938, 0.20186126415727326, 0.3365555184333225, 0.16499925112512914, 0.017361648336630446, 0.012668142093414192, 0.9026901968016584, 0.03546135166810224, 0.03181830766118293, 0.06515822967938677, 0.018570830412337973, 0.05505786579854325, 0.8185921118781608, 0.04262098240462468, 0.1317482287598858, 0.2602691425623817, 0.23747778237517495, 0.12506125589681552, 0.24544368507465114, 0.011053881643357326, 0.004839778061323102, 0.9570211975377948, 0.016586750212802825, 0.010497585314469612, 0.0025774838125099215, 0.007342853194029692, 0.0036597693267368917, 0.00219156681225552, 0.9842282378920592, 0.1370044589074286, 0.002520278308690088, 0.0015634212420035244, 0.0008129124818719762, 0.8580994328090318, 0.09465572789292474, 0.832682522226777, 0.015296793817063161, 0.03891915211037995, 0.018445564997184725, 0.0018607786989966563, 0.9802306893027412, 0.013525057228597615, 0.00216971894326843, 0.002213561948231091, 0.20543148559132784, 0.057975544730421213, 0.08953618871036624, 0.027992163396647503, 0.6190645263003657, 0.008116535261824286, 0.012363583130162878, 0.042837889683108366, 0.9214414136160655, 0.015240959329646666, 0.00042959881981442615, 0.9981086649117205, 0.0004386516685078336, 0.0005678605089501035, 0.00045511139340493803, 0.003208537165997704, 0.03389719750782421, 0.005488226903668696, 0.038342668944630655, 0.9190620397813771, 0.013540261252134924, 0.02209473513932546, 0.01988434629308113, 0.8889399527540839, 0.05554097781191095, 0.04066993084799613, 0.09055402868704629, 0.6461226971105816, 0.10799039796270404, 0.1146629081282938, 0.09367753807210591, 0.8469775627828666, 0.028998421000916413, 0.016829770258319717, 0.013516444337504556, 0.016420056619403666, 0.012619713278911437, 0.0058149388912440945, 0.9566727905574726, 0.008472881561305406, 0.12819917651875606, 0.6295655813413567, 0.029215277902357912, 0.0831385121560031, 0.1298813222316702, 0.010710461109385184, 0.0005089350824137689, 0.0009357995265375312, 0.0006128588492425347, 0.9872320786161974, 0.06958289831361036, 0.2577254610630345, 0.4134822548485752, 0.11896074608808369, 0.14024848316903682, 0.012285348929549439, 0.03205557587276489, 0.00546827426950949, 0.9358335368746266, 0.014356757204246704, 0.0009209119658818886, 0.9793292090029442, 0.01706349489010347, 0.0009418616219777799, 0.0017440588699829513, 0.01762690692931767, 0.019531994366198555, 0.009760918181207447, 0.04573410339870377, 0.9073452188776048, 0.989094098161185, 0.0064906132501898325, 0.001434692653557905, 0.0017059456830016521, 0.00127429955788682, 0.0007394459487870222, 0.0010119103629649562, 0.001477487441830859, 0.9956629166999179, 0.0011081155813731443, 0.04167360970303655, 0.12061780427894357, 0.6370437441134162, 0.09084093353842539, 0.10982358068687285, 0.6008111447208239, 0.10503897350719398, 0.0926947491535417, 0.06418763936967138, 0.13726758087350316, 0.0010850618448157998, 0.0013410764367723386, 0.9961317761058965, 0.0007680437758696168, 0.0006740384178855752, 0.22332595267441652, 0.1281217899749563, 0.3811592029989212, 0.15681235350816222, 0.11058081895209831, 0.006670815567164685, 0.0037788531187405833, 0.004971912425714163, 0.9482525225665026, 0.036325910363375465, 0.004826773394449234, 0.001229276505479663, 0.0022899321063497456, 0.0027822449260580737, 0.9888720256796142, 0.0038042531304236823, 0.003713083665424422, 0.0064668159150611726, 0.023133215726914597, 0.9628821605230974, 0.0991229698903261, 0.15038268350222425, 0.5677810234665946, 0.08306131890297849, 0.09965188130253984, 0.0058392319405676674, 0.9893255317871792, 0.0016497850623241948, 0.0014944863405005867, 0.0016907959869222739, 0.025784228535199013, 0.038698559990881135, 0.04272105279915811, 0.782978142407541, 0.10981837892704566, 0.0005163916211294744, 0.9968469251348967, 0.0013993645469288832, 0.0005856221461600193, 0.0006514478912710292, 0.2178679885182002, 0.14864564753138365, 0.2220274966228708, 0.21217643971592084, 0.19928247769223476, 0.17907268026840514, 0.1657479806454527, 0.18140385597699116, 0.23238373959650444, 0.24139174907152408, 0.17427581509528736, 0.2099332804235351, 0.3552274585801202, 0.10071889095353803, 0.15984453469337143, 0.1798289471655376, 0.48709919796923035, 0.1108901201006103, 0.08076702752229929, 0.14141467831324006, 0.0012467693658757672, 0.003219875111351461, 0.9917409897349893, 0.001930141651593109, 0.0018612369727248124, 0.0018021333177346947, 0.9931481450927505, 0.0019505688926293157, 0.0020258320010265885, 0.0010737536798010895, 0.8056170632963657, 0.034202751550519044, 0.027333852540651408, 0.03040828261567721, 0.10243843416575146, 0.860268276016023, 0.03216135159078494, 0.017790402819615234, 0.03474347921642648, 0.055036953576551494, 0.24796818925458775, 0.23794682516912244, 0.17392084275998929, 0.18366319620660754, 0.15650098589775976, 0.005414651575689617, 0.009844704041466574, 0.006556271720124295, 0.9735252658058767, 0.0046591487292599034, 0.07690351603075775, 0.25564141631588033, 0.3189853916714133, 0.08878562234274567, 0.25968431270367487, 0.002034266971782218, 0.002605546265388025, 0.0062468414209994, 0.9712907639437454, 0.017822571210024764, 0.47189085600197034, 0.05510220785195361, 0.2129044223758708, 0.11897922969129404, 0.14112332821254778, 0.00037387398125067353, 0.9982344332487569, 0.00040662206719963766, 0.0005794591874858371, 0.0004057123981454997, 0.02600741396900417, 0.9355740420527842, 0.01201146432553776, 0.012693065665738178, 0.013714060239643111, 0.008031107899165434, 0.8360194037659857, 0.0772628952382839, 0.038026741831923484, 0.04065977027499838, 0.19223505196116766, 0.2402834103235011, 0.20548302627659848, 0.16302284291941566, 0.198975684845323, 0.1729059792131076, 0.517738802107494, 0.1045455716602257, 0.06980429322864763, 0.13500536394059043, 0.026449561353100448, 0.015737858374163007, 0.8763978841104442, 0.06479280670350385, 0.01662252009315571, 0.041537288102939815, 0.1497428046704617, 0.5687160009767396, 0.1002759822944644, 0.13972789610147499, 0.666096692809937, 0.14057076515368755, 0.09535433820374048, 0.049150831272776904, 0.04882752547072404, 0.9824495907830313, 0.0006203337585284547, 0.012309803566443591, 0.0005945605794491922, 0.004025059587930331, 0.0023211938453622408, 0.005022036505078057, 0.009787328938698108, 0.004396140821506667, 0.9784726507309395, 0.07418429943788564, 0.6780370495703361, 0.05977199500841757, 0.1408386838689252, 0.04716805157830972, 0.009625761577527607, 0.9714733013919402, 0.002604286089251705, 0.01481523141307807, 0.0014827056673001322, 0.06650917227026996, 0.23008849621518232, 0.18109390457956942, 0.3943373145456919, 0.12797126460226996, 0.19041713093465745, 0.23029351793700525, 0.3050665440639453, 0.1377248687583998, 0.13649784729342007, 0.022542553132651025, 0.016769389852785765, 0.9380697550187465, 0.016546710697705247, 0.006070893557584027, 0.02160075280548577, 0.8577414546605293, 0.032680461208572736, 0.058569836012740586, 0.029407759554376394, 0.021225163144056942, 0.0017491418121885277, 0.005017315434175397, 0.004902642675509191, 0.967104941972372, 0.018200848608176577, 0.004266841148537039, 0.11029099938267581, 0.005058944483819052, 0.8621823616574373, 0.8316900355587767, 0.01671697299053661, 0.060156637891655686, 0.043783002458756784, 0.04765301384212968, 0.044849130374671066, 0.014573390690464144, 0.7442310957756, 0.1769579715636024, 0.019388331444635577, 0.02009388682673965, 0.01349330280871929, 0.9476082329285634, 0.010554024654269223, 0.00825018336314544, 0.9397941611570332, 0.007867841867462262, 0.02782072076156914, 0.008609940542588013, 0.01590724418132456, 0.3227779747068537, 0.0808587926655592, 0.2870519427751534, 0.11563831607306961, 0.19367304121984613, 0.17225481329924583, 0.15724591662545523, 0.16049363933496813, 0.16753829107430446, 0.3424673995935303, 0.04287191093425375, 0.22238462307869047, 0.6447356849186955, 0.04455496883160495, 0.04545291126394822, 0.1707155696619503, 0.2030867926063304, 0.20336889844736317, 0.2244894741450313, 0.19833918680398274, 0.16685824606628585, 0.07001329242151505, 0.47569873568841753, 0.07420596892081595, 0.21322363991381937, 0.10182273923158768, 0.34252273683469897, 0.0575913036425484, 0.40627860694213, 0.09178474487954413, 0.002681906377077254, 0.001357444542125574, 0.004985542331253911, 0.9825713380638885, 0.008404406071747859, 0.000974982603505552, 0.0007638199188131541, 0.0010367022606040718, 0.9958591991946883, 0.0013653516022098958, 0.11916410469782403, 0.06609158239744747, 0.1190503112153181, 0.5920791658572782, 0.10361485522330585, 0.007990409648250815, 0.9719687856524966, 0.007466497720301444, 0.005379130225756036, 0.007195508792051769, 0.6776260659690664, 0.07741093234882587, 0.06498980957669961, 0.07836468621210164, 0.10160857605153133, 0.008780802116209747, 0.000520631629899162, 0.0006337913031888119, 0.0006779867120701773, 0.9893870773844443, 0.17704990068070986, 0.16279514337872192, 0.369119502930616, 0.1826981514836454, 0.1083371193056089, 0.5238423585336603, 0.21735750857950814, 0.09963047553706983, 0.03945381270601463, 0.11971577355228093, 0.026403985441225027, 0.001702982005521081, 0.005828442973303153, 0.003304509763904736, 0.962759395437383, 0.9611735174797754, 0.010596124647578718, 0.012100290129879634, 0.011203972342481144, 0.004926804258319294, 0.9970042783650859, 0.000898544258148518, 0.0007706058372863118, 0.0006778752764288213, 0.0006486180406502548, 0.0008457812833751528, 0.0007043994466883072, 0.0007671428653363156, 0.000690177605128092, 0.9969920857379376, 0.8974877696609934, 0.05308410371775863, 0.004804765447628995, 0.009223688269363452, 0.03539950151567312, 0.1120273503828512, 0.2700268492645322, 0.27041483722615456, 0.18542727098153533, 0.16210374374994732, 0.25217028780219314, 0.17270903499604454, 0.18190754303162215, 0.16776793339951324, 0.2254451458220153, 0.03560117964201361, 0.006809950169621646, 0.012752766323681811, 0.9369223459517616, 0.00791347692679284, 0.9655571125284402, 0.020595376876378434, 0.002917300502154196, 0.0036917499801719664, 0.00723767939272635, 0.0193811152015839, 0.061584033839041166, 0.015404120402661418, 0.08268855426829853, 0.8209414782583027, 0.042720447580796114, 0.8894671921130867, 0.03921594829091591, 0.011789343496546686, 0.01680712613782907, 0.22752082599450774, 0.06469732120852749, 0.14364488073860665, 0.4882295779899228, 0.07590766024849065, 0.0781543674280943, 0.9040614974751288, 0.006915471856436649, 0.006568563090952894, 0.004300034043365402, 0.15699767850002774, 0.27298579535056217, 0.23687104013187713, 0.1884405333049051, 0.1447049359187569, 0.05385117536883853, 0.031184772700852684, 0.8740676875582982, 0.03060808658800816, 0.010288381788368725, 0.00027652250706892165, 0.9989128672769197, 0.0002740535561129491, 0.00026006283402910487, 0.00027652250706892165, 0.14654172309292784, 0.20219743417997338, 0.24997303497025816, 0.22873921902977526, 0.17254857712802069, 0.47396926350966734, 0.05502047770525251, 0.2283269269218185, 0.15394580444009948, 0.08873764267570057, 0.058277350246866706, 0.8201853322190347, 0.07038114024771501, 0.012066659858156345, 0.039089553364879626, 0.0054143532869863, 0.9309884509457964, 0.0152994536904157, 0.004624295140410394, 0.04367370016586048, 0.9577751160377046, 0.013798316353546523, 0.0050359066673990975, 0.015181747490632426, 0.008208901401059055, 0.9616761452126902, 0.012424857179631226, 0.009626247143257289, 0.007813000987689216, 0.008459853005036754, 0.0009318151131898861, 0.0035093074859433495, 0.0045681882963864015, 0.9898903136393107, 0.001099471241510036, 0.01923172851836327, 0.10188534188583644, 0.0667445238458049, 0.7626905793721578, 0.049447577626935156, 0.05772675448732498, 0.028567423364263857, 0.0040086817205884345, 0.02869557953956308, 0.881001481574898, 0.01816229174580957, 0.01438170355418815, 0.015263928191137253, 0.024910064879086712, 0.9272823267280266, 0.49022455505522466, 0.07839047033129459, 0.23508236241992342, 0.0608087034992551, 0.1354939610039081, 0.012960515061334726, 0.029400509894306804, 0.9334014503958694, 0.018485192193502104, 0.005751718658146859, 0.021668247093556317, 0.030349445624236377, 0.03306523184532358, 0.028609692808815493, 0.8863063033724913, 0.003620922227870771, 0.010324869399888494, 0.004555116484731285, 0.9770338677083368, 0.004465007196175841, 0.5779057488339717, 0.08786733742059702, 0.19328795028783194, 0.029442268274820105, 0.11149662032804666, 0.9741413286572156, 0.013491615020074153, 0.0035243739616915033, 0.0025037567950148545, 0.006338445571545616, 0.0007642224680677605, 0.9969015506710889, 0.0011019021632604918, 0.0004646269490245853, 0.0007682847801903798, 0.027985525980288015, 0.02754921929591065, 0.8598185620069877, 0.020812885642997818, 0.06383287569377719, 0.013432730129334132, 0.9653035194113224, 0.007057696555318326, 0.007732080272239006, 0.006472879425801174, 0.04903690921504693, 0.23888457226842022, 0.0504927034834401, 0.07310538249514494, 0.5884807814607071, 0.3913034016683869, 0.0653786527306994, 0.2478495107863457, 0.1276095476477667, 0.16785891495246633, 0.01364778526656443, 0.014290098084512658, 0.9204796719476587, 0.015699432900896707, 0.03588294784000503, 0.20905931469091285, 0.07231986532021183, 0.08042051022961874, 0.5074720779671912, 0.13072800540177446, 0.027312626754289714, 0.9123712128176844, 0.03065457518445292, 0.007420941174550868, 0.022240695172417228, 0.9299511484868634, 0.031145151711031556, 0.014410974741400425, 0.009100543900931313, 0.015391882348875612, 0.006635389890287515, 0.002634602016352449, 0.9284242973334463, 0.054308801505429924, 0.007997043377726493, 0.02001801027421215, 0.03193351692617078, 0.8709925536913217, 0.01788706409188298, 0.059168522476236704, 0.04890016164836653, 0.011804024475851152, 0.004170676528192789, 0.018712714690828927, 0.9164126975036593, 0.1367563481788052, 0.02020117107296581, 0.7614537128547209, 0.03152361596519537, 0.0500650080088922, 0.003092695982825319, 0.0037548302451465166, 0.9803928348316053, 0.004430644967433029, 0.008328664026883165, 0.10264243275273094, 0.4222024371762897, 0.17927947647208112, 0.18214060317718403, 0.11373519659383571, 0.008233358511139134, 0.027192668730030994, 0.9015683588943638, 0.014563282217591528, 0.0484417471253649, 0.09234358606684137, 0.04081846572678129, 0.09354791122796571, 0.6251676836282225, 0.14812208151146503, 0.9213266829667205, 0.02967038106908831, 0.04124634570928559, 0.0015963113368557204, 0.006160527163978131, 0.15385277873424022, 0.25470996852071764, 0.08880515968380438, 0.3908140941675651, 0.11181805813131546, 0.2430585609076085, 0.16156475082604752, 0.15822864433335512, 0.15761795134078577, 0.27953009475567325, 0.9763342389881042, 0.00898824954356653, 0.0018369108100195599, 0.00469796289424501, 0.008142762589997651, 0.0039631596130948864, 0.004272131576934368, 0.009344025198730163, 0.9474797582425224, 0.034941164049124125, 0.13805125990840483, 0.15574684660883506, 0.21205095578712832, 0.2101731588986638, 0.28397783697039064, 0.012274303063762985, 0.010101327225941845, 0.9057395697809764, 0.06505335011371254, 0.006830916487659401, 0.020793206818273773, 0.05583756521959621, 0.05968691194355739, 0.8425283991520442, 0.021154023188530574, 0.15930672532267345, 0.5628670725852882, 0.13457958665836947, 0.07826908144609351, 0.06497733436531519, 0.0478813626050136, 0.01109353514130824, 0.011909715296076593, 0.003671000984362767, 0.9254442370618617, 0.1348373668388388, 0.13168680504893682, 0.509957195188842, 0.07585537192703089, 0.14766348740407256, 0.10595603785076942, 0.13317897064067039, 0.1295765651464645, 0.4136441768507913, 0.21764438552432577, 0.05722598075433438, 0.921585397476854, 0.007930287533212626, 0.0053983827335552315, 0.007860413537118185, 0.004961475501853231, 0.0026602685985659285, 0.015461448974330137, 0.9633132004680287, 0.01360304658982095, 0.07670238325268249, 0.04319632001194543, 0.6542311926302925, 0.06514303692363169, 0.16072708507195163, 0.9846403993452676, 0.0006478482022443546, 0.009894570485306783, 0.0006247425050449675, 0.0041919066803657356, 0.007677974599324349, 0.004517488485260749, 0.010880266085267098, 0.01760173377599654, 0.9593229184446891, 0.05027366509040328, 0.03559054816320453, 0.031677555126828204, 0.8656411088603939, 0.01681755352142883, 0.010245569132569814, 0.033321286200758575, 0.03614552743965729, 0.01041382529472449, 0.9098735131323546, 0.005355358771028533, 0.005865441616369864, 0.9686238124706384, 0.010658584826400936, 0.00949633193030255, 0.0012441439964197898, 0.008348117978813924, 0.002164457605118968, 0.985244689737861, 0.0029991811658374935, 0.0016698660474799556, 0.002411506887283761, 0.0033730354832757986, 0.9806643813451333, 0.011881197264951349, 0.15306399653443262, 0.7110717995341026, 0.019619029066524154, 0.08211317204982456, 0.03413227240652871, 0.16668379453912954, 0.24159572803434454, 0.27381161392617226, 0.19727151668515452, 0.12063726081498753, 0.02030530425340116, 0.9508058965120149, 0.005205770218080517, 0.016614730746386083, 0.007068336053232136, 0.16069545696182722, 0.22069385188013174, 0.32886326934549176, 0.11025475697491906, 0.17949272384071951, 0.0859661340253449, 0.6076078722946266, 0.18123662309656952, 0.03450490849018572, 0.09068495883389921, 0.943378310460883, 0.012285281809167268, 0.022237543490599577, 0.013847746852760932, 0.008251879734787951, 0.0013863932388487991, 0.9947170058860743, 0.0016593654547143193, 0.001360693564581562, 0.0008765672682500925, 0.011624813098770637, 0.9163899962640987, 0.033388567969979036, 0.01468643832694235, 0.02391001345368922, 0.12899905016634153, 0.17396578839434948, 0.1530348448146752, 0.18916926476971058, 0.35483106035519, 0.00894876097959666, 0.008051941944159993, 0.9311977801941871, 0.004172202582191107, 0.04762855575199338, 0.4513459533054521, 0.08596939647500423, 0.24079802851082674, 0.10408647307556117, 0.11780006158864324, 0.11831674948011481, 0.14307738036346399, 0.13884660658910905, 0.1599848890832228, 0.43977428450471484, 0.9774534910770701, 0.008399286713001339, 0.006483124298262836, 0.0030934898494065543, 0.004570396550270527, 0.21000461001249404, 0.29509452259391655, 0.16291791594551608, 0.1252568475961009, 0.20672604290363222, 0.19884705629238794, 0.15238650019593442, 0.3082765420620937, 0.12469700408102932, 0.21579288707729952, 0.1806165646726508, 0.09202545130441031, 0.16157119021498317, 0.46287623663063604, 0.10291045310649914, 0.0031921309478154087, 0.002165536687555755, 0.002819011347198948, 0.9806119077107542, 0.011211110209682983, 0.9508324745065471, 0.01728116698953653, 0.010317459834481863, 0.014209414203843663, 0.007359574513766895, 0.022107006627984902, 0.0732975461720814, 0.04382850348593756, 0.8152726823397841, 0.04549459934327413, 0.9604208995336815, 0.03218252487911108, 0.002405283015839734, 0.0023949820179132255, 0.0025965872630463204, 0.09382615868706633, 0.1428805649516608, 0.4926381675024909, 0.08778257207107404, 0.18287273244955166, 0.004451149414685131, 0.9387549593356614, 0.018653212762548502, 0.02990246273838771, 0.008238298309443583, 0.9212163319440831, 0.017007622926326908, 0.028397995977297967, 0.019337518572309104, 0.01404021915538039, 0.4034301301318744, 0.15078697279623426, 0.187392797626792, 0.11842253452094328, 0.13996781403637754, 0.2836256634275212, 0.18704642027142251, 0.1972088610159001, 0.09277151917624105, 0.239347673059658, 0.226349921562624, 0.25891565023678825, 0.17043074196700522, 0.16924857193454224, 0.1750551485094007, 0.16588746360757423, 0.014092642828976204, 0.014746725649656104, 0.028589795633511834, 0.7766836775733308, 0.09347565174519767, 0.06491599993622826, 0.593328772824457, 0.14633988279241997, 0.1019397847969007, 0.012317154456699064, 0.006039073220572927, 0.015820888339873496, 0.9602919680072919, 0.005531181187522355, 0.011436284385393035, 0.015473763318232596, 0.8909029203976242, 0.008608923916589246, 0.07357888513786413, 0.13034010432417237, 0.49112797324163804, 0.11223366859216823, 0.11765430773924998, 0.14864397149083539, 0.2283602211141787, 0.4849046737123604, 0.0747541005538243, 0.1398597993843256, 0.0721212951899808, 0.002326211093979738, 0.9855747930893677, 0.003314191245744304, 0.0024281022330199143, 0.00635818902456957, 0.019542245717803716, 0.012274171434934741, 0.008308399930393909, 0.025668050795719613, 0.9342082534627418, 0.4457709770036675, 0.07417986281323248, 0.1895201224587401, 0.13469893355750956, 0.15583011619484236, 0.18194562510060205, 0.4731974321510697, 0.1554900434812073, 0.07904440941849432, 0.11032255183707732, 0.9143432230384335, 0.023358952972032495, 0.019230967514364303, 0.03155325411808205, 0.011512801433889672, 0.006548489149730503, 0.00560273381695279, 0.9562279638186814, 0.0037409327430029454, 0.027879975922538828, 0.056675938991145744, 0.6861888537041064, 0.05711362427944976, 0.111815824711257, 0.08820574771466295, 0.0363969954009925, 0.5248640849350406, 0.017016737150690287, 0.40018277560896437, 0.02153936948349056, 0.003440088861984777, 0.006380132976922429, 0.9197720878258396, 0.05656254331242715, 0.013845217056470828, 0.08953966503677784, 0.19318490702524882, 0.12045946645457214, 0.39201633855550233, 0.2047995698381041, 0.07902912127662007, 0.020533941469484496, 0.7124652389762789, 0.044942186118513125, 0.143029500129185, 0.02222128827095155, 0.009770875411307094, 0.9369145371885218, 0.020328562941673442, 0.010765559098321748, 0.007324587531995373, 0.013693749075857376, 0.01904227137345773, 0.09274981515571643, 0.867190379623645, 0.04389846458208558, 0.020126429174348735, 0.9106910800508405, 0.012283885549732417, 0.01300061605492456, 0.16465069858493453, 0.21051568267545964, 0.20652748349187075, 0.17174418228325947, 0.2465619251835283, 0.5677949777849528, 0.16535462490142705, 0.07681419677985123, 0.052185609616720766, 0.1378504297660397, 0.182987686734961, 0.08271291445980769, 0.17841665016362032, 0.28461215472377716, 0.2712706631463761, 0.005611242639345864, 0.013819857137802342, 0.0067596027993561845, 0.9582417341600928, 0.015568600952325663, 0.01014399240331166, 0.9569157070188833, 0.01749613540425909, 0.005328984620087857, 0.010113972517264732, 0.21999218023403483, 0.158249558021705, 0.19418674634967034, 0.17670256814109997, 0.25086904405780297, 0.9738243154719318, 0.00831279008693111, 0.0042586372251977155, 0.007660249148229799, 0.0059439372634178846, 0.9828223569048888, 0.004423396511128904, 0.0019881731957796583, 0.005278390974401158, 0.005487251368235856], \"Term\": [\"action\", \"action\", \"action\", \"action\", \"action\", \"add\", \"add\", \"add\", \"add\", \"add\", \"adult\", \"adult\", \"adult\", \"adult\", \"adult\", \"afl\", \"afl\", \"afl\", \"afl\", \"afl\", \"airpo\", \"airpo\", \"airpo\", \"airpo\", \"airpo\", \"ale\", \"ale\", \"ale\", \"ale\", \"ale\", \"american\", \"american\", \"american\", \"american\", \"american\", \"amp\", \"amp\", \"amp\", \"amp\", \"amp\", \"announce\", \"announce\", \"announce\", \"announce\", \"announce\", \"announces\", \"announces\", \"announces\", \"announces\", \"announces\", \"answer\", \"answer\", \"answer\", \"answer\", \"answer\", \"anzac\", \"anzac\", \"anzac\", \"anzac\", \"anzac\", \"anzacday\", \"anzacday\", \"anzacday\", \"anzacday\", \"anzacday\", \"approval\", \"approval\", \"approval\", \"approval\", \"approval\", \"april\", \"april\", \"april\", \"april\", \"april\", \"arrival\", \"arrival\", \"arrival\", \"arrival\", \"arrival\", \"astrazeneca\", \"astrazeneca\", \"astrazeneca\", \"astrazeneca\", \"astrazeneca\", \"attend\", \"attend\", \"attend\", \"attend\", \"attend\", \"attendance\", \"attendance\", \"attendance\", \"attendance\", \"attendance\", \"auckland\", \"auckland\", \"auckland\", \"auckland\", \"auckland\", \"australia\", \"australia\", \"australia\", \"australia\", \"australia\", \"australian\", \"australian\", \"australian\", \"australian\", \"australian\", \"bad\", \"bad\", \"bad\", \"bad\", \"bad\", \"ban\", \"ban\", \"ban\", \"ban\", \"ban\", \"biggest\", \"biggest\", \"biggest\", \"biggest\", \"biggest\", \"blah\", \"blah\", \"blah\", \"blah\", \"blah\", \"blood\", \"blood\", \"blood\", \"blood\", \"blood\", \"boot\", \"boot\", \"boot\", \"boot\", \"boot\", \"border\", \"border\", \"border\", \"border\", \"border\", \"brain\", \"brain\", \"brain\", \"brain\", \"brain\", \"breach\", \"breach\", \"breach\", \"breach\", \"breach\", \"break\", \"break\", \"break\", \"break\", \"break\", \"build\", \"build\", \"build\", \"build\", \"build\", \"busy\", \"busy\", \"busy\", \"busy\", \"busy\", \"call\", \"call\", \"call\", \"call\", \"call\", \"capacity\", \"capacity\", \"capacity\", \"capacity\", \"capacity\", \"car\", \"car\", \"car\", \"car\", \"car\", \"carry\", \"carry\", \"carry\", \"carry\", \"carry\", \"case\", \"case\", \"case\", \"case\", \"case\", \"cat\", \"cat\", \"cat\", \"cat\", \"cat\", \"cdc\", \"cdc\", \"cdc\", \"cdc\", \"cdc\", \"charge\", \"charge\", \"charge\", \"charge\", \"charge\", \"city\", \"city\", \"city\", \"city\", \"city\", \"clash\", \"clash\", \"clash\", \"clash\", \"clash\", \"class\", \"class\", \"class\", \"class\", \"class\", \"clean\", \"clean\", \"clean\", \"clean\", \"clean\", \"clot\", \"clot\", \"clot\", \"clot\", \"clot\", \"code\", \"code\", \"code\", \"code\", \"code\", \"collingwood\", \"collingwood\", \"collingwood\", \"collingwood\", \"collingwood\", \"combine\", \"combine\", \"combine\", \"combine\", \"combine\", \"come\", \"come\", \"come\", \"come\", \"come\", \"comparison\", \"comparison\", \"comparison\", \"comparison\", \"comparison\", \"condition\", \"condition\", \"condition\", \"condition\", \"condition\", \"confirm\", \"confirm\", \"confirm\", \"confirm\", \"confirm\", \"consider\", \"consider\", \"consider\", \"consider\", \"consider\", \"contact\", \"contact\", \"contact\", \"contact\", \"contact\", \"cost\", \"cost\", \"cost\", \"cost\", \"cost\", \"country\", \"country\", \"country\", \"country\", \"country\", \"cover\", \"cover\", \"cover\", \"cover\", \"cover\", \"covid\", \"covid\", \"covid\", \"covid\", \"covid\", \"covidisairborne\", \"covidisairborne\", \"covidisairborne\", \"covidisairborne\", \"covidisairborne\", \"craig\", \"craig\", \"craig\", \"craig\", \"craig\", \"crazy\", \"crazy\", \"crazy\", \"crazy\", \"crazy\", \"create\", \"create\", \"create\", \"create\", \"create\", \"cricketer\", \"cricketer\", \"cricketer\", \"cricketer\", \"cricketer\", \"cross\", \"cross\", \"cross\", \"cross\", \"cross\", \"crowd\", \"crowd\", \"crowd\", \"crowd\", \"crowd\", \"customer\", \"customer\", \"customer\", \"customer\", \"customer\", \"dawn\", \"dawn\", \"dawn\", \"dawn\", \"dawn\", \"day\", \"day\", \"day\", \"day\", \"day\", \"deal\", \"deal\", \"deal\", \"deal\", \"deal\", \"delay\", \"delay\", \"delay\", \"delay\", \"delay\", \"die\", \"die\", \"die\", \"die\", \"die\", \"difficult\", \"difficult\", \"difficult\", \"difficult\", \"difficult\", \"disaster\", \"disaster\", \"disaster\", \"disaster\", \"disaster\", \"doc\", \"doc\", \"doc\", \"doc\", \"doc\", \"dose\", \"dose\", \"dose\", \"dose\", \"dose\", \"double\", \"double\", \"double\", \"double\", \"double\", \"dr\", \"dr\", \"dr\", \"dr\", \"dr\", \"economy\", \"economy\", \"economy\", \"economy\", \"economy\", \"energy\", \"energy\", \"energy\", \"energy\", \"energy\", \"enough\", \"enough\", \"enough\", \"enough\", \"enough\", \"event\", \"event\", \"event\", \"event\", \"event\", \"everyone\", \"everyone\", \"everyone\", \"everyone\", \"everyone\", \"evidence\", \"evidence\", \"evidence\", \"evidence\", \"evidence\", \"exemption\", \"exemption\", \"exemption\", \"exemption\", \"exemption\", \"face\", \"face\", \"face\", \"face\", \"face\", \"facebook\", \"facebook\", \"facebook\", \"facebook\", \"facebook\", \"family\", \"family\", \"family\", \"family\", \"family\", \"fan\", \"fan\", \"fan\", \"fan\", \"fan\", \"farmer\", \"farmer\", \"farmer\", \"farmer\", \"farmer\", \"fed\", \"fed\", \"fed\", \"fed\", \"fed\", \"feeling\", \"feeling\", \"feeling\", \"feeling\", \"feeling\", \"female\", \"female\", \"female\", \"female\", \"female\", \"fight\", \"fight\", \"fight\", \"fight\", \"fight\", \"find\", \"find\", \"find\", \"find\", \"find\", \"finger\", \"finger\", \"finger\", \"finger\", \"finger\", \"flu\", \"flu\", \"flu\", \"flu\", \"flu\", \"footy\", \"footy\", \"footy\", \"footy\", \"footy\", \"former\", \"former\", \"former\", \"former\", \"former\", \"front\", \"front\", \"front\", \"front\", \"front\", \"fuck\", \"fuck\", \"fuck\", \"fuck\", \"fuck\", \"fund\", \"fund\", \"fund\", \"fund\", \"fund\", \"game\", \"game\", \"game\", \"game\", \"game\", \"gas\", \"gas\", \"gas\", \"gas\", \"gas\", \"get\", \"get\", \"get\", \"get\", \"get\", \"go\", \"go\", \"go\", \"go\", \"go\", \"government\", \"government\", \"government\", \"government\", \"government\", \"govt\", \"govt\", \"govt\", \"govt\", \"govt\", \"growth\", \"growth\", \"growth\", \"growth\", \"growth\", \"gt\", \"gt\", \"gt\", \"gt\", \"gt\", \"handle\", \"handle\", \"handle\", \"handle\", \"handle\", \"havent\", \"havent\", \"havent\", \"havent\", \"havent\", \"health\", \"health\", \"health\", \"health\", \"health\", \"healthy\", \"healthy\", \"healthy\", \"healthy\", \"healthy\", \"help\", \"help\", \"help\", \"help\", \"help\", \"host\", \"host\", \"host\", \"host\", \"host\", \"hotel\", \"hotel\", \"hotel\", \"hotel\", \"hotel\", \"household\", \"household\", \"household\", \"household\", \"household\", \"hq\", \"hq\", \"hq\", \"hq\", \"hq\", \"immune\", \"immune\", \"immune\", \"immune\", \"immune\", \"india\", \"india\", \"india\", \"india\", \"india\", \"indian\", \"indian\", \"indian\", \"indian\", \"indian\", \"infrastructure\", \"infrastructure\", \"infrastructure\", \"infrastructure\", \"infrastructure\", \"international\", \"international\", \"international\", \"international\", \"international\", \"issue\", \"issue\", \"issue\", \"issue\", \"issue\", \"jhu\", \"jhu\", \"jhu\", \"jhu\", \"jhu\", \"johnson\", \"johnson\", \"johnson\", \"johnson\", \"johnson\", \"join\", \"join\", \"join\", \"join\", \"join\", \"journey\", \"journey\", \"journey\", \"journey\", \"journey\", \"keep\", \"keep\", \"keep\", \"keep\", \"keep\", \"know\", \"know\", \"know\", \"know\", \"know\", \"large\", \"large\", \"large\", \"large\", \"large\", \"level\", \"level\", \"level\", \"level\", \"level\", \"liberal\", \"liberal\", \"liberal\", \"liberal\", \"liberal\", \"lift\", \"lift\", \"lift\", \"lift\", \"lift\", \"link\", \"link\", \"link\", \"link\", \"link\", \"list\", \"list\", \"list\", \"list\", \"list\", \"little\", \"little\", \"little\", \"little\", \"little\", \"living\", \"living\", \"living\", \"living\", \"living\", \"lockdown\", \"lockdown\", \"lockdown\", \"lockdown\", \"lockdown\", \"look\", \"look\", \"look\", \"look\", \"look\", \"lose\", \"lose\", \"lose\", \"lose\", \"lose\", \"make\", \"make\", \"make\", \"make\", \"make\", \"many\", \"many\", \"many\", \"many\", \"many\", \"mask\", \"mask\", \"mask\", \"mask\", \"mask\", \"match\", \"match\", \"match\", \"match\", \"match\", \"mcg\", \"mcg\", \"mcg\", \"mcg\", \"mcg\", \"melbourne\", \"melbourne\", \"melbourne\", \"melbourne\", \"melbourne\", \"million\", \"million\", \"million\", \"million\", \"million\", \"minister\", \"minister\", \"minister\", \"minister\", \"minister\", \"misinformation\", \"misinformation\", \"misinformation\", \"misinformation\", \"misinformation\", \"month\", \"month\", \"month\", \"month\", \"month\", \"morrison\", \"morrison\", \"morrison\", \"morrison\", \"morrison\", \"mp\", \"mp\", \"mp\", \"mp\", \"mp\", \"mutation\", \"mutation\", \"mutation\", \"mutation\", \"mutation\", \"name\", \"name\", \"name\", \"name\", \"name\", \"natural\", \"natural\", \"natural\", \"natural\", \"natural\", \"nd\", \"nd\", \"nd\", \"nd\", \"nd\", \"need\", \"need\", \"need\", \"need\", \"need\", \"new\", \"new\", \"new\", \"new\", \"new\", \"north\", \"north\", \"north\", \"north\", \"north\", \"occur\", \"occur\", \"occur\", \"occur\", \"occur\", \"one\", \"one\", \"one\", \"one\", \"one\", \"option\", \"option\", \"option\", \"option\", \"option\", \"outbreak\", \"outbreak\", \"outbreak\", \"outbreak\", \"outbreak\", \"oxford\", \"oxford\", \"oxford\", \"oxford\", \"oxford\", \"pandemic\", \"pandemic\", \"pandemic\", \"pandemic\", \"pandemic\", \"pass\", \"pass\", \"pass\", \"pass\", \"pass\", \"pave\", \"pave\", \"pave\", \"pave\", \"pave\", \"people\", \"people\", \"people\", \"people\", \"people\", \"perth\", \"perth\", \"perth\", \"perth\", \"perth\", \"pfizer\", \"pfizer\", \"pfizer\", \"pfizer\", \"pfizer\", \"pharma\", \"pharma\", \"pharma\", \"pharma\", \"pharma\", \"phase\", \"phase\", \"phase\", \"phase\", \"phase\", \"pick\", \"pick\", \"pick\", \"pick\", \"pick\", \"plasma\", \"plasma\", \"plasma\", \"plasma\", \"plasma\", \"play\", \"play\", \"play\", \"play\", \"play\", \"policy\", \"policy\", \"policy\", \"policy\", \"policy\", \"politician\", \"politician\", \"politician\", \"politician\", \"politician\", \"positive\", \"positive\", \"positive\", \"positive\", \"positive\", \"power\", \"power\", \"power\", \"power\", \"power\", \"practice\", \"practice\", \"practice\", \"practice\", \"practice\", \"pray\", \"pray\", \"pray\", \"pray\", \"pray\", \"premier\", \"premier\", \"premier\", \"premier\", \"premier\", \"prime\", \"prime\", \"prime\", \"prime\", \"prime\", \"production\", \"production\", \"production\", \"production\", \"production\", \"protection\", \"protection\", \"protection\", \"protection\", \"protection\", \"pull\", \"pull\", \"pull\", \"pull\", \"pull\", \"put\", \"put\", \"put\", \"put\", \"put\", \"quarantine\", \"quarantine\", \"quarantine\", \"quarantine\", \"quarantine\", \"ravage\", \"ravage\", \"ravage\", \"ravage\", \"ravage\", \"record\", \"record\", \"record\", \"record\", \"record\", \"recovery\", \"recovery\", \"recovery\", \"recovery\", \"recovery\", \"red\", \"red\", \"red\", \"red\", \"red\", \"regional\", \"regional\", \"regional\", \"regional\", \"regional\", \"relevant\", \"relevant\", \"relevant\", \"relevant\", \"relevant\", \"remove\", \"remove\", \"remove\", \"remove\", \"remove\", \"resident\", \"resident\", \"resident\", \"resident\", \"resident\", \"respect\", \"respect\", \"respect\", \"respect\", \"respect\", \"response\", \"response\", \"response\", \"response\", \"response\", \"responsible\", \"responsible\", \"responsible\", \"responsible\", \"responsible\", \"rollout\", \"rollout\", \"rollout\", \"rollout\", \"rollout\", \"rtpcr\", \"rtpcr\", \"rtpcr\", \"rtpcr\", \"rtpcr\", \"safe\", \"safe\", \"safe\", \"safe\", \"safe\", \"say\", \"say\", \"say\", \"say\", \"say\", \"scott\", \"scott\", \"scott\", \"scott\", \"scott\", \"seat\", \"seat\", \"seat\", \"seat\", \"seat\", \"see\", \"see\", \"see\", \"see\", \"see\", \"session\", \"session\", \"session\", \"session\", \"session\", \"set\", \"set\", \"set\", \"set\", \"set\", \"share\", \"share\", \"share\", \"share\", \"share\", \"shortage\", \"shortage\", \"shortage\", \"shortage\", \"shortage\", \"shot\", \"shot\", \"shot\", \"shot\", \"shot\", \"show\", \"show\", \"show\", \"show\", \"show\", \"sir\", \"sir\", \"sir\", \"sir\", \"sir\", \"sit\", \"sit\", \"sit\", \"sit\", \"sit\", \"social\", \"social\", \"social\", \"social\", \"social\", \"source\", \"source\", \"source\", \"source\", \"source\", \"south\", \"south\", \"south\", \"south\", \"south\", \"special\", \"special\", \"special\", \"special\", \"special\", \"spend\", \"spend\", \"spend\", \"spend\", \"spend\", \"spent\", \"spent\", \"spent\", \"spent\", \"spent\", \"spirit\", \"spirit\", \"spirit\", \"spirit\", \"spirit\", \"sport\", \"sport\", \"sport\", \"sport\", \"sport\", \"st\", \"st\", \"st\", \"st\", \"st\", \"state\", \"state\", \"state\", \"state\", \"state\", \"stick\", \"stick\", \"stick\", \"stick\", \"stick\", \"stop\", \"stop\", \"stop\", \"stop\", \"stop\", \"strain\", \"strain\", \"strain\", \"strain\", \"strain\", \"strong\", \"strong\", \"strong\", \"strong\", \"strong\", \"style\", \"style\", \"style\", \"style\", \"style\", \"supply\", \"supply\", \"supply\", \"supply\", \"supply\", \"take\", \"take\", \"take\", \"take\", \"take\", \"tax\", \"tax\", \"tax\", \"tax\", \"tax\", \"test\", \"test\", \"test\", \"test\", \"test\", \"th\", \"th\", \"th\", \"th\", \"th\", \"there\", \"there\", \"there\", \"there\", \"there\", \"think\", \"think\", \"think\", \"think\", \"think\", \"time\", \"time\", \"time\", \"time\", \"time\", \"today\", \"today\", \"today\", \"today\", \"today\", \"toilet\", \"toilet\", \"toilet\", \"toilet\", \"toilet\", \"toll\", \"toll\", \"toll\", \"toll\", \"toll\", \"tonight\", \"tonight\", \"tonight\", \"tonight\", \"tonight\", \"trace\", \"trace\", \"trace\", \"trace\", \"trace\", \"travel\", \"travel\", \"travel\", \"travel\", \"travel\", \"truth\", \"truth\", \"truth\", \"truth\", \"truth\", \"update\", \"update\", \"update\", \"update\", \"update\", \"use\", \"use\", \"use\", \"use\", \"use\", \"vaccination\", \"vaccination\", \"vaccination\", \"vaccination\", \"vaccination\", \"vaccine\", \"vaccine\", \"vaccine\", \"vaccine\", \"vaccine\", \"vax\", \"vax\", \"vax\", \"vax\", \"vax\", \"ve\", \"ve\", \"ve\", \"ve\", \"ve\", \"ventilation\", \"ventilation\", \"ventilation\", \"ventilation\", \"ventilation\", \"ventilator\", \"ventilator\", \"ventilator\", \"ventilator\", \"ventilator\", \"victoria\", \"victoria\", \"victoria\", \"victoria\", \"victoria\", \"victorian\", \"victorian\", \"victorian\", \"victorian\", \"victorian\", \"view\", \"view\", \"view\", \"view\", \"view\", \"vote\", \"vote\", \"vote\", \"vote\", \"vote\", \"wa\", \"wa\", \"wa\", \"wa\", \"wa\", \"want\", \"want\", \"want\", \"want\", \"want\", \"war\", \"war\", \"war\", \"war\", \"war\", \"waste\", \"waste\", \"waste\", \"waste\", \"waste\", \"way\", \"way\", \"way\", \"way\", \"way\", \"wear\", \"wear\", \"wear\", \"wear\", \"wear\", \"wed\", \"wed\", \"wed\", \"wed\", \"wed\", \"week\", \"week\", \"week\", \"week\", \"week\", \"western\", \"western\", \"western\", \"western\", \"western\", \"weve\", \"weve\", \"weve\", \"weve\", \"weve\", \"whilst\", \"whilst\", \"whilst\", \"whilst\", \"whilst\", \"win\", \"win\", \"win\", \"win\", \"win\", \"work\", \"work\", \"work\", \"work\", \"work\", \"worker\", \"worker\", \"worker\", \"worker\", \"worker\", \"world\", \"world\", \"world\", \"world\", \"world\", \"worsen\", \"worsen\", \"worsen\", \"worsen\", \"worsen\", \"worth\", \"worth\", \"worth\", \"worth\", \"worth\", \"year\", \"year\", \"year\", \"year\", \"year\", \"youre\", \"youre\", \"youre\", \"youre\", \"youre\", \"zone\", \"zone\", \"zone\", \"zone\", \"zone\"]}, \"R\": 30, \"lambda.step\": 0.01, \"plot.opts\": {\"xlab\": \"PC1\", \"ylab\": \"PC2\"}, \"topic.order\": [5, 3, 2, 1, 4]};\n",
       "\n",
       "function LDAvis_load_lib(url, callback){\n",
       "  var s = document.createElement('script');\n",
       "  s.src = url;\n",
       "  s.async = true;\n",
       "  s.onreadystatechange = s.onload = callback;\n",
       "  s.onerror = function(){console.warn(\"failed to load library \" + url);};\n",
       "  document.getElementsByTagName(\"head\")[0].appendChild(s);\n",
       "}\n",
       "\n",
       "if(typeof(LDAvis) !== \"undefined\"){\n",
       "   // already loaded: just create the visualization\n",
       "   !function(LDAvis){\n",
       "       new LDAvis(\"#\" + \"ldavis_el801149882982885215679082\", ldavis_el801149882982885215679082_data);\n",
       "   }(LDAvis);\n",
       "}else if(typeof define === \"function\" && define.amd){\n",
       "   // require.js is available: use it to load d3/LDAvis\n",
       "   require.config({paths: {d3: \"https://d3js.org/d3.v5\"}});\n",
       "   require([\"d3\"], function(d3){\n",
       "      window.d3 = d3;\n",
       "      LDAvis_load_lib(\"https://cdn.jsdelivr.net/gh/bmabey/pyLDAvis@3.3.1/pyLDAvis/js/ldavis.v3.0.0.js\", function(){\n",
       "        new LDAvis(\"#\" + \"ldavis_el801149882982885215679082\", ldavis_el801149882982885215679082_data);\n",
       "      });\n",
       "    });\n",
       "}else{\n",
       "    // require.js not available: dynamically load d3 & LDAvis\n",
       "    LDAvis_load_lib(\"https://d3js.org/d3.v5.js\", function(){\n",
       "         LDAvis_load_lib(\"https://cdn.jsdelivr.net/gh/bmabey/pyLDAvis@3.3.1/pyLDAvis/js/ldavis.v3.0.0.js\", function(){\n",
       "                 new LDAvis(\"#\" + \"ldavis_el801149882982885215679082\", ldavis_el801149882982885215679082_data);\n",
       "            })\n",
       "         });\n",
       "}\n",
       "</script>"
      ],
      "text/plain": [
       "<IPython.core.display.HTML object>"
      ]
     },
     "execution_count": 38,
     "metadata": {},
     "output_type": "execute_result"
    }
   ],
   "source": [
    "py_lda_prepared_data = pyLDAvis.prepare(formatted['topic_term_dists'],formatted['doc_topic_dists'],formatted['doc_lengths'],formatted['vocab'],formatted['term_frequency'])\n",
    "pyLDAvis.display(py_lda_prepared_data)"
   ]
  },
  {
   "cell_type": "code",
   "execution_count": null,
   "id": "72c50a62",
   "metadata": {},
   "outputs": [],
   "source": []
  }
 ],
 "metadata": {
  "kernelspec": {
   "display_name": "Python 3",
   "language": "python",
   "name": "python3"
  },
  "language_info": {
   "codemirror_mode": {
    "name": "ipython",
    "version": 3
   },
   "file_extension": ".py",
   "mimetype": "text/x-python",
   "name": "python",
   "nbconvert_exporter": "python",
   "pygments_lexer": "ipython3",
   "version": "3.9.4"
  }
 },
 "nbformat": 4,
 "nbformat_minor": 5
}

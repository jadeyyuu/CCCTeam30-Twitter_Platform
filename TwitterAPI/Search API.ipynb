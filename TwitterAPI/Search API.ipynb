{
 "cells": [
  {
   "cell_type": "code",
   "execution_count": 32,
   "metadata": {},
   "outputs": [],
   "source": [
    "import tweepy\n",
    "import pandas as pd"
   ]
  },
  {
   "cell_type": "code",
   "execution_count": 46,
   "metadata": {},
   "outputs": [],
   "source": [
    "auth = tweepy.OAuthHandler(\"BCT3FO5dvcED8cyJYZYYz55AO\", \"yzznx5RFvaqjqaxnubcMWL4RPutJyRzTwu85jpqRUlykhc0dJL\")\n",
    "auth.set_access_token(\"1384514435385937926-otVjXRjJyXvNKzQ77dfG6JPTIGh0gi\", \"nC9aoc6woTL21fHd3fzrWbJLGPFN2Z0clbCfSqlIMrNRi\")\n",
    "api = tweepy.API(auth)"
   ]
  },
  {
   "cell_type": "code",
   "execution_count": 51,
   "metadata": {},
   "outputs": [],
   "source": [
    "cursor = tweepy.Cursor(api.search, since='2020-4-25',lang=\"en\",q=\"covid\", tweet_mode=\"extended\")"
   ]
  },
  {
   "cell_type": "code",
   "execution_count": 52,
   "metadata": {},
   "outputs": [
    {
     "name": "stdout",
     "output_type": "stream",
     "text": [
      "RT @ASlavitt: Important statement regarding support for India in combatting COVID-19. https://t.co/BMblXBkSIE\n"
     ]
    }
   ],
   "source": [
    "for i in cursor.items(100):\n",
    "    print(i.full_text)\n",
    "    break"
   ]
  },
  {
   "cell_type": "code",
   "execution_count": 3,
   "metadata": {},
   "outputs": [],
   "source": [
    "no = 10\n",
    "df = {\"tweets\":[],\"likes\":[],\"time\":[]}\n",
    "\n",
    "for i in tweepy.Cursor(api.search, q=\"Covid\", tweet_mode=\"extended\").items(100):\n",
    "    df['tweets'].append(i.full_text)\n",
    "    df['likes'].append(i.favorite_count)\n",
    "    df['time'].append(i.created_at)\n",
    "    "
   ]
  },
  {
   "cell_type": "code",
   "execution_count": 4,
   "metadata": {},
   "outputs": [],
   "source": [
    "df = pd.DataFrame(df)\n",
    "df = df[~df.tweets.str.contains(\"RT\")] # remove retweets\n",
    "df = df.reset_index(drop=True)"
   ]
  },
  {
   "cell_type": "code",
   "execution_count": 5,
   "metadata": {},
   "outputs": [
    {
     "data": {
      "text/html": [
       "<div>\n",
       "<style scoped>\n",
       "    .dataframe tbody tr th:only-of-type {\n",
       "        vertical-align: middle;\n",
       "    }\n",
       "\n",
       "    .dataframe tbody tr th {\n",
       "        vertical-align: top;\n",
       "    }\n",
       "\n",
       "    .dataframe thead th {\n",
       "        text-align: right;\n",
       "    }\n",
       "</style>\n",
       "<table border=\"1\" class=\"dataframe\">\n",
       "  <thead>\n",
       "    <tr style=\"text-align: right;\">\n",
       "      <th></th>\n",
       "      <th>tweets</th>\n",
       "      <th>likes</th>\n",
       "      <th>time</th>\n",
       "    </tr>\n",
       "  </thead>\n",
       "  <tbody>\n",
       "    <tr>\n",
       "      <th>0</th>\n",
       "      <td>Covid: Tokyo verso stato emergenza, a tre mesi...</td>\n",
       "      <td>0</td>\n",
       "      <td>2021-04-22 09:46:33</td>\n",
       "    </tr>\n",
       "    <tr>\n",
       "      <th>1</th>\n",
       "      <td>@oremforever Hata wewe unafanya PR na Covid......</td>\n",
       "      <td>0</td>\n",
       "      <td>2021-04-22 09:46:33</td>\n",
       "    </tr>\n",
       "    <tr>\n",
       "      <th>2</th>\n",
       "      <td>Malgré le Covid-19, les Brit Awards se tiendro...</td>\n",
       "      <td>0</td>\n",
       "      <td>2021-04-22 09:46:33</td>\n",
       "    </tr>\n",
       "    <tr>\n",
       "      <th>3</th>\n",
       "      <td>We are not  ready to writing exam in covid 19 ...</td>\n",
       "      <td>0</td>\n",
       "      <td>2021-04-22 09:46:33</td>\n",
       "    </tr>\n",
       "    <tr>\n",
       "      <th>4</th>\n",
       "      <td>@asanyfuleno @AngelaRayner @MsMelanieSykes Sev...</td>\n",
       "      <td>0</td>\n",
       "      <td>2021-04-22 09:46:32</td>\n",
       "    </tr>\n",
       "    <tr>\n",
       "      <th>5</th>\n",
       "      <td>El síndic major, en la inauguració de la 12a J...</td>\n",
       "      <td>0</td>\n",
       "      <td>2021-04-22 09:46:32</td>\n",
       "    </tr>\n",
       "    <tr>\n",
       "      <th>6</th>\n",
       "      <td>@Ragusaecomites @TinaRiepe Yikes! 🙀 That list ...</td>\n",
       "      <td>0</td>\n",
       "      <td>2021-04-22 09:46:32</td>\n",
       "    </tr>\n",
       "    <tr>\n",
       "      <th>7</th>\n",
       "      <td>Di kantor saya, ada pimpinan unit kerja  mence...</td>\n",
       "      <td>0</td>\n",
       "      <td>2021-04-22 09:46:31</td>\n",
       "    </tr>\n",
       "    <tr>\n",
       "      <th>8</th>\n",
       "      <td>#WhoFailedIndia I think we shud stand &amp;amp; su...</td>\n",
       "      <td>1</td>\n",
       "      <td>2021-04-22 09:46:31</td>\n",
       "    </tr>\n",
       "    <tr>\n",
       "      <th>9</th>\n",
       "      <td>“For the first time since the pandemic began, ...</td>\n",
       "      <td>0</td>\n",
       "      <td>2021-04-22 09:46:30</td>\n",
       "    </tr>\n",
       "    <tr>\n",
       "      <th>10</th>\n",
       "      <td>◆区内事業所における新型コロナウイルス集団感染の発生（4月22日）◆\\n区内事業所において新...</td>\n",
       "      <td>0</td>\n",
       "      <td>2021-04-22 09:46:30</td>\n",
       "    </tr>\n",
       "  </tbody>\n",
       "</table>\n",
       "</div>"
      ],
      "text/plain": [
       "                                               tweets  likes  \\\n",
       "0   Covid: Tokyo verso stato emergenza, a tre mesi...      0   \n",
       "1   @oremforever Hata wewe unafanya PR na Covid......      0   \n",
       "2   Malgré le Covid-19, les Brit Awards se tiendro...      0   \n",
       "3   We are not  ready to writing exam in covid 19 ...      0   \n",
       "4   @asanyfuleno @AngelaRayner @MsMelanieSykes Sev...      0   \n",
       "5   El síndic major, en la inauguració de la 12a J...      0   \n",
       "6   @Ragusaecomites @TinaRiepe Yikes! 🙀 That list ...      0   \n",
       "7   Di kantor saya, ada pimpinan unit kerja  mence...      0   \n",
       "8   #WhoFailedIndia I think we shud stand &amp; su...      1   \n",
       "9   “For the first time since the pandemic began, ...      0   \n",
       "10  ◆区内事業所における新型コロナウイルス集団感染の発生（4月22日）◆\\n区内事業所において新...      0   \n",
       "\n",
       "                  time  \n",
       "0  2021-04-22 09:46:33  \n",
       "1  2021-04-22 09:46:33  \n",
       "2  2021-04-22 09:46:33  \n",
       "3  2021-04-22 09:46:33  \n",
       "4  2021-04-22 09:46:32  \n",
       "5  2021-04-22 09:46:32  \n",
       "6  2021-04-22 09:46:32  \n",
       "7  2021-04-22 09:46:31  \n",
       "8  2021-04-22 09:46:31  \n",
       "9  2021-04-22 09:46:30  \n",
       "10 2021-04-22 09:46:30  "
      ]
     },
     "execution_count": 5,
     "metadata": {},
     "output_type": "execute_result"
    }
   ],
   "source": [
    "df"
   ]
  },
  {
   "cell_type": "code",
   "execution_count": 6,
   "metadata": {},
   "outputs": [],
   "source": [
    "import matplotlib.pyplot as plt\n",
    "import re\n",
    "import spacy\n",
    "import seaborn as sns"
   ]
  },
  {
   "cell_type": "code",
   "execution_count": 10,
   "metadata": {},
   "outputs": [],
   "source": [
    "nlp = spacy.load('en_core_web_sm')"
   ]
  },
  {
   "cell_type": "code",
   "execution_count": 14,
   "metadata": {},
   "outputs": [],
   "source": [
    "list_of_sentences = [sentence for sentence in df.tweets]\n",
    "\n",
    "lines = []\n",
    "for sentence in list_of_sentences:\n",
    "    words = sentence.split()\n",
    "    for w in words:\n",
    "        lines.append(w)"
   ]
  },
  {
   "cell_type": "code",
   "execution_count": 18,
   "metadata": {},
   "outputs": [],
   "source": [
    "lines = [re.sub(r'[^A-Za-z0-9]+','',x) for x in lines]\n",
    "lines2 = []\n",
    "\n",
    "for word in lines:\n",
    "    if word !='':\n",
    "        lines2.append(word)"
   ]
  },
  {
   "cell_type": "code",
   "execution_count": 21,
   "metadata": {},
   "outputs": [],
   "source": [
    "from nltk.stem.snowball import SnowballStemmer\n",
    "\n",
    "s_stemmer = SnowballStemmer(language='english')\n",
    "\n",
    "stem =[]\n",
    "for word in lines2:\n",
    "    stem.append(s_stemmer.stem(word))"
   ]
  },
  {
   "cell_type": "code",
   "execution_count": 23,
   "metadata": {},
   "outputs": [],
   "source": [
    "stem2 = []\n",
    "for word in stem:\n",
    "    if word not in nlp.Defaults.stop_words:\n",
    "        stem2.append(word)"
   ]
  },
  {
   "cell_type": "code",
   "execution_count": 31,
   "metadata": {},
   "outputs": [
    {
     "data": {
      "image/png": "[encoded data removed]",
      "text/plain": [
       "<Figure size 432x288 with 1 Axes>"
      ]
     },
     "metadata": {
      "needs_background": "light"
     },
     "output_type": "display_data"
    }
   ],
   "source": [
    "df2 = pd.DataFrame(stem2)\n",
    "df2 = df2[0].value_counts()\n",
    "\n",
    "sns.barplot(df2.values, df2.index, alpha=1)\n",
    "plt.title('Top Words Overall')\n",
    "plt.ylabel('Word from Tweet', fontsize=12)\n",
    "plt.xlabel('Count of Words', fontsize = 12)\n",
    "plt.show()"
   ]
  },
  {
   "cell_type": "code",
   "execution_count": null,
   "metadata": {},
   "outputs": [],
   "source": []
  }
 ],
 "metadata": {
  "kernelspec": {
   "display_name": "Python 3",
   "language": "python",
   "name": "python3"
  },
  "language_info": {
   "codemirror_mode": {
    "name": "ipython",
    "version": 3
   },
   "file_extension": ".py",
   "mimetype": "text/x-python",
   "name": "python",
   "nbconvert_exporter": "python",
   "pygments_lexer": "ipython3",
   "version": "3.9.4"
  }
 },
 "nbformat": 4,
 "nbformat_minor": 4
}

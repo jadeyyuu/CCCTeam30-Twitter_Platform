{
 "cells": [
  {
   "cell_type": "code",
   "execution_count": 1,
   "metadata": {},
   "outputs": [],
   "source": [
    "import tweepy"
   ]
  },
  {
   "cell_type": "code",
   "execution_count": null,
   "metadata": {},
   "outputs": [],
   "source": [
    "# Create a StreamListener\n",
    "# On data\n",
    "# On error\n",
    "\n",
    "class MaxListener(tweepy.StreamListener):\n",
    "    \n",
    "    def on_Data(self, raw_data):\n",
    "        self.process_data(raw_data)\n",
    "        return True\n",
    "    \n",
    "    def process_data(self, raw_data):\n",
    "        print(raw_data)\n",
    "        \n",
    "    def on_error(self, status_code):\n",
    "        if status_code ==420:\n",
    "            # returning False in on_Data disconnects the stream\n",
    "            return False\n",
    "\n",
    "# Create a Stream\n",
    "class MaxStream():\n",
    "    \n",
    "    def __init__(self, auth, listener):\n",
    "        self.stream = tweepy.Stream(auth=auth, listener=listener)\n",
    "        \n",
    "    def start(self, keyword_list):\n",
    "        self.stream.filter(track=keyword_list)\n",
    "        \n",
    "# Start the Stream\n",
    "if __name__ ==\"__main__\":\n",
    "    listener = MaxListener()\n",
    "    auth = tweepy.OAuthHandler(\"mHwDkHtAr0YsmrJhuVpA9MQhH\", \"8OXET1pwHp70H1R5Ed0w9NEeBXrZVJOqa9JLbgEtO6xjLq8OlV\")\n",
    "    auth.set_access_token(\"1384514435385937926-ufOKI9oTRQrM0ibYTpRBDIuR7klIYC\", \"0NNpZ0zPHWylv7p6MLPwjoZPuCZsqHXsbBNS00GElwfTX\")\n",
    "    \n",
    "    stream = MaxStream(auth, listener)\n",
    "    stream.strat(['python'])"
   ]
  }
 ],
 "metadata": {
  "kernelspec": {
   "display_name": "Python 3",
   "language": "python",
   "name": "python3"
  },
  "language_info": {
   "codemirror_mode": {
    "name": "ipython",
    "version": 3
   },
   "file_extension": ".py",
   "mimetype": "text/x-python",
   "name": "python",
   "nbconvert_exporter": "python",
   "pygments_lexer": "ipython3",
   "version": "3.7.6"
  }
 },
 "nbformat": 4,
 "nbformat_minor": 4
}

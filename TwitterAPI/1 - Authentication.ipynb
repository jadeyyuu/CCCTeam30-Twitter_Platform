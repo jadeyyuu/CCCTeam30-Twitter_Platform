{
 "cells": [
  {
   "cell_type": "code",
   "execution_count": 1,
   "metadata": {},
   "outputs": [],
   "source": [
    "import tweepy\n",
    "\n",
    "auth = tweepy.OAuthHandler(\"mHwDkHtAr0YsmrJhuVpA9MQhH\", \"8OXET1pwHp70H1R5Ed0w9NEeBXrZVJOqa9JLbgEtO6xjLq8OlV\")\n",
    "auth.set_access_token(\"1384514435385937926-ufOKI9oTRQrM0ibYTpRBDIuR7klIYC\", \"0NNpZ0zPHWylv7p6MLPwjoZPuCZsqHXsbBNS00GElwfTX\")\n",
    "api = tweepy.API(auth)\n",
    "\n",
    "# callback_url = 'oob'\n",
    "# redirect_url = auth.get_authorization_url()\n",
    "# print(redirect_url)"
   ]
  },
  {
   "cell_type": "code",
   "execution_count": 2,
   "metadata": {},
   "outputs": [
    {
     "name": "stdout",
     "output_type": "stream",
     "text": [
      "Chelsea49123764\n"
     ]
    }
   ],
   "source": [
    "me = api.me()\n",
    "print(me.screen_name)"
   ]
  },
  {
   "cell_type": "code",
   "execution_count": null,
   "metadata": {},
   "outputs": [],
   "source": [
    "\n",
    "# public_tweets = api.home_timeline()\n",
    "# for tweet in public_tweets:\n",
    "#     print(tweet.text.encode('utf-8'))"
   ]
  }
 ],
 "metadata": {
  "kernelspec": {
   "display_name": "Python 3",
   "language": "python",
   "name": "python3"
  },
  "language_info": {
   "codemirror_mode": {
    "name": "ipython",
    "version": 3
   },
   "file_extension": ".py",
   "mimetype": "text/x-python",
   "name": "python",
   "nbconvert_exporter": "python",
   "pygments_lexer": "ipython3",
   "version": "3.7.6"
  }
 },
 "nbformat": 4,
 "nbformat_minor": 4
}

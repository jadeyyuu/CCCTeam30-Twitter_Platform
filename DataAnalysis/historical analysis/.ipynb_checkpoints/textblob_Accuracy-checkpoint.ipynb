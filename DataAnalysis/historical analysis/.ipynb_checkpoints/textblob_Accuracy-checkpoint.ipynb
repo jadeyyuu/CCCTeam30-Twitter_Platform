{
 "cells": [
  {
   "cell_type": "code",
   "execution_count": 7,
   "id": "a1786e4a",
   "metadata": {},
   "outputs": [
    {
     "name": "stdout",
     "output_type": "stream",
     "text": [
      "Negative Sentiment Accuracy: 94.78%\n",
      "Positive Sentiment Accuracy: 98.12%\n"
     ]
    }
   ],
   "source": [
    "#This program checks the accuracy of sentiment analysis using textblob\n",
    "import nltk\n",
    "from nltk.corpus import twitter_samples\n",
    "from textblob import TextBlob\n",
    "\n",
    "#nltk has 5,000 manually classified positive and negative tweets.\n",
    "#This can be used to varify textblob's accuracy\n",
    "neg = twitter_samples.strings('negative_tweets.json')\n",
    "pos = twitter_samples.strings('positive_tweets.json')\n",
    "counter = 0\n",
    "neg\n",
    "for i in neg:\n",
    "\tsentiment = TextBlob(i).polarity\n",
    "\tif sentiment < 0:\n",
    "\t\tcounter = counter + 1\n",
    "print(\"Negative Sentiment Accuracy: \" + str(counter / len(neg) * 100) + \"%\")\n",
    "\n",
    "counter = 0\n",
    "for i in pos:\n",
    "\tsentiment = TextBlob(i).polarity\n",
    "\tif sentiment > 0:\n",
    "\t\tcounter = counter + 1\n",
    "print(\"Positive Sentiment Accuracy: \" + str(\"%.2f\" % (counter / len(neg) * 100)) + \"%\")"
   ]
  },
  {
   "cell_type": "code",
   "execution_count": null,
   "id": "a5cc28af",
   "metadata": {},
   "outputs": [],
   "source": []
  }
 ],
 "metadata": {
  "kernelspec": {
   "display_name": "Python 3",
   "language": "python",
   "name": "python3"
  },
  "language_info": {
   "codemirror_mode": {
    "name": "ipython",
    "version": 3
   },
   "file_extension": ".py",
   "mimetype": "text/x-python",
   "name": "python",
   "nbconvert_exporter": "python",
   "pygments_lexer": "ipython3",
   "version": "3.9.4"
  }
 },
 "nbformat": 4,
 "nbformat_minor": 5
}

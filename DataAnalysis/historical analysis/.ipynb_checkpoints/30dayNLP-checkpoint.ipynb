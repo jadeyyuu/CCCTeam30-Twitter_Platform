{
 "cells": [
  {
   "cell_type": "code",
   "execution_count": 2,
   "id": "556e5a62",
   "metadata": {},
   "outputs": [],
   "source": [
    "import pandas as pd\n",
    "import ijson\n",
    "import json\n",
    "from pyspark.sql import SparkSession\n",
    "import warnings\n",
    "warnings.filterwarnings('ignore')"
   ]
  },
  {
   "cell_type": "code",
   "execution_count": 3,
   "id": "f5489adb",
   "metadata": {},
   "outputs": [],
   "source": [
    "import glob\n",
    "tweet_id=[]\n",
    "time = []\n",
    "text = []\n",
    "location =[]\n",
    "city = []\n",
    "read_files = glob.glob(\"30day/*.json\")\n",
    "\n",
    "for file in read_files:\n",
    "    with open(str(file), 'r') as f:\n",
    "        objects = ijson.items(f, 'results.item')\n",
    "        for obj in objects:\n",
    "            try:\n",
    "                for row in obj:\n",
    "                    if row['text'].startswith(\"RT\") == False and row['id'] not in tweet_id:\n",
    "                        city.append(row['place']['name'])\n",
    "                        location.append(row['coordinates'])\n",
    "                        time.append(row['created_at'])\n",
    "                        text.append(row['text'])\n",
    "                        tweet_id.append(row['id'])\n",
    "            except:\n",
    "                pass\n",
    "\n",
    "data = pd.DataFrame({\"text\":text,\"time\":time,\"location\":location},columns=[\"text\",\"time\",\"location\"])\n",
    "data['time'] = pd.to_datetime(data['time']).dt.date"
   ]
  },
  {
   "cell_type": "code",
   "execution_count": 4,
   "id": "edbd478b",
   "metadata": {},
   "outputs": [],
   "source": [
    "# tweet_id = {'id':tweet_id}\n",
    "# with open('30daytweet_id.json', 'w') as outfile:\n",
    "#     json.dump(tweet_id, outfile)"
   ]
  },
  {
   "cell_type": "code",
   "execution_count": 7,
   "id": "ebf97af9",
   "metadata": {},
   "outputs": [],
   "source": [
    "from SentimentAnalysis import *"
   ]
  },
  {
   "cell_type": "code",
   "execution_count": 8,
   "id": "3cb53ed1",
   "metadata": {},
   "outputs": [],
   "source": [
    "spark = SparkSession.builder.appName('NLP').getOrCreate()"
   ]
  },
  {
   "cell_type": "code",
   "execution_count": 9,
   "id": "c1f95351",
   "metadata": {},
   "outputs": [],
   "source": [
    "strip_non_ascii_udf = udf(strip_non_ascii, StringType())\n",
    "fix_abbreviation_udf = udf(fix_abbreviation, StringType())\n",
    "remove_features_udf = udf(remove_features, StringType())\n",
    "sentiment_analysis_udf = udf(sentiment_analysis , FloatType())\n",
    "sentiment_udf = udf(lambda x: condition(x), StringType())"
   ]
  },
  {
   "cell_type": "code",
   "execution_count": 13,
   "id": "f7f3b66d",
   "metadata": {},
   "outputs": [
    {
     "name": "stdout",
     "output_type": "stream",
     "text": [
      "+--------------------+----------+--------------------+--------------------+\n",
      "|                text|      time|            location|       text_non_asci|\n",
      "+--------------------+----------+--------------------+--------------------+\n",
      "|@austrippa @Peter...|2021-03-30|                null|@austrippa @Peter...|\n",
      "|@SciNate @Breakfa...|2021-03-30|                null|@SciNate @Breakfa...|\n",
      "|@angelabetheras I...|2021-03-30|                null|@angelabetheras I...|\n",
      "|@alwayscold11 @50...|2021-03-30|                null|@alwayscold11 @50...|\n",
      "|Time for the peop...|2021-03-30|                null|Time for the peop...|\n",
      "|Just posted a pho...|2021-03-30|{coordinates -> [...|Just posted a pho...|\n",
      "|In time for Easte...|2021-03-30|{coordinates -> [...|In time for Easte...|\n",
      "|@Reuters Why is i...|2021-03-30|                null|@Reuters Why is i...|\n",
      "|@fairfieldbooks ?...|2021-03-30|                null|@fairfieldbooks  ...|\n",
      "|@Linsulin_junkie ...|2021-03-30|                null|@Linsulin_junkie ...|\n",
      "|Shityoushouldcare...|2021-03-30|                null|Shityoushouldcare...|\n",
      "|Not our day on Su...|2021-03-30|                null|Not our day on Su...|\n",
      "|Maybe I should ju...|2021-03-30|                null|Maybe I should ju...|\n",
      "|A little teaser f...|2021-03-30|                null|A little teaser f...|\n",
      "|@BlueSpotScience ...|2021-03-30|                null|@BlueSpotScience ...|\n",
      "|1/3 B-12 injectio...|2021-03-30|                null|1/3 B-12 injectio...|\n",
      "|::: MEDIA CALL ::...|2021-03-30|                null|::: MEDIA CALL ::...|\n",
      "|The Prime Ministe...|2021-03-30|                null|The Prime Ministe...|\n",
      "|Avoid Gertrude St...|2021-03-30|                null|Avoid Gertrude St...|\n",
      "|Just posted a pho...|2021-03-30|{coordinates -> [...|Just posted a pho...|\n",
      "+--------------------+----------+--------------------+--------------------+\n",
      "only showing top 20 rows\n",
      "\n"
     ]
    }
   ],
   "source": [
    "df = spark.createDataFrame(data)\n",
    "df = df.withColumn('text_non_asci',strip_non_ascii_udf(df['text']))\n",
    "df.show()"
   ]
  },
  {
   "cell_type": "code",
   "execution_count": 14,
   "id": "bf404d0a",
   "metadata": {},
   "outputs": [
    {
     "name": "stdout",
     "output_type": "stream",
     "text": [
      "+--------------------+----------+--------------------+--------------------+--------------------+\n",
      "|                text|      time|            location|       text_non_asci|        fixed_abbrev|\n",
      "+--------------------+----------+--------------------+--------------------+--------------------+\n",
      "|@austrippa @Peter...|2021-03-30|                null|@austrippa @Peter...|@austrippa @peter...|\n",
      "|@SciNate @Breakfa...|2021-03-30|                null|@SciNate @Breakfa...|@scinate @breakfa...|\n",
      "|@angelabetheras I...|2021-03-30|                null|@angelabetheras I...|@angelabetheras i...|\n",
      "|@alwayscold11 @50...|2021-03-30|                null|@alwayscold11 @50...|@alwayscold11 @50...|\n",
      "|Time for the peop...|2021-03-30|                null|Time for the peop...|time for the peop...|\n",
      "|Just posted a pho...|2021-03-30|{coordinates -> [...|Just posted a pho...|just posted a pho...|\n",
      "|In time for Easte...|2021-03-30|{coordinates -> [...|In time for Easte...|in time for easte...|\n",
      "|@Reuters Why is i...|2021-03-30|                null|@Reuters Why is i...|@reuters why is i...|\n",
      "|@fairfieldbooks ?...|2021-03-30|                null|@fairfieldbooks  ...|@fairfieldbooks  ...|\n",
      "|@Linsulin_junkie ...|2021-03-30|                null|@Linsulin_junkie ...|@linsulin_junkie ...|\n",
      "|Shityoushouldcare...|2021-03-30|                null|Shityoushouldcare...|shityoushouldcare...|\n",
      "|Not our day on Su...|2021-03-30|                null|Not our day on Su...|not our day on su...|\n",
      "|Maybe I should ju...|2021-03-30|                null|Maybe I should ju...|maybe i should ju...|\n",
      "|A little teaser f...|2021-03-30|                null|A little teaser f...|a little teaser f...|\n",
      "|@BlueSpotScience ...|2021-03-30|                null|@BlueSpotScience ...|@bluespotscience ...|\n",
      "|1/3 B-12 injectio...|2021-03-30|                null|1/3 B-12 injectio...|1/3 b-12 injectio...|\n",
      "|::: MEDIA CALL ::...|2021-03-30|                null|::: MEDIA CALL ::...|::: media call ::...|\n",
      "|The Prime Ministe...|2021-03-30|                null|The Prime Ministe...|the prime ministe...|\n",
      "|Avoid Gertrude St...|2021-03-30|                null|Avoid Gertrude St...|avoid gertrude st...|\n",
      "|Just posted a pho...|2021-03-30|{coordinates -> [...|Just posted a pho...|just posted a pho...|\n",
      "+--------------------+----------+--------------------+--------------------+--------------------+\n",
      "only showing top 20 rows\n",
      "\n"
     ]
    }
   ],
   "source": [
    "df = df.withColumn('fixed_abbrev',fix_abbreviation_udf(df['text_non_asci']))"
   ]
  },
  {
   "cell_type": "code",
   "execution_count": 15,
   "id": "d51ba60f",
   "metadata": {},
   "outputs": [
    {
     "name": "stdout",
     "output_type": "stream",
     "text": [
      "+--------------------+----------+--------------------+--------------------+--------------------+--------------------+\n",
      "|                text|      time|            location|       text_non_asci|        fixed_abbrev|             removed|\n",
      "+--------------------+----------+--------------------+--------------------+--------------------+--------------------+\n",
      "|@austrippa @Peter...|2021-03-30|                null|@austrippa @Peter...|@austrippa @peter...|true no surprises...|\n",
      "|@SciNate @Breakfa...|2021-03-30|                null|@SciNate @Breakfa...|@scinate @breakfa...|happy birthday fe...|\n",
      "|@angelabetheras I...|2021-03-30|                null|@angelabetheras I...|@angelabetheras i...|its one of the pl...|\n",
      "|@alwayscold11 @50...|2021-03-30|                null|@alwayscold11 @50...|@alwayscold11 @50...|this is me with p...|\n",
      "|Time for the peop...|2021-03-30|                null|Time for the peop...|time for the peop...|time for the peop...|\n",
      "|Just posted a pho...|2021-03-30|{coordinates -> [...|Just posted a pho...|just posted a pho...|just posted photo...|\n",
      "|In time for Easte...|2021-03-30|{coordinates -> [...|In time for Easte...|in time for easte...|in time for easte...|\n",
      "|@Reuters Why is i...|2021-03-30|                null|@Reuters Why is i...|@reuters why is i...|why is it love vo...|\n",
      "|@fairfieldbooks ?...|2021-03-30|                null|@fairfieldbooks  ...|@fairfieldbooks  ...|am looking forwar...|\n",
      "|@Linsulin_junkie ...|2021-03-30|                null|@Linsulin_junkie ...|@linsulin_junkie ...|mindi could use d...|\n",
      "|Shityoushouldcare...|2021-03-30|                null|Shityoushouldcare...|shityoushouldcare...|shityoushouldcare...|\n",
      "|Not our day on Su...|2021-03-30|                null|Not our day on Su...|not our day on su...|not our day on su...|\n",
      "|Maybe I should ju...|2021-03-30|                null|Maybe I should ju...|maybe i should ju...|maybe should just...|\n",
      "|A little teaser f...|2021-03-30|                null|A little teaser f...|a little teaser f...|little teaser for...|\n",
      "|@BlueSpotScience ...|2021-03-30|                null|@BlueSpotScience ...|@bluespotscience ...|congratulations j...|\n",
      "|1/3 B-12 injectio...|2021-03-30|                null|1/3 B-12 injectio...|1/3 b-12 injectio...|injections done t...|\n",
      "|::: MEDIA CALL ::...|2021-03-30|                null|::: MEDIA CALL ::...|::: media call ::...|media call callin...|\n",
      "|The Prime Ministe...|2021-03-30|                null|The Prime Ministe...|the prime ministe...|the prime ministe...|\n",
      "|Avoid Gertrude St...|2021-03-30|                null|Avoid Gertrude St...|avoid gertrude st...|   avoid gertrude st|\n",
      "|Just posted a pho...|2021-03-30|{coordinates -> [...|Just posted a pho...|just posted a pho...|just posted photo...|\n",
      "+--------------------+----------+--------------------+--------------------+--------------------+--------------------+\n",
      "only showing top 20 rows\n",
      "\n"
     ]
    }
   ],
   "source": [
    "df = df.withColumn('removed',remove_features_udf(df['fixed_abbrev']))"
   ]
  },
  {
   "cell_type": "code",
   "execution_count": 16,
   "id": "1d19cd9b",
   "metadata": {},
   "outputs": [
    {
     "name": "stdout",
     "output_type": "stream",
     "text": [
      "+--------------------+----------+--------------------+--------------------+--------------------+--------------------+---------------+\n",
      "|                text|      time|            location|       text_non_asci|        fixed_abbrev|             removed|sentiment_score|\n",
      "+--------------------+----------+--------------------+--------------------+--------------------+--------------------+---------------+\n",
      "|@austrippa @Peter...|2021-03-30|                null|@austrippa @Peter...|@austrippa @peter...|true no surprises...|           0.35|\n",
      "|@SciNate @Breakfa...|2021-03-30|                null|@SciNate @Breakfa...|@scinate @breakfa...|happy birthday fe...|            0.1|\n",
      "|@angelabetheras I...|2021-03-30|                null|@angelabetheras I...|@angelabetheras i...|its one of the pl...|            0.0|\n",
      "|@alwayscold11 @50...|2021-03-30|                null|@alwayscold11 @50...|@alwayscold11 @50...|this is me with p...|            0.1|\n",
      "|Time for the peop...|2021-03-30|                null|Time for the peop...|time for the peop...|time for the peop...|            0.0|\n",
      "|Just posted a pho...|2021-03-30|{coordinates -> [...|Just posted a pho...|just posted a pho...|just posted photo...|            0.0|\n",
      "|In time for Easte...|2021-03-30|{coordinates -> [...|In time for Easte...|in time for easte...|in time for easte...|            0.0|\n",
      "|@Reuters Why is i...|2021-03-30|                null|@Reuters Why is i...|@reuters why is i...|why is it love vo...|           0.24|\n",
      "|@fairfieldbooks ?...|2021-03-30|                null|@fairfieldbooks  ...|@fairfieldbooks  ...|am looking forwar...|            0.0|\n",
      "|@Linsulin_junkie ...|2021-03-30|                null|@Linsulin_junkie ...|@linsulin_junkie ...|mindi could use d...|            0.0|\n",
      "|Shityoushouldcare...|2021-03-30|                null|Shityoushouldcare...|shityoushouldcare...|shityoushouldcare...|            0.0|\n",
      "|Not our day on Su...|2021-03-30|                null|Not our day on Su...|not our day on su...|not our day on su...|      0.2361111|\n",
      "|Maybe I should ju...|2021-03-30|                null|Maybe I should ju...|maybe i should ju...|maybe should just...|      0.2857143|\n",
      "|A little teaser f...|2021-03-30|                null|A little teaser f...|a little teaser f...|little teaser for...|    -0.05965909|\n",
      "|@BlueSpotScience ...|2021-03-30|                null|@BlueSpotScience ...|@bluespotscience ...|congratulations j...|            0.7|\n",
      "|1/3 B-12 injectio...|2021-03-30|                null|1/3 B-12 injectio...|1/3 b-12 injectio...|injections done t...|           -0.7|\n",
      "|::: MEDIA CALL ::...|2021-03-30|                null|::: MEDIA CALL ::...|::: media call ::...|media call callin...|     0.11818182|\n",
      "|The Prime Ministe...|2021-03-30|                null|The Prime Ministe...|the prime ministe...|the prime ministe...|           -0.6|\n",
      "|Avoid Gertrude St...|2021-03-30|                null|Avoid Gertrude St...|avoid gertrude st...|   avoid gertrude st|            0.0|\n",
      "|Just posted a pho...|2021-03-30|{coordinates -> [...|Just posted a pho...|just posted a pho...|just posted photo...|            0.0|\n",
      "+--------------------+----------+--------------------+--------------------+--------------------+--------------------+---------------+\n",
      "only showing top 20 rows\n",
      "\n"
     ]
    }
   ],
   "source": [
    "df  = df.withColumn(\"sentiment_score\", sentiment_analysis_udf( df['removed'] ))"
   ]
  },
  {
   "cell_type": "code",
   "execution_count": 12,
   "id": "5481743a",
   "metadata": {},
   "outputs": [],
   "source": [
    "df  = df.withColumn(\"sentiment\", sentiment_udf( df['sentiment_score'] ))\n",
    "SA_results = df.select('text','time','sentiment_score','sentiment')"
   ]
  },
  {
   "cell_type": "code",
   "execution_count": 13,
   "id": "68e48676",
   "metadata": {},
   "outputs": [],
   "source": [
    "contain_covid = df.filter((\"removed like '%covid%' or removed like '%coronavirus%' or removed like '%vaccin%'\"))\n",
    "contain_covid = contain_covid.select('text','time','sentiment_score','sentiment').groupBy('sentiment').count()\n",
    "contain_covid_pd= contain_covid.toPandas()"
   ]
  },
  {
   "cell_type": "code",
   "execution_count": 14,
   "id": "211bb1e2",
   "metadata": {},
   "outputs": [
    {
     "data": {
      "text/html": [
       "<div>\n",
       "<style scoped>\n",
       "    .dataframe tbody tr th:only-of-type {\n",
       "        vertical-align: middle;\n",
       "    }\n",
       "\n",
       "    .dataframe tbody tr th {\n",
       "        vertical-align: top;\n",
       "    }\n",
       "\n",
       "    .dataframe thead th {\n",
       "        text-align: right;\n",
       "    }\n",
       "</style>\n",
       "<table border=\"1\" class=\"dataframe\">\n",
       "  <thead>\n",
       "    <tr style=\"text-align: right;\">\n",
       "      <th></th>\n",
       "      <th>sentiment</th>\n",
       "      <th>count</th>\n",
       "      <th>percentage %</th>\n",
       "    </tr>\n",
       "  </thead>\n",
       "  <tbody>\n",
       "    <tr>\n",
       "      <th>0</th>\n",
       "      <td>positive</td>\n",
       "      <td>227</td>\n",
       "      <td>33.830104</td>\n",
       "    </tr>\n",
       "    <tr>\n",
       "      <th>1</th>\n",
       "      <td>neutral</td>\n",
       "      <td>323</td>\n",
       "      <td>48.137109</td>\n",
       "    </tr>\n",
       "    <tr>\n",
       "      <th>2</th>\n",
       "      <td>negative</td>\n",
       "      <td>121</td>\n",
       "      <td>18.032787</td>\n",
       "    </tr>\n",
       "  </tbody>\n",
       "</table>\n",
       "</div>"
      ],
      "text/plain": [
       "  sentiment  count  percentage %\n",
       "0  positive    227     33.830104\n",
       "1   neutral    323     48.137109\n",
       "2  negative    121     18.032787"
      ]
     },
     "execution_count": 14,
     "metadata": {},
     "output_type": "execute_result"
    }
   ],
   "source": [
    "contain_covid_pd['percentage %'] = contain_covid_pd['count']/contain_covid_pd['count'].sum()*100\n",
    "contain_covid_pd"
   ]
  },
  {
   "cell_type": "code",
   "execution_count": 15,
   "id": "c9eb318c",
   "metadata": {
    "scrolled": true
   },
   "outputs": [
    {
     "data": {
      "text/html": [
       "<div>\n",
       "<style scoped>\n",
       "    .dataframe tbody tr th:only-of-type {\n",
       "        vertical-align: middle;\n",
       "    }\n",
       "\n",
       "    .dataframe tbody tr th {\n",
       "        vertical-align: top;\n",
       "    }\n",
       "\n",
       "    .dataframe thead th {\n",
       "        text-align: right;\n",
       "    }\n",
       "</style>\n",
       "<table border=\"1\" class=\"dataframe\">\n",
       "  <thead>\n",
       "    <tr style=\"text-align: right;\">\n",
       "      <th></th>\n",
       "      <th>sentiment</th>\n",
       "      <th>count</th>\n",
       "      <th>percentage</th>\n",
       "    </tr>\n",
       "  </thead>\n",
       "  <tbody>\n",
       "    <tr>\n",
       "      <th>0</th>\n",
       "      <td>positive</td>\n",
       "      <td>15598</td>\n",
       "      <td>36.055570</td>\n",
       "    </tr>\n",
       "    <tr>\n",
       "      <th>1</th>\n",
       "      <td>neutral</td>\n",
       "      <td>21804</td>\n",
       "      <td>50.401054</td>\n",
       "    </tr>\n",
       "    <tr>\n",
       "      <th>2</th>\n",
       "      <td>negative</td>\n",
       "      <td>5859</td>\n",
       "      <td>13.543376</td>\n",
       "    </tr>\n",
       "  </tbody>\n",
       "</table>\n",
       "</div>"
      ],
      "text/plain": [
       "  sentiment  count  percentage\n",
       "0  positive  15598   36.055570\n",
       "1   neutral  21804   50.401054\n",
       "2  negative   5859   13.543376"
      ]
     },
     "execution_count": 15,
     "metadata": {},
     "output_type": "execute_result"
    }
   ],
   "source": [
    "overall = SA_results.groupBy(['sentiment']).count()\n",
    "overall_pd = overall.toPandas()\n",
    "overall_pd['percentage'] = overall_pd['count']/overall_pd['count'].sum()*100\n",
    "overall_pd"
   ]
  },
  {
   "cell_type": "code",
   "execution_count": 16,
   "id": "06ae7699",
   "metadata": {},
   "outputs": [
    {
     "data": {
      "text/plain": [
       "0    227\n",
       "1    323\n",
       "2    121\n",
       "Name: count, dtype: int64"
      ]
     },
     "execution_count": 16,
     "metadata": {},
     "output_type": "execute_result"
    }
   ],
   "source": [
    "contain_covid_pd['count']"
   ]
  },
  {
   "cell_type": "markdown",
   "id": "2086d825",
   "metadata": {},
   "source": [
    "# Topic Model: Latent Dirichlet Allocation"
   ]
  },
  {
   "cell_type": "code",
   "execution_count": 20,
   "id": "73226ccc",
   "metadata": {},
   "outputs": [],
   "source": [
    "from TextAnalytics import *"
   ]
  },
  {
   "cell_type": "code",
   "execution_count": 21,
   "id": "b63678cc",
   "metadata": {},
   "outputs": [],
   "source": [
    "from pyspark.sql.types import ArrayType\n",
    "def to_word(text):\n",
    "    return text.split(\" \")"
   ]
  },
  {
   "cell_type": "code",
   "execution_count": 22,
   "id": "cea0acf7",
   "metadata": {},
   "outputs": [],
   "source": [
    "spark = SparkSession.builder.appName('NLP').getOrCreate()"
   ]
  },
  {
   "cell_type": "code",
   "execution_count": 23,
   "id": "6c10918f",
   "metadata": {},
   "outputs": [],
   "source": [
    "strip_non_ascii_udf = udf(strip_non_ascii, StringType())\n",
    "check_blanks_udf = udf(check_blanks, StringType())\n",
    "check_lang_udf = udf(check_lang, StringType())\n",
    "fix_abbreviation_udf = udf(fix_abbreviation, StringType())\n",
    "remove_stops_udf = udf(remove_stops, StringType())\n",
    "remove_features_udf = udf(remove_features, StringType())\n",
    "tag_and_remove_udf = udf(tag_and_remove, StringType())\n",
    "lemmatize_udf = udf(lemmatize, StringType())\n",
    "to_word_udf = udf(to_word,ArrayType(StringType()))"
   ]
  },
  {
   "cell_type": "code",
   "execution_count": 24,
   "id": "76a28a06",
   "metadata": {},
   "outputs": [],
   "source": [
    "rawdata = spark.createDataFrame(data)"
   ]
  },
  {
   "cell_type": "code",
   "execution_count": 25,
   "id": "2d060d39",
   "metadata": {},
   "outputs": [],
   "source": [
    "raw_cols =  rawdata.columns"
   ]
  },
  {
   "cell_type": "code",
   "execution_count": 26,
   "id": "2801b3ec",
   "metadata": {},
   "outputs": [
    {
     "name": "stdout",
     "output_type": "stream",
     "text": [
      "+--------------------+----------+--------------------+--------------------+\n",
      "|                text|      time|            location|            non_asci|\n",
      "+--------------------+----------+--------------------+--------------------+\n",
      "|@austrippa @Peter...|2021-03-30|                null|@austrippa @Peter...|\n",
      "|@SciNate @Breakfa...|2021-03-30|                null|@SciNate @Breakfa...|\n",
      "|@angelabetheras I...|2021-03-30|                null|@angelabetheras I...|\n",
      "|@alwayscold11 @50...|2021-03-30|                null|@alwayscold11 @50...|\n",
      "|Time for the peop...|2021-03-30|                null|Time for the peop...|\n",
      "|Just posted a pho...|2021-03-30|{coordinates -> [...|Just posted a pho...|\n",
      "|In time for Easte...|2021-03-30|{coordinates -> [...|In time for Easte...|\n",
      "|@Reuters Why is i...|2021-03-30|                null|@Reuters Why is i...|\n",
      "|@fairfieldbooks ?...|2021-03-30|                null|@fairfieldbooks  ...|\n",
      "|@Linsulin_junkie ...|2021-03-30|                null|@Linsulin_junkie ...|\n",
      "|Shityoushouldcare...|2021-03-30|                null|Shityoushouldcare...|\n",
      "|Not our day on Su...|2021-03-30|                null|Not our day on Su...|\n",
      "|Maybe I should ju...|2021-03-30|                null|Maybe I should ju...|\n",
      "|A little teaser f...|2021-03-30|                null|A little teaser f...|\n",
      "|@BlueSpotScience ...|2021-03-30|                null|@BlueSpotScience ...|\n",
      "|1/3 B-12 injectio...|2021-03-30|                null|1/3 B-12 injectio...|\n",
      "|::: MEDIA CALL ::...|2021-03-30|                null|::: MEDIA CALL ::...|\n",
      "|The Prime Ministe...|2021-03-30|                null|The Prime Ministe...|\n",
      "|Avoid Gertrude St...|2021-03-30|                null|Avoid Gertrude St...|\n",
      "|Just posted a pho...|2021-03-30|{coordinates -> [...|Just posted a pho...|\n",
      "+--------------------+----------+--------------------+--------------------+\n",
      "only showing top 20 rows\n",
      "\n"
     ]
    }
   ],
   "source": [
    "rawdata = rawdata.withColumn('non_asci', strip_non_ascii_udf(rawdata['text']))\n"
   ]
  },
  {
   "cell_type": "code",
   "execution_count": 27,
   "id": "01e8692b",
   "metadata": {},
   "outputs": [
    {
     "name": "stdout",
     "output_type": "stream",
     "text": [
      "+--------------------+----------+--------------------+--------------------+--------------------+\n",
      "|                text|      time|            location|            non_asci|        fixed_abbrev|\n",
      "+--------------------+----------+--------------------+--------------------+--------------------+\n",
      "|@austrippa @Peter...|2021-03-30|                null|@austrippa @Peter...|@austrippa @peter...|\n",
      "|@SciNate @Breakfa...|2021-03-30|                null|@SciNate @Breakfa...|@scinate @breakfa...|\n",
      "|@angelabetheras I...|2021-03-30|                null|@angelabetheras I...|@angelabetheras i...|\n",
      "|@alwayscold11 @50...|2021-03-30|                null|@alwayscold11 @50...|@alwayscold11 @50...|\n",
      "|Time for the peop...|2021-03-30|                null|Time for the peop...|time for the peop...|\n",
      "|Just posted a pho...|2021-03-30|{coordinates -> [...|Just posted a pho...|just posted a pho...|\n",
      "|In time for Easte...|2021-03-30|{coordinates -> [...|In time for Easte...|in time for easte...|\n",
      "|@Reuters Why is i...|2021-03-30|                null|@Reuters Why is i...|@reuters why is i...|\n",
      "|@fairfieldbooks ?...|2021-03-30|                null|@fairfieldbooks  ...|@fairfieldbooks  ...|\n",
      "|@Linsulin_junkie ...|2021-03-30|                null|@Linsulin_junkie ...|@linsulin_junkie ...|\n",
      "|Shityoushouldcare...|2021-03-30|                null|Shityoushouldcare...|shityoushouldcare...|\n",
      "|Not our day on Su...|2021-03-30|                null|Not our day on Su...|not our day on su...|\n",
      "|Maybe I should ju...|2021-03-30|                null|Maybe I should ju...|maybe i should ju...|\n",
      "|A little teaser f...|2021-03-30|                null|A little teaser f...|a little teaser f...|\n",
      "|@BlueSpotScience ...|2021-03-30|                null|@BlueSpotScience ...|@bluespotscience ...|\n",
      "|1/3 B-12 injectio...|2021-03-30|                null|1/3 B-12 injectio...|1/3 b-12 injectio...|\n",
      "|::: MEDIA CALL ::...|2021-03-30|                null|::: MEDIA CALL ::...|::: media call ::...|\n",
      "|The Prime Ministe...|2021-03-30|                null|The Prime Ministe...|the prime ministe...|\n",
      "|Avoid Gertrude St...|2021-03-30|                null|Avoid Gertrude St...|avoid gertrude st...|\n",
      "|Just posted a pho...|2021-03-30|{coordinates -> [...|Just posted a pho...|just posted a pho...|\n",
      "+--------------------+----------+--------------------+--------------------+--------------------+\n",
      "only showing top 20 rows\n",
      "\n"
     ]
    }
   ],
   "source": [
    "rawdata = rawdata.select(raw_cols+['non_asci'])\\\n",
    "                 .withColumn('fixed_abbrev',fix_abbreviation_udf(rawdata['non_asci']))\n",
    "rawdata.show()"
   ]
  },
  {
   "cell_type": "code",
   "execution_count": 28,
   "id": "319dfa78",
   "metadata": {},
   "outputs": [
    {
     "name": "stdout",
     "output_type": "stream",
     "text": [
      "+--------------------+----------+--------------------+--------------------+--------------------+\n",
      "|                text|      time|            location|        fixed_abbrev|          stop_texts|\n",
      "+--------------------+----------+--------------------+--------------------+--------------------+\n",
      "|@austrippa @Peter...|2021-03-30|                null|@austrippa @peter...|@austrippa @peter...|\n",
      "|@SciNate @Breakfa...|2021-03-30|                null|@scinate @breakfa...|@scinate @breakfa...|\n",
      "|@angelabetheras I...|2021-03-30|                null|@angelabetheras i...|@angelabetheras o...|\n",
      "|@alwayscold11 @50...|2021-03-30|                null|@alwayscold11 @50...|@alwayscold11 @50...|\n",
      "|Time for the peop...|2021-03-30|                null|time for the peop...|time people work,...|\n",
      "|Just posted a pho...|2021-03-30|{coordinates -> [...|just posted a pho...|posted photo @ cl...|\n",
      "|In time for Easte...|2021-03-30|{coordinates -> [...|in time for easte...|time easter dinin...|\n",
      "|@Reuters Why is i...|2021-03-30|                null|@reuters why is i...|@reuters love vol...|\n",
      "|@fairfieldbooks ?...|2021-03-30|                null|@fairfieldbooks  ...|@fairfieldbooks l...|\n",
      "|@Linsulin_junkie ...|2021-03-30|                null|@linsulin_junkie ...|@linsulin_junkie ...|\n",
      "|Shityoushouldcare...|2021-03-30|                null|shityoushouldcare...|shityoushouldcare...|\n",
      "|Not our day on Su...|2021-03-30|                null|not our day on su...|day sunday, congr...|\n",
      "|Maybe I should ju...|2021-03-30|                null|maybe i should ju...|maybe masturbate ...|\n",
      "|A little teaser f...|2021-03-30|                null|a little teaser f...|little teaser fan...|\n",
      "|@BlueSpotScience ...|2021-03-30|                null|@bluespotscience ...|@bluespotscience ...|\n",
      "|1/3 B-12 injectio...|2021-03-30|                null|1/3 b-12 injectio...|1/3 b-12 injectio...|\n",
      "|::: MEDIA CALL ::...|2021-03-30|                null|::: media call ::...|::: media call ::...|\n",
      "|The Prime Ministe...|2021-03-30|                null|the prime ministe...|prime minister sl...|\n",
      "|Avoid Gertrude St...|2021-03-30|                null|avoid gertrude st...|avoid gertrude st...|\n",
      "|Just posted a pho...|2021-03-30|{coordinates -> [...|just posted a pho...|posted photo @ ve...|\n",
      "+--------------------+----------+--------------------+--------------------+--------------------+\n",
      "only showing top 20 rows\n",
      "\n"
     ]
    }
   ],
   "source": [
    "rawdata = rawdata.select(raw_cols+['fixed_abbrev'])\\\n",
    "                .withColumn('stop_texts',remove_stops_udf(rawdata['fixed_abbrev']))\n",
    "rawdata.show()"
   ]
  },
  {
   "cell_type": "code",
   "execution_count": 29,
   "id": "9353be35",
   "metadata": {},
   "outputs": [
    {
     "name": "stdout",
     "output_type": "stream",
     "text": [
      "+--------------------+----------+--------------------+--------------------+--------------------+\n",
      "|                text|      time|            location|          stop_texts|             removed|\n",
      "+--------------------+----------+--------------------+--------------------+--------------------+\n",
      "|@austrippa @Peter...|2021-03-30|                null|@austrippa @peter...| true surprises here|\n",
      "|@SciNate @Breakfa...|2021-03-30|                null|@scinate @breakfa...|happy birthday fe...|\n",
      "|@angelabetheras I...|2021-03-30|                null|@angelabetheras o...|one places legiti...|\n",
      "|@alwayscold11 @50...|2021-03-30|                null|@alwayscold11 @50...|podcasts min podc...|\n",
      "|Time for the peop...|2021-03-30|                null|time people work,...|time people work ...|\n",
      "|Just posted a pho...|2021-03-30|{coordinates -> [...|posted photo @ cl...|posted photo clyd...|\n",
      "|In time for Easte...|2021-03-30|{coordinates -> [...|time easter dinin...|time easter dinin...|\n",
      "|@Reuters Why is i...|2021-03-30|                null|@reuters love vol...|love volcano news...|\n",
      "|@fairfieldbooks ?...|2021-03-30|                null|@fairfieldbooks l...|  looking forward it|\n",
      "|@Linsulin_junkie ...|2021-03-30|                null|@linsulin_junkie ...|mindi could use d...|\n",
      "|Shityoushouldcare...|2021-03-30|                null|shityoushouldcare...|shityoushouldcare...|\n",
      "|Not our day on Su...|2021-03-30|                null|day sunday, congr...|day sunday congra...|\n",
      "|Maybe I should ju...|2021-03-30|                null|maybe masturbate ...|maybe masturbate ...|\n",
      "|A little teaser f...|2021-03-30|                null|little teaser fan...|little teaser fan...|\n",
      "|@BlueSpotScience ...|2021-03-30|                null|@bluespotscience ...|congratulations j...|\n",
      "|1/3 B-12 injectio...|2021-03-30|                null|1/3 b-12 injectio...|injections done h...|\n",
      "|::: MEDIA CALL ::...|2021-03-30|                null|::: media call ::...|media call callin...|\n",
      "|The Prime Ministe...|2021-03-30|                null|prime minister sl...|prime minister sl...|\n",
      "|Avoid Gertrude St...|2021-03-30|                null|avoid gertrude st...|   avoid gertrude st|\n",
      "|Just posted a pho...|2021-03-30|{coordinates -> [...|posted photo @ ve...|posted photo verm...|\n",
      "+--------------------+----------+--------------------+--------------------+--------------------+\n",
      "only showing top 20 rows\n",
      "\n"
     ]
    }
   ],
   "source": [
    "rawdata=rawdata.select(raw_cols+['stop_texts'])\\\n",
    "                .withColumn('removed',remove_features_udf(rawdata['stop_texts']))\n",
    "rawdata.show()"
   ]
  },
  {
   "cell_type": "code",
   "execution_count": 30,
   "id": "38049abb",
   "metadata": {},
   "outputs": [
    {
     "name": "stdout",
     "output_type": "stream",
     "text": [
      "+--------------------+----------+--------------------+--------------------+--------------------+\n",
      "|                text|      time|            location|             removed|         tagged_text|\n",
      "+--------------------+----------+--------------------+--------------------+--------------------+\n",
      "|@austrippa @Peter...|2021-03-30|                null| true surprises here|     true surprises |\n",
      "|@SciNate @Breakfa...|2021-03-30|                null|happy birthday fe...| happy birthday f...|\n",
      "|@angelabetheras I...|2021-03-30|                null|one places legiti...|       places upski |\n",
      "|@alwayscold11 @50...|2021-03-30|                null|podcasts min podc...| podcasts min pod...|\n",
      "|Time for the peop...|2021-03-30|                null|time people work ...| time people work...|\n",
      "|Just posted a pho...|2021-03-30|{coordinates -> [...|posted photo clyd...| posted photo cly...|\n",
      "|In time for Easte...|2021-03-30|{coordinates -> [...|time easter dinin...| time easter dini...|\n",
      "|@Reuters Why is i...|2021-03-30|                null|love volcano news...| love volcano new...|\n",
      "|@fairfieldbooks ?...|2021-03-30|                null|  looking forward it|    looking forward |\n",
      "|@Linsulin_junkie ...|2021-03-30|                null|mindi could use d...| mindi use detail...|\n",
      "|Shityoushouldcare...|2021-03-30|                null|shityoushouldcare...| shityoushouldcar...|\n",
      "|Not our day on Su...|2021-03-30|                null|day sunday congra...| day sunday congr...|\n",
      "|Maybe I should ju...|2021-03-30|                null|maybe masturbate ...| masturbate stop ...|\n",
      "|A little teaser f...|2021-03-30|                null|little teaser fan...| little teaser fa...|\n",
      "|@BlueSpotScience ...|2021-03-30|                null|congratulations j...| congratulations ...|\n",
      "|1/3 B-12 injectio...|2021-03-30|                null|injections done h...| injections done ...|\n",
      "|::: MEDIA CALL ::...|2021-03-30|                null|media call callin...| media call calli...|\n",
      "|The Prime Ministe...|2021-03-30|                null|prime minister sl...| prime minister s...|\n",
      "|Avoid Gertrude St...|2021-03-30|                null|   avoid gertrude st|  avoid gertrude st |\n",
      "|Just posted a pho...|2021-03-30|{coordinates -> [...|posted photo verm...| posted photo ver...|\n",
      "+--------------------+----------+--------------------+--------------------+--------------------+\n",
      "only showing top 20 rows\n",
      "\n"
     ]
    }
   ],
   "source": [
    "rawdata = rawdata.select(raw_cols+['removed'])\\\n",
    "                  .withColumn('tagged_text',tag_and_remove_udf(rawdata['removed']))\n",
    "rawdata.show()"
   ]
  },
  {
   "cell_type": "code",
   "execution_count": 31,
   "id": "921d2502",
   "metadata": {},
   "outputs": [
    {
     "name": "stdout",
     "output_type": "stream",
     "text": [
      "+--------------------+----------+--------------------+--------------------+--------------------+\n",
      "|                text|      time|            location|         tagged_text|           lemm_text|\n",
      "+--------------------+----------+--------------------+--------------------+--------------------+\n",
      "|@austrippa @Peter...|2021-03-30|                null|     true surprises |       true surprise|\n",
      "|@SciNate @Breakfa...|2021-03-30|                null| happy birthday f...|happy birthday fe...|\n",
      "|@angelabetheras I...|2021-03-30|                null|       places upski |         place upski|\n",
      "|@alwayscold11 @50...|2021-03-30|                null| podcasts min pod...|podcasts min podc...|\n",
      "|Time for the peop...|2021-03-30|                null| time people work...|time people work ...|\n",
      "|Just posted a pho...|2021-03-30|{coordinates -> [...| posted photo cly...|post photo clyde ...|\n",
      "|In time for Easte...|2021-03-30|{coordinates -> [...| time easter dini...|time easter din t...|\n",
      "|@Reuters Why is i...|2021-03-30|                null| love volcano new...|love volcano news...|\n",
      "|@fairfieldbooks ?...|2021-03-30|                null|    looking forward |        look forward|\n",
      "|@Linsulin_junkie ...|2021-03-30|                null| mindi use detail...|mindi use detail ...|\n",
      "|Shityoushouldcare...|2021-03-30|                null| shityoushouldcar...|shityoushouldcare...|\n",
      "|Not our day on Su...|2021-03-30|                null| day sunday congr...|day sunday congra...|\n",
      "|Maybe I should ju...|2021-03-30|                null| masturbate stop ...|masturbate stop p...|\n",
      "|A little teaser f...|2021-03-30|                null| little teaser fa...|little teaser fan...|\n",
      "|@BlueSpotScience ...|2021-03-30|                null| congratulations ...|congratulation jj...|\n",
      "|1/3 B-12 injectio...|2021-03-30|                null| injections done ...|injection do hu b...|\n",
      "|::: MEDIA CALL ::...|2021-03-30|                null| media call calli...|medium call call ...|\n",
      "|The Prime Ministe...|2021-03-30|                null| prime minister s...|prime minister sl...|\n",
      "|Avoid Gertrude St...|2021-03-30|                null|  avoid gertrude st |   avoid gertrude st|\n",
      "|Just posted a pho...|2021-03-30|{coordinates -> [...| posted photo ver...|post photo vermon...|\n",
      "+--------------------+----------+--------------------+--------------------+--------------------+\n",
      "only showing top 20 rows\n",
      "\n"
     ]
    }
   ],
   "source": [
    "rawdata = rawdata.select(raw_cols+['tagged_text']) \\\n",
    "                  .withColumn('lemm_text',lemmatize_udf(rawdata['tagged_text']))\n",
    "rawdata.show()"
   ]
  },
  {
   "cell_type": "code",
   "execution_count": 32,
   "id": "8b8732ad",
   "metadata": {},
   "outputs": [
    {
     "name": "stdout",
     "output_type": "stream",
     "text": [
      "+--------------------+----------+--------------------+--------------------+--------+\n",
      "|                text|      time|            location|           lemm_text|is_blank|\n",
      "+--------------------+----------+--------------------+--------------------+--------+\n",
      "|@austrippa @Peter...|2021-03-30|                null|       true surprise|   False|\n",
      "|@SciNate @Breakfa...|2021-03-30|                null|happy birthday fe...|   False|\n",
      "|@angelabetheras I...|2021-03-30|                null|         place upski|   False|\n",
      "|@alwayscold11 @50...|2021-03-30|                null|podcasts min podc...|   False|\n",
      "|Time for the peop...|2021-03-30|                null|time people work ...|   False|\n",
      "|Just posted a pho...|2021-03-30|{coordinates -> [...|post photo clyde ...|   False|\n",
      "|In time for Easte...|2021-03-30|{coordinates -> [...|time easter din t...|   False|\n",
      "|@Reuters Why is i...|2021-03-30|                null|love volcano news...|   False|\n",
      "|@fairfieldbooks ?...|2021-03-30|                null|        look forward|   False|\n",
      "|@Linsulin_junkie ...|2021-03-30|                null|mindi use detail ...|   False|\n",
      "|Shityoushouldcare...|2021-03-30|                null|shityoushouldcare...|   False|\n",
      "|Not our day on Su...|2021-03-30|                null|day sunday congra...|   False|\n",
      "|Maybe I should ju...|2021-03-30|                null|masturbate stop p...|   False|\n",
      "|A little teaser f...|2021-03-30|                null|little teaser fan...|   False|\n",
      "|@BlueSpotScience ...|2021-03-30|                null|congratulation jj...|   False|\n",
      "|1/3 B-12 injectio...|2021-03-30|                null|injection do hu b...|   False|\n",
      "|::: MEDIA CALL ::...|2021-03-30|                null|medium call call ...|   False|\n",
      "|The Prime Ministe...|2021-03-30|                null|prime minister sl...|   False|\n",
      "|Avoid Gertrude St...|2021-03-30|                null|   avoid gertrude st|   False|\n",
      "|Just posted a pho...|2021-03-30|{coordinates -> [...|post photo vermon...|   False|\n",
      "+--------------------+----------+--------------------+--------------------+--------+\n",
      "only showing top 20 rows\n",
      "\n"
     ]
    }
   ],
   "source": [
    "rawdata = rawdata.select(raw_cols+['lemm_text']) \\\n",
    "                  .withColumn(\"is_blank\", check_blanks_udf(rawdata[\"lemm_text\"]))\n",
    "rawdata.show()"
   ]
  },
  {
   "cell_type": "code",
   "execution_count": 33,
   "id": "b984d292",
   "metadata": {},
   "outputs": [
    {
     "name": "stdout",
     "output_type": "stream",
     "text": [
      "+--------------------+----------+--------------------+--------------------+--------+--------------------+\n",
      "|                text|      time|            location|           lemm_text|is_blank|                word|\n",
      "+--------------------+----------+--------------------+--------------------+--------+--------------------+\n",
      "|@austrippa @Peter...|2021-03-30|                null|       true surprise|   False|    [true, surprise]|\n",
      "|@SciNate @Breakfa...|2021-03-30|                null|happy birthday fe...|   False|[happy, birthday,...|\n",
      "|@angelabetheras I...|2021-03-30|                null|         place upski|   False|      [place, upski]|\n",
      "|@alwayscold11 @50...|2021-03-30|                null|podcasts min podc...|   False|[podcasts, min, p...|\n",
      "|Time for the peop...|2021-03-30|                null|time people work ...|   False|[time, people, wo...|\n",
      "|Just posted a pho...|2021-03-30|{coordinates -> [...|post photo clyde ...|   False|[post, photo, cly...|\n",
      "|In time for Easte...|2021-03-30|{coordinates -> [...|time easter din t...|   False|[time, easter, di...|\n",
      "|@Reuters Why is i...|2021-03-30|                null|love volcano news...|   False|[love, volcano, n...|\n",
      "|@fairfieldbooks ?...|2021-03-30|                null|        look forward|   False|     [look, forward]|\n",
      "|@Linsulin_junkie ...|2021-03-30|                null|mindi use detail ...|   False|[mindi, use, deta...|\n",
      "|Shityoushouldcare...|2021-03-30|                null|shityoushouldcare...|   False|[shityoushouldcar...|\n",
      "|Not our day on Su...|2021-03-30|                null|day sunday congra...|   False|[day, sunday, con...|\n",
      "|Maybe I should ju...|2021-03-30|                null|masturbate stop p...|   False|[masturbate, stop...|\n",
      "|A little teaser f...|2021-03-30|                null|little teaser fan...|   False|[little, teaser, ...|\n",
      "|@BlueSpotScience ...|2021-03-30|                null|congratulation jj...|   False|[congratulation, ...|\n",
      "|1/3 B-12 injectio...|2021-03-30|                null|injection do hu b...|   False|[injection, do, h...|\n",
      "|::: MEDIA CALL ::...|2021-03-30|                null|medium call call ...|   False|[medium, call, ca...|\n",
      "|The Prime Ministe...|2021-03-30|                null|prime minister sl...|   False|[prime, minister,...|\n",
      "|Avoid Gertrude St...|2021-03-30|                null|   avoid gertrude st|   False|[avoid, gertrude,...|\n",
      "|Just posted a pho...|2021-03-30|{coordinates -> [...|post photo vermon...|   False|[post, photo, ver...|\n",
      "+--------------------+----------+--------------------+--------------------+--------+--------------------+\n",
      "only showing top 20 rows\n",
      "\n"
     ]
    }
   ],
   "source": [
    "rawdata = rawdata.select(raw_cols+['lemm_text','is_blank']) \\\n",
    "                  .withColumn(\"word\", to_word_udf(rawdata[\"lemm_text\"]))"
   ]
  },
  {
   "cell_type": "code",
   "execution_count": 30,
   "id": "e99da818",
   "metadata": {},
   "outputs": [],
   "source": [
    "from pyspark.sql.functions import monotonically_increasing_id\n",
    "# Create Unique ID\n",
    "rawdata = rawdata.withColumn(\"uid\", monotonically_increasing_id())\n",
    "data = rawdata.filter(rawdata[\"is_blank\"] == \"False\")"
   ]
  },
  {
   "cell_type": "code",
   "execution_count": 31,
   "id": "50ed8599",
   "metadata": {},
   "outputs": [],
   "source": [
    "from pyspark.ml.feature import HashingTF, IDF, Tokenizer\n",
    "from pyspark.ml import Pipeline\n",
    "from pyspark.ml.classification import NaiveBayes, RandomForestClassifier\n",
    "from pyspark.ml.clustering import LDA\n",
    "from pyspark.ml.classification import DecisionTreeClassifier\n",
    "from pyspark.ml.evaluation import MulticlassClassificationEvaluator\n",
    "from pyspark.ml.tuning import ParamGridBuilder\n",
    "from pyspark.ml.tuning import CrossValidator\n",
    "from pyspark.ml.feature import IndexToString, StringIndexer, VectorIndexer\n",
    "from pyspark.ml.feature import CountVectorizer\n",
    "\n",
    "# Configure an ML pipeline, which consists of tree stages: tokenizer, hashingTF, and nb.\n",
    "tokenizer = Tokenizer(inputCol=\"lemm_text\", outputCol=\"words\")\n",
    "#data = tokenizer.transform(data)\n",
    "vectorizer = CountVectorizer(inputCol= \"words\", outputCol=\"rawFeatures\")\n",
    "idf = IDF(inputCol=\"rawFeatures\", outputCol=\"features\")\n",
    "#idfModel = idf.fit(data)\n",
    "\n",
    "lda = LDA(k=20, seed=1, optimizer=\"em\")"
   ]
  },
  {
   "cell_type": "code",
   "execution_count": 32,
   "id": "f9996354",
   "metadata": {},
   "outputs": [],
   "source": [
    "from pyspark.ml.feature import CountVectorizer\n",
    "\n",
    "cv = CountVectorizer(inputCol=\"word\", outputCol=\"rawFeatures\", vocabSize = 1000)\n",
    "cvmodel = cv.fit(data)\n",
    "featurizedData = cvmodel.transform(data)\n",
    "\n",
    "idf = IDF(inputCol=\"rawFeatures\", outputCol=\"features\")\n",
    "idfModel = idf.fit(featurizedData)\n",
    "rescaledData = idfModel.transform(featurizedData) # TFIDF"
   ]
  },
  {
   "cell_type": "code",
   "execution_count": 33,
   "id": "191f5bdf",
   "metadata": {},
   "outputs": [],
   "source": [
    "# \"em\" = expectation-maximization \n",
    "lda = LDA(k=5, seed=123, optimizer=\"em\", featuresCol=\"features\")\n",
    "ldamodel = lda.fit(rescaledData)\n",
    "ldatopics = ldamodel.describeTopics()"
   ]
  },
  {
   "cell_type": "code",
   "execution_count": 34,
   "id": "2b8f50a8",
   "metadata": {},
   "outputs": [],
   "source": [
    "def indices_to_terms(vocabulary):\n",
    "    def indices_to_terms(xs):\n",
    "        return [vocabulary[int(x)] for x in xs]\n",
    "    return udf(indices_to_terms, ArrayType(StringType()))"
   ]
  },
  {
   "cell_type": "code",
   "execution_count": 35,
   "id": "ab194ecf",
   "metadata": {},
   "outputs": [],
   "source": [
    "ldatopics = ldatopics.withColumn(\n",
    "    \"topics_words\", indices_to_terms(cvmodel.vocabulary)(\"termIndices\"))"
   ]
  },
  {
   "cell_type": "code",
   "execution_count": 1,
   "id": "60a41919",
   "metadata": {},
   "outputs": [
    {
     "ename": "NameError",
     "evalue": "name 'ldatopics' is not defined",
     "output_type": "error",
     "traceback": [
      "\u001b[0;31m---------------------------------------------------------------------------\u001b[0m",
      "\u001b[0;31mNameError\u001b[0m                                 Traceback (most recent call last)",
      "\u001b[0;32m<ipython-input-1-190ced2cd637>\u001b[0m in \u001b[0;36m<module>\u001b[0;34m\u001b[0m\n\u001b[0;32m----> 1\u001b[0;31m \u001b[0mldatopics\u001b[0m\u001b[0;34m.\u001b[0m\u001b[0mselect\u001b[0m\u001b[0;34m(\u001b[0m\u001b[0;34m[\u001b[0m\u001b[0;34m'topic'\u001b[0m\u001b[0;34m,\u001b[0m\u001b[0;34m'topics_words'\u001b[0m\u001b[0;34m]\u001b[0m\u001b[0;34m)\u001b[0m\u001b[0;34m.\u001b[0m\u001b[0mshow\u001b[0m\u001b[0;34m(\u001b[0m\u001b[0;34m)\u001b[0m\u001b[0;34m\u001b[0m\u001b[0;34m\u001b[0m\u001b[0m\n\u001b[0m",
      "\u001b[0;31mNameError\u001b[0m: name 'ldatopics' is not defined"
     ]
    }
   ],
   "source": [
    "ldatopics.select(['topic','topics_words']).show()"
   ]
  },
  {
   "cell_type": "code",
   "execution_count": 37,
   "id": "27aff13d",
   "metadata": {},
   "outputs": [],
   "source": [
    "from pyspark.ml.feature import StopWordsRemover,Tokenizer, RegexTokenizer, CountVectorizer, IDF\n",
    "from pyspark.sql.functions import udf, col, size, explode, regexp_replace, trim, lower, lit\n",
    "from pyspark.sql.types import ArrayType, StringType, DoubleType, IntegerType, LongType\n",
    "# from pyspark.ml.clustering import LDA\n",
    "import pyLDAvis\n",
    "\n",
    "import numpy as np\n",
    "def format_data_to_pyldavis(df_filtered, count_vectorizer, transformed, lda_model):\n",
    "    xxx = df_filtered.select((explode(df_filtered.word)).alias(\"words\")).groupby(\"words\").count()\n",
    "    word_counts = {r['words']:r['count'] for r in xxx.collect()}\n",
    "    word_counts = [word_counts[w] for w in count_vectorizer.vocabulary]\n",
    "\n",
    "\n",
    "    data = {'topic_term_dists': np.array(lda_model.topicsMatrix().toArray()).T, \n",
    "            'doc_topic_dists': np.array([x.toArray() for x in transformed.select([\"topicDistribution\"]).toPandas()['topicDistribution']]),\n",
    "            'doc_lengths': [r[0] for r in df_filtered.select(size(df_filtered.word)).collect()],\n",
    "            'vocab': count_vectorizer.vocabulary,\n",
    "            'term_frequency': word_counts}\n",
    "\n",
    "    return data\n",
    "\n",
    "def filter_bad_docs(data):\n",
    "    bad = 0\n",
    "    doc_topic_dists_filtrado = []\n",
    "    doc_lengths_filtrado = []\n",
    "\n",
    "    for x,y in zip(data['doc_topic_dists'], data['doc_lengths']):\n",
    "        if np.sum(x)==0:\n",
    "            bad+=1\n",
    "        elif np.sum(x) != 1:\n",
    "            bad+=1\n",
    "        elif np.isnan(x).any():\n",
    "            bad+=1\n",
    "        else:\n",
    "            doc_topic_dists_filtrado.append(x)\n",
    "            doc_lengths_filtrado.append(y)\n",
    "\n",
    "    data['doc_topic_dists'] = doc_topic_dists_filtrado\n",
    "    data['doc_lengths'] = doc_lengths_filtrado\n",
    "\n",
    "transformed = ldamodel.transform(rescaledData)\n",
    "\n",
    "# # FORMAT DATA AND PASS IT TO PYLDAVIS\n",
    "formatted = format_data_to_pyldavis(data, cvmodel, transformed, ldamodel)\n",
    "filter_bad_docs(formatted)"
   ]
  },
  {
   "cell_type": "code",
   "execution_count": 38,
   "id": "9e17aac0",
   "metadata": {},
   "outputs": [
    {
     "name": "stderr",
     "output_type": "stream",
     "text": [
      "/usr/local/lib/python3.9/site-packages/ipykernel/ipkernel.py:283: DeprecationWarning: `should_run_async` will not call `transform_cell` automatically in the future. Please pass the result to `transformed_cell` argument and any exception that happen during thetransform in `preprocessing_exc_tuple` in IPython 7.17 and above.\n",
      "  and should_run_async(code)\n"
     ]
    },
    {
     "data": {
      "text/html": [
       "\n",
       "<link rel=\"stylesheet\" type=\"text/css\" href=\"https://cdn.jsdelivr.net/gh/bmabey/pyLDAvis@3.3.1/pyLDAvis/js/ldavis.v1.0.0.css\">\n",
       "\n",
       "\n",
       "<div id=\"ldavis_el1357650039852967199440514\"></div>\n",
       "<script type=\"text/javascript\">\n",
       "\n",
       "var ldavis_el1357650039852967199440514_data = {\"mdsDat\": {\"x\": [-0.02412691032001592, -0.01869704713454714, -0.0173914135180851, -0.006337070919842165, 0.06655244189249034], \"y\": [0.032561734594472994, 0.010244173482446724, -0.023188057070378888, -0.025785501539793775, 0.006167650533252954], \"topics\": [1, 2, 3, 4, 5], \"cluster\": [1, 1, 1, 1, 1], \"Freq\": [20.135196824467137, 20.013083663922618, 19.998002579228867, 19.980991608485972, 19.87272532389541]}, \"tinfo\": {\"Term\": [\"close\", \"lane\", \"victraffic\", \"road\", \"rd\", \"leave\", \"south\", \"inbound\", \"movie\", \"ssr\", \"fwy\", \"eastern\", \"communication\", \"west\", \"monash\", \"monday\", \"type\", \"nah\", \"street\", \"case\", \"due\", \"traffic\", \"school\", \"bullshit\", \"coffee\", \"geelong\", \"staff\", \"knock\", \"meeting\", \"justice\", \"wed\", \"product\", \"back\", \"bird\", \"gt\", \"celebrate\", \"shoot\", \"coffee\", \"kinda\", \"advice\", \"partner\", \"school\", \"abc\", \"customer\", \"tiger\", \"tea\", \"bubble\", \"cost\", \"wine\", \"dan\", \"term\", \"dr\", \"dm\", \"sub\", \"rise\", \"smash\", \"hunt\", \"class\", \"brand\", \"shop\", \"funny\", \"ball\", \"doubt\", \"get\", \"love\", \"post\", \"australia\", \"go\", \"photo\", \"see\", \"new\", \"day\", \"happy\", \"look\", \"amp\", \"good\", \"work\", \"know\", \"great\", \"time\", \"want\", \"say\", \"think\", \"make\", \"video\", \"take\", \"thanks\", \"need\", \"read\", \"victoria\", \"come\", \"today\", \"\", \"melbourne\", \"people\", \"staff\", \"practice\", \"evil\", \"scomo\", \"sexy\", \"jump\", \"random\", \"drug\", \"peter\", \"tour\", \"paul\", \"example\", \"raise\", \"ur\", \"easy\", \"score\", \"manage\", \"playing\", \"nobody\", \"mask\", \"okay\", \"program\", \"create\", \"rule\", \"sam\", \"stick\", \"dumb\", \"front\", \"disgust\", \"sky\", \"research\", \"treat\", \"break\", \"news\", \"wonder\", \"get\", \"good\", \"morrison\", \"go\", \"time\", \"people\", \"need\", \"say\", \"look\", \"thing\", \"know\", \"love\", \"think\", \"amp\", \"see\", \"work\", \"\", \"show\", \"melbourne\", \"come\", \"make\", \"australia\", \"day\", \"great\", \"want\", \"many\", \"post\", \"watch\", \"year\", \"photo\", \"victoria\", \"knock\", \"ssr\", \"tear\", \"movie\", \"remove\", \"ban\", \"pr\", \"yr\", \"justice\", \"tree\", \"crime\", \"america\", \"chat\", \"warrior\", \"au\", \"positive\", \"worker\", \"land\", \"cou\", \"report\", \"promise\", \"tuesday\", \"industry\", \"actual\", \"terrible\", \"protect\", \"lockdown\", \"busy\", \"community\", \"case\", \"lie\", \"free\", \"travel\", \"fact\", \"die\", \"month\", \"thought\", \"get\", \"think\", \"amp\", \"go\", \"let\", \"see\", \"day\", \"say\", \"good\", \"make\", \"know\", \"time\", \"year\", \"people\", \"game\", \"look\", \"love\", \"need\", \"work\", \"want\", \"great\", \"be\", \"melbourne\", \"today\", \"\", \"australia\", \"take\", \"photo\", \"nah\", \"bullshit\", \"monday\", \"prove\", \"royal\", \"victim\", \"mafs\", \"pressure\", \"page\", \"church\", \"smile\", \"richmond\", \"suck\", \"ticket\", \"egg\", \"traffic\", \"announcement\", \"facebook\", \"ridiculous\", \"worse\", \"bar\", \"ale\", \"bloke\", \"hair\", \"recovery\", \"current\", \"round\", \"fit\", \"grand\", \"sale\", \"easter\", \"sunday\", \"ll\", \"get\", \"good\", \"make\", \"go\", \"time\", \"melbourne\", \"day\", \"see\", \"post\", \"take\", \"look\", \"photo\", \"\", \"amp\", \"think\", \"say\", \"australia\", \"know\", \"point\", \"today\", \"need\", \"year\", \"come\", \"love\", \"victoria\", \"new\", \"people\", \"happy\", \"work\", \"week\", \"great\", \"inbound\", \"fwy\", \"lane\", \"victraffic\", \"close\", \"monash\", \"meeting\", \"rd\", \"road\", \"west\", \"type\", \"situation\", \"eastern\", \"communication\", \"south\", \"english\", \"geelong\", \"trip\", \"judge\", \"street\", \"due\", \"fund\", \"saint\", \"leave\", \"remind\", \"cold\", \"north\", \"mount\", \"target\", \"effo\", \"block\", \"ring\", \"post\", \"photo\", \"right\", \"get\", \"melbourne\", \"good\", \"victoria\", \"go\", \"day\", \"time\", \"think\", \"\", \"year\", \"see\", \"amp\", \"say\", \"make\", \"love\", \"look\", \"great\", \"australia\", \"know\"], \"Freq\": [75701229.0, 68218818.0, 43007442.0, 34625670.0, 27987375.0, 56762492.0, 33875512.0, 16793080.0, 21618549.0, 19275132.0, 15801290.0, 23794046.0, 21682842.0, 18172809.0, 11687459.0, 14882336.0, 15080214.0, 10455558.0, 21389000.0, 33189821.0, 19895464.0, 18638739.0, 22048554.0, 10101079.0, 18818739.0, 16310258.0, 9598892.0, 9733443.0, 10263569.0, 13667735.0, 7973967.502594041, 8303423.1100133965, 7858027.458940877, 7659484.0637216605, 10994601.183765432, 8474075.69431145, 8848763.810472317, 14645980.472636536, 7031849.619016206, 7053834.323721758, 8399973.311020717, 16482078.386095842, 9812495.525090225, 7444090.775654702, 7485334.689970124, 7875803.995805801, 6776515.020663792, 7641284.379694139, 6914359.184403146, 10567193.85093891, 10609758.347806046, 8005643.299845937, 7267062.396214438, 6388145.060425917, 10586127.854133654, 5864875.689017663, 5957077.567992978, 9014145.513017653, 5813216.835529871, 7256180.862822448, 12175573.597135736, 9736792.06877544, 8798545.744481891, 45917054.10284013, 31710649.21042296, 31584703.89715294, 27393990.41214732, 35012361.05741193, 29436928.28093638, 30247616.90179213, 22733488.973553453, 29533642.151761014, 21157227.095427327, 27458876.324941564, 28497733.58258907, 31157189.787835073, 23893583.6967045, 25614645.03713732, 23885433.158283483, 26624509.47188336, 21029045.957088012, 24371587.116417944, 24811229.706953473, 23685876.613571957, 15734649.88198386, 20918300.172981717, 19433331.54381026, 20908707.99095989, 16045120.486645255, 20030741.13210939, 19670304.717127047, 18925275.435039993, 19783481.757471986, 20232949.780886624, 19160982.018364474, 9369990.790338451, 8896034.00689131, 8490500.158703312, 8511976.05755549, 9800534.516874531, 9809950.371404527, 7529708.843767088, 7040743.539672201, 8272067.626381964, 7208744.476522601, 6925478.3891394865, 7093083.222763854, 7329387.494165976, 7540217.510149625, 11949220.803620696, 9257053.507757707, 8091561.8237172915, 6612776.471559854, 7486216.302401437, 8498881.363758264, 11445194.193218207, 7039413.316221244, 8709932.58167748, 11123913.892158784, 6371535.072019278, 9272760.072129834, 6058728.243160204, 9744643.457751079, 6961677.944098011, 8271514.88561819, 9330001.373923477, 8403124.473754149, 15606742.020650972, 18372683.138941385, 14696113.277808521, 45251225.55992892, 37570146.3393255, 15659847.85614898, 37197375.59810037, 31081000.855833843, 26631583.657016736, 25752098.772207312, 26775695.531635113, 26602517.988439497, 20743813.01532311, 24906663.83903402, 25321076.771871272, 26053772.18667526, 25657106.63797041, 25852092.861180503, 22190525.830718204, 22579757.630475942, 17186519.106267747, 22665171.377861727, 20647940.722146258, 22592502.243395004, 21351688.868933138, 22738227.8505083, 20666956.583327062, 18861333.579698175, 17352885.35542036, 20630161.38393986, 17628461.57371583, 18471531.893634968, 19033095.325745028, 17793115.990790583, 9454996.730386201, 18390540.160701767, 8770789.607053323, 19864717.68032779, 8151042.854468004, 8455205.754261982, 8550995.91166419, 7819395.976222342, 11467392.976275722, 7801750.874695945, 8680539.12195715, 8181941.36741956, 7333906.968167438, 7691322.380940112, 12401649.610913, 7822547.331797315, 8935698.996809045, 7875031.757155689, 6968002.722706772, 6868197.736992834, 7136651.196867242, 5808782.364695715, 5994718.20158457, 7280718.507390988, 5726705.972278476, 6246567.43608243, 6570902.732665181, 6524935.821335127, 11154654.294354571, 18714381.12722892, 13180715.569762062, 17414205.882016417, 9041753.717184562, 12356347.848799163, 11723222.190107195, 13540330.471090201, 11851424.697080124, 43952965.85736777, 32357072.819615897, 32308196.398947276, 36709687.08651493, 20385731.575534172, 30268069.17204046, 29803523.60826332, 28168851.149732944, 32073458.602323398, 25346125.536709163, 24708177.319677208, 26446339.404979218, 22735277.81023386, 23300552.02512932, 20234658.371308025, 24370671.60025676, 23810930.42769884, 22052704.730030052, 21578278.345558926, 20119940.30079629, 20879789.02347111, 18104604.43218974, 21421129.991231173, 18940107.254744574, 19786221.911457665, 19334682.43847964, 18492113.19402257, 18837294.13845054, 10382194.966936257, 9901521.757962292, 13312187.871194433, 8335196.934463208, 11299069.776046617, 7316802.772514357, 9842342.24632411, 8067943.832467823, 8695600.218419384, 9087691.241575908, 9208087.999316962, 9321772.33996289, 8055397.556194348, 11230448.814468283, 6242048.882173966, 12049386.718641207, 5897647.2389749605, 6429675.224671775, 7256048.523269367, 8560949.641453639, 9484428.744576087, 11555767.38204203, 8599201.265541727, 10182513.755079681, 5639787.705606462, 7661418.113411387, 13684807.35954111, 7508707.0910309255, 6362600.743165225, 8488089.495414885, 21259762.100662485, 11177593.997585934, 12251158.836954484, 47521831.402680516, 36228728.139553174, 29339280.675404347, 35459467.44945512, 30971350.35907881, 27424626.60481266, 29743418.04580305, 29523794.909552045, 28683605.7110735, 23236672.70185205, 26471968.12138847, 26380144.080040704, 24175993.296274494, 26766445.176272918, 26425167.587781683, 25682828.262506127, 23342346.6519777, 23665759.46517259, 15975067.642991751, 20568151.85522755, 21820993.287383925, 21293414.946598202, 20486867.867494274, 22411261.496918716, 20346554.784701258, 19237925.28116287, 20878141.328135837, 18340546.896996748, 19971072.338279076, 18221422.212600652, 18678311.84835061, 16768402.059753286, 15716467.124689708, 67842416.39457652, 42599435.03602117, 74669276.18544526, 11267147.798907831, 9693784.273779897, 26261057.95339135, 31422084.194613583, 16416166.837854488, 13311527.729371719, 7896175.527559889, 20139578.03062443, 18171412.229096673, 28227796.04557768, 7846500.893968669, 13303709.270619342, 9353639.954324916, 8026299.305228623, 16183402.982754566, 14586412.2014367, 7926365.515165754, 6446235.3882473335, 38871732.29316695, 7347535.536476813, 11315725.968129853, 10274787.989516236, 6219734.240390517, 7032261.323913177, 7092399.101101659, 12442020.250810923, 8990420.413255664, 37758291.88823399, 35787941.813245095, 21273827.132632572, 38920741.50149216, 27125319.734482314, 31796878.96746871, 23671397.8205385, 30199018.674491253, 26385384.97410947, 25963827.65764146, 25223567.418343376, 21794257.49505734, 21317871.076941147, 23227220.895824336, 23023218.654530447, 22308659.712062493, 22082281.55003219, 21005985.595290538, 20849771.19617062, 19860061.475553982, 19796560.183515884, 19104877.468969762], \"Total\": [75701229.0, 68218818.0, 43007442.0, 34625670.0, 27987375.0, 56762492.0, 33875512.0, 16793080.0, 21618549.0, 19275132.0, 15801290.0, 23794046.0, 21682842.0, 18172809.0, 11687459.0, 14882336.0, 15080214.0, 10455558.0, 21389000.0, 33189821.0, 19895464.0, 18638739.0, 22048554.0, 10101079.0, 18818739.0, 16310258.0, 9598892.0, 9733443.0, 10263569.0, 13667735.0, 9178277.993161695, 9579920.394609353, 9208058.847423285, 9206112.855742654, 13365734.039219748, 10614603.907799676, 11366074.951997023, 18818739.104945395, 9201079.57161325, 9323917.947700962, 11183486.044090968, 22048554.713552892, 13426610.874894401, 10306834.958699923, 10427864.628959056, 11030895.509363707, 9599829.186902782, 10847918.474780165, 9964531.473547684, 15334784.787738249, 15560660.854366329, 12125324.432739288, 11173427.382191148, 9903776.109301263, 16486821.005820833, 9157293.608898379, 9317429.164296864, 14511072.436730107, 9374794.683152916, 11849680.23761274, 21488923.949446607, 17485898.789160475, 16120171.741386259, 221563818.4243095, 124259903.50220233, 136959447.326203, 111219268.55505368, 174577909.8659736, 129475403.63841775, 139118794.7403895, 83258987.85480285, 138204196.63044518, 73668100.7790604, 125753805.23119691, 136252700.4503101, 168826401.83650586, 102202352.30489808, 118000123.12999089, 103970552.08898625, 141087027.74941668, 88375212.72222468, 127307621.77235462, 134870809.71936968, 123046066.61911267, 45860031.51600922, 95460462.69363926, 84476899.65471713, 107383199.87617056, 50688667.89707112, 97569507.39856553, 94526432.32901217, 90620379.53182247, 108119712.09073743, 118869197.4892745, 109022162.27817316, 9598892.715886889, 9502469.633787777, 9131350.62758954, 9316495.033597354, 11314071.114634529, 11525385.909903089, 9501120.852491913, 9007938.784334319, 10658571.42162725, 9506866.173580842, 9290078.730294302, 9837111.165686361, 10235314.493073564, 10546651.122816207, 16763092.170515256, 13067853.804346481, 11461082.011814322, 9467342.096884016, 10749486.160077987, 12229547.330002883, 16530677.150645895, 10207966.873201113, 12932159.602028953, 16625010.818354448, 9535935.30639187, 13921698.679493178, 9129599.734814892, 14744239.688267868, 10559764.973397017, 12606966.691709213, 14661070.466202497, 13405005.090572203, 29931501.56274746, 40017422.6527389, 33123422.063639604, 221563818.4243095, 168826401.83650586, 38341595.37613299, 174577909.8659736, 141087027.74941668, 109022162.27817316, 107383199.87617056, 127307621.77235462, 125753805.23119691, 79249746.33485962, 118000123.12999089, 124259903.50220233, 134870809.71936968, 136252700.4503101, 139118794.7403895, 102202352.30489808, 108119712.09073743, 58881775.374417774, 118869197.4892745, 94526432.32901217, 123046066.61911267, 111219268.55505368, 138204196.63044518, 103970552.08898625, 88375212.72222468, 71061806.27058943, 136959447.326203, 78046791.78158829, 101869009.21708122, 129475403.63841775, 97569507.39856553, 9733443.601213971, 19275132.456347506, 9496660.505728476, 21618549.013817426, 9154465.854416376, 9680082.503249235, 9833371.962609397, 9309817.317240227, 13667735.23164979, 9337576.363033133, 10773519.162274098, 10229963.530711735, 9284499.424021224, 10042582.726265563, 16624097.048496908, 10564521.76645936, 12078901.000336993, 11126250.725561382, 10106089.989231972, 10076712.905403314, 10473531.534739695, 9285295.580417296, 9648707.409760319, 11806821.463118473, 9649451.17510307, 10628367.997968461, 11270063.709001657, 11338897.985160245, 19499184.41349768, 33189821.9206948, 24947867.714010745, 35935133.544638306, 17244167.987716295, 26381004.991177823, 25338097.81443541, 32324338.108939897, 26526836.25349913, 221563818.4243095, 134870809.71936968, 136252700.4503101, 174577909.8659736, 66675552.23143026, 139118794.7403895, 138204196.63044518, 127307621.77235462, 168826401.83650586, 123046066.61911267, 118000123.12999089, 141087027.74941668, 101869009.21708122, 109022162.27817316, 81347550.0352573, 125753805.23119691, 124259903.50220233, 107383199.87617056, 102202352.30489808, 88375212.72222468, 103970552.08898625, 73398292.13105923, 118869197.4892745, 90620379.53182247, 108119712.09073743, 111219268.55505368, 95460462.69363926, 129475403.63841775, 10455558.357867379, 10101079.954381272, 14882336.788821336, 9704103.808843227, 13467731.307640228, 9090823.137217728, 12359491.705037596, 10188283.874578876, 11273066.852462118, 11860998.247391244, 12487876.953641228, 12800963.186206352, 11804912.495696975, 17073872.091929432, 9518717.215308242, 18638739.600552157, 9310015.682729185, 10200751.7576217, 11626242.014360106, 13745576.562569289, 15424167.457157774, 18808273.19605937, 14046066.87252503, 16656073.114343341, 9320766.538818143, 12668864.301937768, 22695887.25825446, 12769866.519832171, 10911689.657683555, 14817549.89503881, 47092204.25558852, 22264185.237393063, 26276153.529527947, 221563818.4243095, 168826401.83650586, 123046066.61911267, 174577909.8659736, 141087027.74941668, 118869197.4892745, 138204196.63044518, 139118794.7403895, 136959447.326203, 95460462.69363926, 125753805.23119691, 129475403.63841775, 108119712.09073743, 136252700.4503101, 134870809.71936968, 127307621.77235462, 111219268.55505368, 118000123.12999089, 48169982.26876611, 90620379.53182247, 107383199.87617056, 101869009.21708122, 94526432.32901217, 124259903.50220233, 97569507.39856553, 83258987.85480285, 109022162.27817316, 73668100.7790604, 102202352.30489808, 72710555.34441522, 103970552.08898625, 16793080.283620585, 15801290.648488216, 68218818.04383188, 43007442.548176296, 75701229.0571589, 11687459.740793606, 10263569.270572485, 27987375.14491444, 34625670.4898557, 18172809.151871674, 15080214.865337573, 9231534.12603921, 23794046.905403346, 21682842.993648198, 33875512.91306877, 9601733.642141432, 16310258.385333806, 11957762.88634127, 10393339.862288617, 21389000.739580743, 19895464.818688046, 10935043.899176572, 9272865.97663431, 56762492.787682444, 10875913.218522433, 16984897.56265769, 15505476.271638814, 9458626.580451407, 11047070.034222957, 11240509.486501079, 21508234.312966295, 15639767.892220937, 136959447.326203, 129475403.63841775, 67780908.41131888, 221563818.4243095, 118869197.4892745, 168826401.83650586, 97569507.39856553, 174577909.8659736, 138204196.63044518, 141087027.74941668, 134870809.71936968, 108119712.09073743, 101869009.21708122, 139118794.7403895, 136252700.4503101, 127307621.77235462, 123046066.61911267, 124259903.50220233, 125753805.23119691, 103970552.08898625, 111219268.55505368, 118000123.12999089], \"Category\": [\"Default\", \"Default\", \"Default\", \"Default\", \"Default\", \"Default\", \"Default\", \"Default\", \"Default\", \"Default\", \"Default\", \"Default\", \"Default\", \"Default\", \"Default\", \"Default\", \"Default\", \"Default\", \"Default\", \"Default\", \"Default\", \"Default\", \"Default\", \"Default\", \"Default\", \"Default\", \"Default\", \"Default\", \"Default\", \"Default\", \"Topic1\", \"Topic1\", \"Topic1\", \"Topic1\", \"Topic1\", \"Topic1\", \"Topic1\", \"Topic1\", \"Topic1\", \"Topic1\", \"Topic1\", \"Topic1\", \"Topic1\", \"Topic1\", \"Topic1\", \"Topic1\", \"Topic1\", \"Topic1\", \"Topic1\", \"Topic1\", \"Topic1\", \"Topic1\", \"Topic1\", \"Topic1\", \"Topic1\", \"Topic1\", \"Topic1\", \"Topic1\", \"Topic1\", \"Topic1\", \"Topic1\", \"Topic1\", \"Topic1\", \"Topic1\", \"Topic1\", \"Topic1\", \"Topic1\", \"Topic1\", \"Topic1\", \"Topic1\", \"Topic1\", \"Topic1\", \"Topic1\", \"Topic1\", \"Topic1\", \"Topic1\", \"Topic1\", \"Topic1\", \"Topic1\", \"Topic1\", \"Topic1\", \"Topic1\", \"Topic1\", \"Topic1\", \"Topic1\", \"Topic1\", \"Topic1\", \"Topic1\", \"Topic1\", \"Topic1\", \"Topic1\", \"Topic1\", \"Topic1\", \"Topic1\", \"Topic1\", \"Topic2\", \"Topic2\", \"Topic2\", \"Topic2\", \"Topic2\", \"Topic2\", \"Topic2\", \"Topic2\", \"Topic2\", \"Topic2\", \"Topic2\", \"Topic2\", \"Topic2\", \"Topic2\", \"Topic2\", \"Topic2\", \"Topic2\", \"Topic2\", \"Topic2\", \"Topic2\", \"Topic2\", \"Topic2\", \"Topic2\", \"Topic2\", \"Topic2\", \"Topic2\", \"Topic2\", \"Topic2\", \"Topic2\", \"Topic2\", \"Topic2\", \"Topic2\", \"Topic2\", \"Topic2\", \"Topic2\", \"Topic2\", \"Topic2\", \"Topic2\", \"Topic2\", \"Topic2\", \"Topic2\", \"Topic2\", \"Topic2\", \"Topic2\", \"Topic2\", \"Topic2\", \"Topic2\", \"Topic2\", \"Topic2\", \"Topic2\", \"Topic2\", \"Topic2\", \"Topic2\", \"Topic2\", \"Topic2\", \"Topic2\", \"Topic2\", \"Topic2\", \"Topic2\", \"Topic2\", \"Topic2\", \"Topic2\", \"Topic2\", \"Topic2\", \"Topic2\", \"Topic2\", \"Topic3\", \"Topic3\", \"Topic3\", \"Topic3\", \"Topic3\", \"Topic3\", \"Topic3\", \"Topic3\", \"Topic3\", \"Topic3\", \"Topic3\", \"Topic3\", \"Topic3\", \"Topic3\", \"Topic3\", \"Topic3\", \"Topic3\", \"Topic3\", \"Topic3\", \"Topic3\", \"Topic3\", \"Topic3\", \"Topic3\", \"Topic3\", \"Topic3\", \"Topic3\", \"Topic3\", \"Topic3\", \"Topic3\", \"Topic3\", \"Topic3\", \"Topic3\", \"Topic3\", \"Topic3\", \"Topic3\", \"Topic3\", \"Topic3\", \"Topic3\", \"Topic3\", \"Topic3\", \"Topic3\", \"Topic3\", \"Topic3\", \"Topic3\", \"Topic3\", \"Topic3\", \"Topic3\", \"Topic3\", \"Topic3\", \"Topic3\", \"Topic3\", \"Topic3\", \"Topic3\", \"Topic3\", \"Topic3\", \"Topic3\", \"Topic3\", \"Topic3\", \"Topic3\", \"Topic3\", \"Topic3\", \"Topic3\", \"Topic3\", \"Topic3\", \"Topic3\", \"Topic4\", \"Topic4\", \"Topic4\", \"Topic4\", \"Topic4\", \"Topic4\", \"Topic4\", \"Topic4\", \"Topic4\", \"Topic4\", \"Topic4\", \"Topic4\", \"Topic4\", \"Topic4\", \"Topic4\", \"Topic4\", \"Topic4\", \"Topic4\", \"Topic4\", \"Topic4\", \"Topic4\", \"Topic4\", \"Topic4\", \"Topic4\", \"Topic4\", \"Topic4\", \"Topic4\", \"Topic4\", \"Topic4\", \"Topic4\", \"Topic4\", \"Topic4\", \"Topic4\", \"Topic4\", \"Topic4\", \"Topic4\", \"Topic4\", \"Topic4\", \"Topic4\", \"Topic4\", \"Topic4\", \"Topic4\", \"Topic4\", \"Topic4\", \"Topic4\", \"Topic4\", \"Topic4\", \"Topic4\", \"Topic4\", \"Topic4\", \"Topic4\", \"Topic4\", \"Topic4\", \"Topic4\", \"Topic4\", \"Topic4\", \"Topic4\", \"Topic4\", \"Topic4\", \"Topic4\", \"Topic4\", \"Topic4\", \"Topic4\", \"Topic4\", \"Topic5\", \"Topic5\", \"Topic5\", \"Topic5\", \"Topic5\", \"Topic5\", \"Topic5\", \"Topic5\", \"Topic5\", \"Topic5\", \"Topic5\", \"Topic5\", \"Topic5\", \"Topic5\", \"Topic5\", \"Topic5\", \"Topic5\", \"Topic5\", \"Topic5\", \"Topic5\", \"Topic5\", \"Topic5\", \"Topic5\", \"Topic5\", \"Topic5\", \"Topic5\", \"Topic5\", \"Topic5\", \"Topic5\", \"Topic5\", \"Topic5\", \"Topic5\", \"Topic5\", \"Topic5\", \"Topic5\", \"Topic5\", \"Topic5\", \"Topic5\", \"Topic5\", \"Topic5\", \"Topic5\", \"Topic5\", \"Topic5\", \"Topic5\", \"Topic5\", \"Topic5\", \"Topic5\", \"Topic5\", \"Topic5\", \"Topic5\", \"Topic5\", \"Topic5\", \"Topic5\", \"Topic5\"], \"logprob\": [30.0, 29.0, 28.0, 27.0, 26.0, 25.0, 24.0, 23.0, 22.0, 21.0, 20.0, 19.0, 18.0, 17.0, 16.0, 15.0, 14.0, 13.0, 12.0, 11.0, 10.0, 9.0, 8.0, 7.0, 6.0, 5.0, 4.0, 3.0, 2.0, 1.0, 5.533, 5.5734, 5.5183, 5.4927, 5.8542, 5.5938, 5.6371, 6.1409, 5.4072, 5.4104, 5.585, 6.2591, 5.7404, 5.4642, 5.4697, 5.5206, 5.3702, 5.4903, 5.3904, 5.8145, 5.8186, 5.5369, 5.4401, 5.3112, 5.8163, 5.2258, 5.2414, 5.6556, 5.2169, 5.4386, 5.9562, 5.7327, 5.6314, 7.2836, 6.9134, 6.9095, 6.7671, 7.0125, 6.839, 6.8662, 6.5806, 6.8423, 6.5088, 6.7695, 6.8066, 6.8958, 6.6304, 6.6999, 6.63, 6.7386, 6.5027, 6.6502, 6.6681, 6.6217, 6.2126, 6.4974, 6.4238, 6.4969, 6.2322, 6.454, 6.4359, 6.3973, 6.4416, 6.4641, 6.4097, 5.7004, 5.6485, 5.6018, 5.6043, 5.7453, 5.7463, 5.4817, 5.4146, 5.5757, 5.4382, 5.3981, 5.422, 5.4548, 5.4831, 5.9435, 5.6882, 5.5537, 5.3519, 5.4759, 5.6028, 5.9004, 5.4144, 5.6273, 5.872, 5.3147, 5.6899, 5.2644, 5.7396, 5.4033, 5.5757, 5.6961, 5.5915, 6.2106, 6.3737, 6.1504, 7.2751, 7.0891, 6.214, 7.0791, 6.8995, 6.745, 6.7114, 6.7504, 6.7439, 6.4951, 6.678, 6.6945, 6.723, 6.7077, 6.7153, 6.5625, 6.5799, 6.307, 6.5837, 6.4905, 6.5805, 6.524, 6.5869, 6.4914, 6.4, 6.3166, 6.4896, 6.3324, 6.3791, 6.409, 6.3417, 5.7102, 6.3755, 5.635, 6.4526, 5.5618, 5.5984, 5.6097, 5.5202, 5.9031, 5.518, 5.6247, 5.5655, 5.4561, 5.5037, 5.9814, 5.5206, 5.6537, 5.5273, 5.4049, 5.3905, 5.4289, 5.223, 5.2545, 5.4488, 5.2088, 5.2956, 5.3463, 5.3392, 5.8755, 6.3929, 6.0424, 6.3209, 5.6655, 5.9778, 5.9252, 6.0693, 5.9361, 7.2467, 6.9405, 6.9389, 7.0667, 6.4785, 6.8737, 6.8582, 6.8018, 6.9316, 6.6962, 6.6708, 6.7387, 6.5875, 6.6121, 6.471, 6.657, 6.6338, 6.5571, 6.5353, 6.4653, 6.5024, 6.3598, 6.528, 6.4049, 6.4486, 6.4255, 6.381, 6.3995, 5.8046, 5.7572, 6.0531, 5.585, 5.8892, 5.4546, 5.7512, 5.5524, 5.6273, 5.6714, 5.6846, 5.6968, 5.5508, 5.8831, 5.2958, 5.9535, 5.239, 5.3254, 5.4463, 5.6117, 5.7141, 5.9117, 5.6161, 5.7851, 5.1943, 5.5007, 6.0808, 5.4805, 5.3149, 5.6031, 6.5213, 5.8784, 5.9701, 7.3257, 7.0543, 6.8434, 7.0329, 6.8975, 6.7759, 6.8571, 6.8497, 6.8208, 6.6102, 6.7406, 6.7371, 6.6498, 6.7516, 6.7388, 6.7103, 6.6147, 6.6285, 6.2355, 6.4882, 6.5473, 6.5229, 6.4843, 6.574, 6.4774, 6.4214, 6.5032, 6.3736, 6.4588, 6.3671, 6.3918, 6.2894, 6.2246, 7.6871, 7.2217, 7.783, 5.8918, 5.7414, 6.738, 6.9174, 6.2682, 6.0585, 5.5363, 6.4726, 6.3698, 6.8102, 5.53, 6.0579, 5.7057, 5.5526, 6.2539, 6.15, 5.5401, 5.3334, 7.1302, 5.4643, 5.8961, 5.7996, 5.2976, 5.4204, 5.4289, 5.991, 5.6661, 7.1011, 7.0475, 6.5274, 7.1314, 6.7704, 6.9293, 6.6342, 6.8777, 6.7427, 6.7266, 6.6977, 6.5515, 6.5294, 6.6152, 6.6064, 6.5749, 6.5647, 6.5147, 6.5072, 6.4586, 6.4554, 6.4198], \"loglift\": [30.0, 29.0, 28.0, 27.0, 26.0, 25.0, 24.0, 23.0, 22.0, 21.0, 20.0, 19.0, 18.0, 17.0, 16.0, 15.0, 14.0, 13.0, 12.0, 11.0, 10.0, 9.0, 8.0, 7.0, 6.0, 5.0, 4.0, 3.0, 2.0, 1.0, 13.3788, 13.3764, 13.3609, 13.3355, 13.3242, 13.2942, 13.2691, 13.2688, 13.2506, 13.2404, 13.2332, 13.2285, 13.2059, 13.1941, 13.1879, 13.1825, 13.1712, 13.169, 13.154, 13.1471, 13.1365, 13.1043, 13.0893, 13.081, 13.0764, 13.0739, 13.0721, 13.0433, 13.0416, 13.029, 12.9513, 12.934, 12.914, 11.9456, 12.1537, 12.0524, 12.1183, 11.9128, 12.0382, 11.9935, 12.2213, 11.9762, 12.2719, 11.9978, 11.9548, 11.8296, 12.0661, 11.9919, 12.0486, 11.8519, 12.0838, 11.8663, 11.8264, 11.8718, 12.4497, 12.0014, 12.05, 11.8832, 12.3692, 11.9362, 11.9497, 11.9533, 11.8211, 11.7487, 11.7808, 13.5014, 13.4596, 13.4528, 13.4352, 13.3819, 13.3644, 13.293, 13.2791, 13.2721, 13.2488, 13.2318, 13.1985, 13.1916, 13.19, 13.187, 13.1808, 13.1774, 13.1667, 13.1637, 13.1616, 13.1579, 13.1539, 13.1303, 13.1237, 13.1223, 13.1192, 13.1155, 13.1114, 13.1089, 13.1041, 13.0736, 13.0585, 12.8743, 12.7471, 12.7129, 11.9371, 12.0229, 12.6301, 11.9794, 12.0128, 12.1161, 12.0976, 11.9664, 11.9722, 12.1852, 11.97, 11.9348, 11.8814, 11.8558, 11.8426, 11.9982, 11.9593, 12.2941, 11.8683, 12.0043, 11.8306, 11.8752, 11.7208, 11.91, 11.9811, 12.1157, 11.6326, 12.0377, 11.8181, 11.6082, 11.8238, 13.4973, 13.4793, 13.4468, 13.4417, 13.4102, 13.391, 13.3866, 13.3518, 13.3508, 13.3466, 13.3103, 13.3029, 13.2904, 13.2595, 13.2333, 13.2258, 13.2249, 13.1807, 13.1545, 13.143, 13.1427, 13.0572, 13.0503, 13.0428, 13.0045, 12.9948, 12.9868, 12.9737, 12.9678, 12.9533, 12.8883, 12.8019, 12.8807, 12.7678, 12.7555, 12.6561, 12.7206, 11.9087, 12.0988, 12.0871, 11.967, 12.3413, 12.0011, 11.9922, 12.0179, 11.8654, 11.9464, 11.9627, 11.852, 12.0265, 11.9832, 12.135, 11.8853, 11.8741, 11.9433, 11.971, 12.0464, 11.921, 12.1266, 11.8126, 11.9609, 11.828, 11.7767, 11.8849, 11.5986, 13.5201, 13.5072, 13.4156, 13.3751, 13.3516, 13.31, 13.2994, 13.2938, 13.2675, 13.2608, 13.2225, 13.21, 13.145, 13.1082, 13.1052, 13.0909, 13.0706, 13.0656, 13.0557, 13.0536, 13.0409, 13.04, 13.0365, 13.035, 13.0247, 13.0242, 13.0212, 12.9961, 12.9877, 12.97, 12.7318, 12.8381, 12.7641, 11.9876, 11.9881, 12.0935, 11.9332, 12.0108, 12.0606, 11.991, 11.977, 11.9638, 12.1142, 11.9689, 11.9363, 12.0293, 11.8998, 11.8971, 11.9264, 11.9659, 11.9205, 12.4234, 12.0442, 11.9336, 11.9618, 11.998, 11.8143, 11.9595, 12.0621, 11.8743, 12.1367, 11.8945, 12.1432, 11.8104, 13.5311, 13.5272, 13.527, 13.523, 13.5188, 13.4959, 13.4755, 13.4689, 13.4355, 13.4309, 13.4078, 13.3763, 13.3658, 13.3559, 13.3502, 13.3307, 13.3288, 13.287, 13.2741, 13.2537, 13.2222, 13.2108, 13.169, 13.154, 13.1404, 13.1264, 13.1211, 13.1134, 13.0809, 13.0721, 12.9852, 12.9789, 12.2441, 12.2467, 12.3738, 11.7934, 12.055, 11.8631, 12.1163, 11.778, 11.8766, 11.8399, 11.856, 11.931, 11.9684, 11.7426, 11.7546, 11.7909, 11.8148, 11.755, 11.7356, 11.8772, 11.8066, 11.7118]}, \"token.table\": {\"Topic\": [1, 2, 3, 4, 5, 1, 2, 3, 4, 5, 1, 2, 3, 4, 5, 1, 2, 3, 4, 5, 1, 2, 3, 4, 5, 1, 2, 3, 4, 5, 1, 2, 3, 4, 5, 1, 2, 3, 4, 5, 1, 2, 3, 4, 5, 1, 2, 3, 4, 5, 1, 2, 3, 4, 5, 1, 2, 3, 4, 5, 1, 2, 3, 4, 5, 1, 2, 3, 4, 5, 1, 2, 3, 4, 5, 1, 2, 3, 4, 5, 1, 2, 3, 4, 5, 1, 2, 3, 4, 5, 1, 2, 3, 4, 5, 1, 2, 3, 4, 5, 1, 2, 3, 4, 5, 1, 2, 3, 4, 5, 1, 2, 3, 4, 5, 1, 2, 3, 4, 5, 1, 2, 3, 4, 5, 1, 2, 3, 4, 5, 1, 2, 3, 4, 5, 1, 2, 3, 4, 5, 1, 2, 3, 4, 5, 1, 2, 3, 4, 5, 1, 2, 3, 4, 5, 1, 2, 3, 4, 5, 1, 2, 3, 4, 5, 1, 2, 3, 4, 5, 1, 2, 3, 4, 5, 1, 2, 3, 4, 5, 1, 2, 3, 4, 5, 1, 2, 3, 4, 5, 1, 2, 3, 4, 5, 1, 2, 3, 4, 5, 1, 2, 3, 4, 5, 1, 2, 3, 4, 5, 1, 2, 3, 4, 5, 1, 2, 3, 4, 5, 1, 2, 3, 4, 5, 1, 2, 3, 4, 5, 1, 2, 3, 4, 5, 1, 2, 3, 4, 5, 1, 2, 3, 4, 5, 1, 2, 3, 4, 5, 1, 2, 3, 4, 5, 1, 2, 3, 4, 5, 1, 2, 3, 4, 5, 1, 2, 3, 4, 5, 1, 2, 3, 4, 5, 1, 2, 3, 4, 5, 1, 2, 3, 4, 5, 1, 2, 3, 4, 5, 1, 2, 3, 4, 5, 1, 2, 3, 4, 5, 1, 2, 3, 4, 5, 1, 2, 3, 4, 5, 1, 2, 3, 4, 5, 1, 2, 3, 4, 5, 1, 2, 3, 4, 5, 1, 2, 3, 4, 5, 1, 2, 3, 4, 5, 1, 2, 3, 4, 5, 1, 2, 3, 4, 5, 1, 2, 3, 4, 5, 1, 2, 3, 4, 5, 1, 2, 3, 4, 5, 1, 2, 3, 4, 5, 1, 2, 3, 4, 5, 1, 2, 3, 4, 5, 1, 2, 3, 4, 5, 1, 2, 3, 4, 5, 1, 2, 3, 4, 5, 1, 2, 3, 4, 5, 1, 2, 3, 4, 5, 1, 2, 3, 4, 5, 1, 2, 3, 4, 5, 1, 2, 3, 4, 5, 1, 2, 3, 4, 5, 1, 2, 3, 4, 5, 1, 2, 3, 4, 5, 1, 2, 3, 4, 5, 1, 2, 3, 4, 5, 1, 2, 3, 4, 5, 1, 2, 3, 4, 5, 1, 2, 3, 4, 5, 1, 2, 3, 4, 5, 1, 2, 3, 4, 5, 1, 2, 3, 4, 5, 1, 2, 3, 4, 5, 1, 2, 3, 4, 5, 1, 2, 3, 4, 5, 1, 2, 3, 4, 5, 1, 2, 3, 4, 5, 1, 2, 3, 4, 5, 1, 2, 3, 4, 5, 1, 2, 3, 4, 5, 1, 2, 3, 4, 5, 1, 2, 3, 4, 5, 1, 2, 3, 4, 5, 1, 2, 3, 4, 5, 1, 2, 3, 4, 5, 1, 2, 3, 4, 5, 1, 2, 3, 4, 5, 1, 2, 3, 4, 5, 1, 2, 3, 4, 5, 1, 2, 3, 4, 5, 1, 2, 3, 4, 5, 1, 2, 3, 4, 5, 1, 2, 3, 4, 5, 1, 2, 3, 4, 5, 1, 2, 3, 4, 5, 1, 2, 3, 4, 5, 1, 2, 3, 4, 5, 1, 2, 3, 4, 5, 1, 2, 3, 4, 5, 1, 2, 3, 4, 5, 1, 2, 3, 4, 5, 1, 2, 3, 4, 5, 1, 2, 3, 4, 5, 1, 2, 3, 4, 5, 1, 2, 3, 4, 5, 1, 2, 3, 4, 5, 1, 2, 3, 4, 5, 1, 2, 3, 4, 5, 1, 2, 3, 4, 5, 1, 2, 3, 4, 5, 1, 2, 3, 4, 5, 1, 2, 3, 4, 5, 1, 2, 3, 4, 5, 1, 2, 3, 4, 5, 1, 2, 3, 4, 5, 1, 2, 3, 4, 5, 1, 2, 3, 4, 5, 1, 2, 3, 4, 5, 1, 2, 3, 4, 5, 1, 2, 3, 4, 5, 1, 2, 3, 4, 5, 1, 2, 3, 4, 5, 1, 2, 3, 4, 5, 1, 2, 3, 4, 5, 1, 2, 3, 4, 5, 1, 2, 3, 4, 5, 1, 2, 3, 4, 5, 1, 2, 3, 4, 5, 1, 2, 3, 4, 5, 1, 2, 3, 4, 5, 1, 2, 3, 4, 5, 1, 2, 3, 4, 5, 1, 2, 3, 4, 5, 1, 2, 3, 4, 5, 1, 2, 3, 4, 5, 1, 2, 3, 4, 5, 1, 2, 3, 4, 5, 1, 2, 3, 4, 5, 1, 2, 3, 4, 5, 1, 2, 3, 4, 5, 1, 2, 3, 4, 5, 1, 2, 3, 4, 5, 1, 2, 3, 4, 5, 1, 2, 3, 4, 5, 1, 2, 3, 4, 5, 1, 2, 3, 4, 5, 1, 2, 3, 4, 5, 1, 2, 3, 4, 5, 1, 2, 3, 4, 5, 1, 2, 3, 4, 5, 1, 2, 3, 4, 5, 1, 2, 3, 4, 5, 1, 2, 3, 4, 5, 1, 2, 3, 4, 5, 1, 2, 3, 4, 5, 1, 2, 3, 4, 5, 1, 2, 3, 4, 5, 1, 2, 3, 4, 5, 1, 2, 3, 4, 5, 1, 2, 3, 4, 5, 1, 2, 3, 4, 5, 1, 2, 3, 4, 5, 1, 2, 3, 4, 5, 1, 2, 3, 4, 5, 1, 2, 3, 4, 5, 1, 2, 3, 4, 5, 1, 2, 3, 4, 5, 1, 2, 3, 4, 5, 1, 2, 3, 4, 5, 1, 2, 3, 4, 5, 1, 2, 3, 4, 5, 1, 2, 3, 4, 5, 1, 2, 3, 4, 5, 1, 2, 3, 4, 5, 1, 2, 3, 4, 5, 1, 2, 3, 4, 5, 1, 2, 3, 4, 5, 1, 2, 3, 4, 5, 1, 2, 3, 4, 5, 1, 2, 3, 4, 5, 1, 2, 3, 4, 5, 1, 2, 3, 4, 5, 1, 2, 3, 4, 5, 1, 2, 3, 4, 5, 1, 2, 3, 4, 5, 1, 2, 3, 4, 5, 1, 2, 3, 4, 5, 1, 2, 3, 4, 5, 1, 2, 3, 4, 5, 1, 2, 3, 4, 5, 1, 2, 3, 4, 5, 1, 2, 3, 4, 5], \"Freq\": [0.18297756826615563, 0.20884034523741946, 0.1830029105459954, 0.22360393431043132, 0.20157524080076702, 0.7308244866429984, 0.1375050649194092, 0.03719769677200301, 0.06336044203014045, 0.03111231895318374, 0.07364378319059835, 0.09999041686941733, 0.6166536034057198, 0.1304266355521961, 0.07928560645421583, 0.7565311105874, 0.07371396915493783, 0.04723550791312961, 0.06560965073173333, 0.05690965997087495, 0.015157266008860889, 0.06143110470354489, 0.00717498084982485, 0.6143980832020834, 0.3018385548115834, 0.062310486062470985, 0.038361036070350206, 0.7998015804686601, 0.07809617283595695, 0.021430672684396856, 0.2091535353487751, 0.188305310024713, 0.23711967464294367, 0.19644707893155802, 0.16897440508635145, 0.14667708911954175, 0.09624677664746153, 0.036634309932764605, 0.6334733690020095, 0.0869684893766631, 0.07785379237286283, 0.062447602234965566, 0.7460044274176872, 0.05566251191270962, 0.05803166314450907, 0.24630615140612924, 0.19197832603467344, 0.1738429163506799, 0.2098768253312645, 0.17799577588662774, 0.8533858362774183, 0.030762618342656062, 0.019640838856129685, 0.07166450724678622, 0.02454621584692072, 0.5568368041816556, 0.08757645337334831, 0.1310039036380572, 0.0737023023831579, 0.15088060567040879, 0.014071884196676748, 0.08791464325994583, 0.8734642496241027, 0.016791385811581756, 0.007757888424483241, 0.07549127064616058, 0.07941407556694881, 0.12545857047875839, 0.6149070299154873, 0.1047290885869093, 0.19786509438214112, 0.18211299761760683, 0.2466624695799816, 0.1719263709497145, 0.20143306568496633, 0.8319997940522871, 0.035766669946328586, 0.05943105505802137, 0.03208542026678986, 0.040717184969786165, 0.08009113974369875, 0.17153207215042587, 0.0733364709091484, 0.09656329616736284, 0.5784770529721864, 0.08113111024902457, 0.0819865098501401, 0.0890607321859574, 0.6122141577455085, 0.13560742785055438, 0.6200900602598486, 0.043089797019868335, 0.13576788004619375, 0.09616349269174657, 0.10488880378010523, 0.10428614793869627, 0.5214152710408636, 0.16080823709795153, 0.14429981038357043, 0.06919054814735802, 0.7058995392590235, 0.019682954386083445, 0.09660703143190125, 0.09886425909482294, 0.07894619635878267, 0.0049059110732517135, 0.007821341911637138, 0.00395581464362813, 0.9802438991392485, 0.0030730377484574, 0.07619426518614986, 0.18579001264118244, 0.5754471032845956, 0.07771090287197317, 0.08485771732484654, 0.2719152582850337, 0.027056306663702682, 0.5638590362044411, 0.06665218045718548, 0.07051722077908047, 0.7983412356793829, 0.021768876352532555, 0.08638560684551029, 0.07509163855038524, 0.018412651258365588, 0.09266756996871706, 0.06895083630935628, 0.7899087139825144, 0.03532532934963003, 0.013147504719983164, 0.06292354019731451, 0.04107327139241, 0.04187455302164306, 0.766182644196814, 0.08794597033427853, 0.6211908898741069, 0.07339333496153289, 0.10743127407000173, 0.10840053392735031, 0.08958400598356672, 0.0003677219028898648, 0.008681153637595432, 0.001453080767248092, 0.0031299623923027034, 0.9863680805449048, 0.7782657444967271, 0.04853656745578493, 0.07872636905894864, 0.045786967723760265, 0.04868429254961279, 0.0922399439985115, 0.10010881689026457, 0.08538815112954173, 0.056040314431608625, 0.6662227992989664, 0.20809317050637027, 0.2184356321428912, 0.17935520872077299, 0.21673163257333838, 0.17738436315504202, 0.07388832730418811, 0.0124363765433801, 0.022216874426527793, 0.05340355968722408, 0.8380548623316213, 0.06821239144132055, 0.08654644031325864, 0.5720574647357328, 0.07064587783714917, 0.20253785575083894, 0.7044009427029596, 0.09080719054905717, 0.06794520088932884, 0.05188460821387267, 0.08496210606142832, 0.040572961495186646, 0.038391702469837787, 0.6894855485577903, 0.15329558727961964, 0.0782542012630645, 0.11133523280783714, 0.6735095504569462, 0.13172765047940876, 0.05785220899088042, 0.02557531071207232, 0.07923566915713456, 0.04685924741915412, 0.8057292022458976, 0.03710106177744325, 0.031074804338059286, 0.051687584963700454, 0.07937349205375833, 0.11120728475910079, 0.604743867911518, 0.15298774647886512, 0.722248006282132, 0.07617207446766272, 0.06530685731334383, 0.0950591528753444, 0.041214010091569504, 0.6890995958710531, 0.15030996730016474, 0.04079600781226682, 0.06948887869962514, 0.050305498947519206, 0.21369569607913047, 0.16452632086709706, 0.21564847324928874, 0.21521356605062586, 0.19091594642783466, 0.11728706005337595, 0.10235953854919598, 0.4626717477316369, 0.13514270191384137, 0.18253891960922874, 0.04874701295879368, 0.6592644833988637, 0.10890166617316856, 0.07986238350233908, 0.10322455118519029, 0.6503879026038745, 0.06222620653606944, 0.08230035140924394, 0.15694208589881367, 0.04814332984858142, 0.5458096936654203, 0.13834970469168287, 0.15830873522570443, 0.10314610952507214, 0.054385772934985324, 0.6602415501876521, 0.06700447517975859, 0.11783948610414244, 0.05905062614792595, 0.09586382669163776, 0.07798543227466143, 0.7816154359579506, 0.021649347832952838, 0.04265237688650577, 0.07609731997647634, 0.016758944967538936, 0.060688001562338965, 0.02087531021692347, 0.16852509004215852, 0.7331526120615594, 0.059815437243927794, 0.6636356659641491, 0.08216559562183363, 0.15880783847194552, 0.035575491744883746, 0.18660957028693617, 0.08562497899047661, 0.12400266864354749, 0.45144971096733205, 0.15231306568430159, 0.05883501052030347, 0.014838291334116164, 0.02015941222218368, 0.05975477839699157, 0.8464124694747298, 0.086601862307566, 0.7128291653145943, 0.042517871568685195, 0.08051617125711441, 0.07753491937997557, 0.1352040138238492, 0.05892170642223819, 0.045926654892285826, 0.12897982976137234, 0.6309677518192022, 0.09953032310660156, 0.03730702278127299, 0.05127938869903633, 0.6557657779728322, 0.15611756987696981, 0.04876827638134378, 0.0390889826762882, 0.04270499633528161, 0.05224139917800601, 0.8171962785514252, 0.020307291611356065, 0.9298186376007435, 0.012512606804822819, 0.024998273454784347, 0.01236323131201469, 0.06973673352324421, 0.7210534556874754, 0.09497036114207784, 0.0485119047616967, 0.06572752804251625, 0.17088485647124654, 0.06668635960989214, 0.09236074187336774, 0.6303138388987789, 0.039754128875551346, 0.11858592957494174, 0.11965544910270179, 0.4683804883146846, 0.190793754888535, 0.10258437845355085, 0.0499571392550769, 0.0816450194198038, 0.2059821843803086, 0.5880019958187225, 0.07441362041836666, 0.1241676198157819, 0.12091743014124187, 0.4846011210273708, 0.129465359972042, 0.14084848171533193, 0.12309342756033384, 0.6609118683653729, 0.0691529045618616, 0.06449589942278776, 0.08234585340918545, 0.040141768432502944, 0.16094466709297128, 0.04713506454590569, 0.02691941639321322, 0.7248590927556193, 0.5665976588052261, 0.11775373238570952, 0.12740130713108616, 0.08441097396348282, 0.10383637660262938, 8.024660948321431e-05, 0.004606079441172952, 0.00019802179895345233, 0.0004837579518057493, 0.9946318531583791, 0.19922338156436084, 0.1908856381448475, 0.24874329947527596, 0.21481109132882725, 0.14633658905327288, 0.03709174837745028, 0.061906008853172156, 0.046004298783807615, 0.039332791967101044, 0.8156651283932266, 0.2072407594640104, 0.20423562981452542, 0.19837609909677192, 0.21448371551799367, 0.17566379870500418, 0.20055436009561337, 0.21307034795271093, 0.21027681582499552, 0.20311542867721827, 0.17298304821717878, 0.18455164394354096, 0.22253714816704748, 0.18997892895366236, 0.21459160182235282, 0.1883406780818121, 0.10465501089429147, 0.07824810151182923, 0.09410714859150365, 0.5830995198364831, 0.13989025053742668, 0.22973267449380236, 0.19877702469360342, 0.20082406585789234, 0.1796500222872109, 0.19101621181161166, 0.822596122871964, 0.007288338950494838, 0.0233217269687791, 0.13868299298496348, 0.008110815289448067, 0.1566450856746772, 0.11146684979433676, 0.04741273615807696, 0.6113394153650389, 0.07313590614290633, 0.28719658544548476, 0.12558591713592432, 0.18165971239214956, 0.24896185467038895, 0.15659593335517422, 0.6393478174029723, 0.045511695610728146, 0.1465405291442361, 0.14210797599338887, 0.026491964215391753, 4.4006220867102993e-05, 0.0012877923308145728, 5.794053166940624e-05, 7.979477126105279e-05, 0.9985304492562538, 0.08230325226741708, 0.12838569431040212, 0.6212975215660429, 0.08422340583962083, 0.08379008354861939, 0.05171013428994665, 0.05035224547008732, 0.060571963232363114, 0.0651115049605416, 0.7722540690815634, 0.050470153845364046, 0.8511602194223176, 0.05102171889053428, 0.0232071187976602, 0.024140796861381583, 0.035954383932024915, 0.0102431747196716, 0.8390119361871635, 0.027591037842666827, 0.0871994503698137, 0.7642418419784502, 0.029278520841306714, 0.12431149965584468, 0.028699458356461163, 0.053468725726251005, 0.007350944119209379, 0.004420121157802168, 0.9713927965659304, 0.0038427304387252045, 0.01299344868903605, 0.2170730362016867, 0.2110732034793083, 0.20939111201418886, 0.2005570703848284, 0.16190556834380376, 0.03537013588017484, 0.11738518502009598, 0.707788471987958, 0.06748814299815388, 0.07196808877948402, 8.846532632861505e-05, 0.00406091761692503, 0.0003925749634476619, 0.0009756105706381068, 0.9944824308801417, 0.03479503635239554, 0.13660071323862977, 0.060461033887939684, 0.08332951510238142, 0.6848136875418416, 0.15714488518418143, 0.20494778884723563, 0.30574522921446984, 0.20784765234336214, 0.1243144409397597, 0.09447119998461384, 0.16880428613283555, 0.5283303627827759, 0.08977172019964781, 0.11862244236360173, 0.1914023677152092, 0.12308765041905674, 0.13449951858549256, 0.46624628624706066, 0.08476419493808664, 0.09685774882781895, 0.07937923183925352, 0.5830404485425996, 0.056212991901189516, 0.1845096047096085, 0.21835423548032742, 0.2115444375706292, 0.19379669629236906, 0.21050629801087606, 0.16579833080730988, 0.2551961502162117, 0.20377512203324075, 0.19162199011025294, 0.18035794627510549, 0.16904878732364137, 0.05262724515886727, 0.05841769364234577, 0.06621607259677437, 0.7963387358388183, 0.026400276628447922, 0.1924960110534804, 0.18361011140595632, 0.20598891696764732, 0.23844143747251445, 0.17946353432292464, 0.07616532183437466, 0.7060033242637169, 0.09245165499276127, 0.0755773319750356, 0.049802453155087606, 0.22069168830698116, 0.24419425723466157, 0.19824776120038734, 0.15557324785558538, 0.18129304159458065, 0.08032644001384869, 0.6949464907134871, 0.11600257652379235, 0.04984076544719144, 0.05888370031761676, 0.006180793282302423, 0.007262190962524921, 0.01808873649172969, 0.023983664309235934, 0.9444846860237829, 0.17021188354388955, 0.19067320616886527, 0.1802075764996463, 0.23071264532154773, 0.2281946927625847, 0.00020320925613205422, 0.034630108593000156, 0.0003279583489491216, 0.0008013717443927662, 0.9640373742356895, 0.021543122195757814, 0.03064538899177275, 0.03481113264343957, 0.8944958166784176, 0.01850455368049836, 0.09474795708664373, 0.18197260467255116, 0.4188896290580245, 0.18457705088630724, 0.11981272398981889, 0.16216883880294886, 0.4084297444166342, 0.16558864955191996, 0.18284267859036216, 0.08097007882808428, 0.04231544575691438, 0.07404595096792321, 0.1741377552005434, 0.05192815212888543, 0.6575726345783245, 0.023700896839677566, 0.028561583832724037, 0.918873786918055, 0.020118093944326225, 0.008745684082643899, 0.0013478954942081687, 0.003096726056302568, 0.0017418486298530597, 0.9929833151557922, 0.0008302760792748962, 0.19471116547198233, 0.23981497133346885, 0.20536457309365133, 0.20320676814588298, 0.15690252310816916, 0.2730454643484908, 0.18230433003185278, 0.18710014860097038, 0.23106124030176098, 0.12648881846084672, 0.17012197559739778, 0.45911709905541664, 0.18115364557351968, 0.0874591557375187, 0.10214813271389497, 0.12635320235531575, 0.6964254745313042, 0.07100116123080462, 0.051668144107454766, 0.05455190985573078, 0.030214292795179287, 0.07143630937838513, 0.04045074069393347, 0.19524321258917593, 0.6626554270244309, 0.06385273817768305, 0.692360869170614, 0.11373702255908723, 0.07683066993721885, 0.05321863054869633, 0.09236572563859005, 0.057238283817954344, 0.04088860698092351, 0.7713606344932497, 0.03814667344992089, 0.7511050639204137, 0.14989690990724183, 0.020404997073392314, 0.03701135749337312, 0.041581578245515574, 0.12574683529759412, 0.7454703238861149, 0.04079211931371811, 0.05626087950101175, 0.03172987103314482, 0.17575309092760613, 0.24427679146602094, 0.21372307715332206, 0.1915036407618556, 0.17474339713966666, 0.05679335213457556, 0.7760953764606007, 0.02184345263452344, 0.0765046240948778, 0.06876324893905013, 0.227355367682094, 0.14700162706696926, 0.1454893630036974, 0.20374637389562478, 0.2764072634208113, 0.06262929911396693, 0.6984828405193535, 0.0899464697996148, 0.061501844344638054, 0.0874395359889298, 0.17841856266517053, 0.18614735936521418, 0.1648523754003742, 0.3316394826733908, 0.13894221431631512, 0.10597801062368675, 0.059335198871958456, 0.7404544354137558, 0.0710969238933878, 0.023135453303336256, 0.23061354741577755, 0.15062970392151293, 0.13363579042786006, 0.2094313795797004, 0.27568957627340035, 0.034215831688189015, 0.06475428799207453, 0.8695893974635021, 0.018174742161647557, 0.013265744497006132, 0.020689463642267165, 0.9361812605397355, 0.020198749103867604, 0.015460612415705099, 0.007469952837061105, 0.027206152028371622, 0.07385718824320676, 0.04951618998944044, 0.7918844919634203, 0.057535990085889686, 0.8667528181833701, 0.0322349233897358, 0.028118396490181313, 0.016017565248908024, 0.05687625549650703, 0.16228442162650838, 0.6895999063712197, 0.05026368192347986, 0.02298567412243377, 0.07486623041521928, 0.06188915341974096, 0.054218197378456, 0.6813987217519148, 0.16272505547407587, 0.03976882091951919, 0.12515976114623306, 0.20187473753356266, 0.5877258861561802, 0.03721229826400424, 0.048027223003340606, 0.040909496417199084, 0.033687809450481256, 0.024855360654757054, 0.8589352674076137, 0.04161208576849877, 0.09076047449530218, 0.7160881089643057, 0.035291832043309136, 0.11217759852684459, 0.04568193779648032, 0.06585844025296095, 0.7925074437954487, 0.04783498779312963, 0.034792000347338106, 0.059007143336457964, 0.001248705883243587, 0.01199565869473846, 0.0036822674318826355, 0.04475535821113278, 0.9383180046011521, 0.31654254620739625, 0.16821306129634303, 0.16717776085983202, 0.17019147193841466, 0.17787514200034785, 0.26362617170664254, 0.05028835322158317, 0.05226533654406606, 0.6050777021945574, 0.028742485812113205, 0.05481406370406764, 0.0635897865406063, 0.13516869530517647, 0.07084876318134908, 0.6755787631227728, 0.016844784005131997, 0.021645064075956684, 0.8903897976819373, 0.021636325171768035, 0.049483935731920434, 0.016299859045495555, 0.17840907217233506, 0.6815911165155008, 0.09352464527342612, 0.030175316380895725, 0.08689092675304279, 0.6363792481257101, 0.058815146000955734, 0.07886340923504775, 0.1390512380865766, 0.06641234629250935, 0.0492322328275338, 0.06793949700106422, 0.7282086405845346, 0.08820734686720301, 0.08369574612313423, 0.09741935516231709, 0.1178273253135439, 0.6241095782315318, 0.07694799393432708, 0.13545261070102194, 0.19110938911283248, 0.21701650722555993, 0.14255984799381033, 0.3138616388984164, 0.01288733959410302, 0.15554591454071395, 0.07189876523418899, 0.18482435416690296, 0.5748435694158699, 0.6420963748112789, 0.06417956497656045, 0.07587830301295351, 0.11918847176822164, 0.09865728507792572, 0.012915215609500352, 0.029702818326689567, 0.009101051201082844, 0.040801491494984986, 0.9074794381008664, 0.04341130129828536, 0.11450898440001679, 0.15814812433449027, 0.6029641777949375, 0.08096740079335994, 0.018729732145524806, 0.07478965662379898, 0.05316463357074922, 0.8389735243373954, 0.014342430479766147, 0.08389107322927127, 0.6691071736157252, 0.08009071480001559, 0.03588142025997459, 0.13102962902105444, 0.048904621412914864, 0.12743751532456798, 0.04759057244135594, 0.08089548602235586, 0.695171807318597, 0.1072811639751753, 0.07721836660614823, 0.08730168004584349, 0.5728402509271772, 0.1553584780416878, 0.11516028210299523, 0.6681604683002835, 0.09540133933062728, 0.0820352671096291, 0.03924271589271014, 0.19143855380143776, 0.2103228041434865, 0.22126602168698264, 0.20173833775580854, 0.17523428440043656, 0.7475355284792763, 0.06218861135406596, 0.06098408795808685, 0.060767611183894205, 0.06852412866188004, 0.018311392791472078, 0.9136457400882972, 0.020983857050854204, 0.029941302924978916, 0.017117596201671772, 0.06161049947866811, 0.7083836518679926, 0.07122784000616915, 0.11986589561317293, 0.038912128006120573, 0.2174229373999773, 0.18582746528420377, 0.21756994844933386, 0.2122200314852824, 0.16695961924730926, 0.02860941890150528, 0.8662253313330514, 0.04088148247554488, 0.03947924628317386, 0.024804599260207616, 0.778524164003095, 0.09689668638041975, 0.07269387220210338, 0.032925350358898285, 0.018959931278839277, 0.6123524731889175, 0.06834808904203517, 0.10284910441140542, 0.13276332934338664, 0.08368698396200627, 0.1733528911975496, 0.29188180707382316, 0.1817023846846906, 0.22514183574973573, 0.12792107493539515, 0.03155835162632887, 0.0566839696258062, 0.021879461987826712, 0.03453012204123937, 0.8553481893900395, 0.04287518268414788, 0.6561066751639505, 0.10779357423809913, 0.1347946767494479, 0.058429915618356476, 0.6404595342777858, 0.06855508044319676, 0.08021376526425095, 0.08875307866182662, 0.12201858406224218, 0.05962038245283227, 0.051654977254713616, 0.0950800527910224, 0.7373621660577858, 0.056282425155947974, 0.04558691122885508, 0.023338657691438006, 0.03391488131702278, 0.06387929846414742, 0.8332802538647334, 0.016215919693826505, 0.005376097945613607, 0.9541070621252099, 0.007693332346007642, 0.016607564213888624, 0.0040232765531468696, 0.9761533207358345, 0.0025585242722166285, 0.005912556966708032, 0.011352351070623642, 0.03264932034978848, 0.6660652707315726, 0.13356150300386274, 0.11381707336720528, 0.05390685556967687, 0.048187431126350176, 0.07870409751703984, 0.047833651158219304, 0.0686521085242986, 0.7566226770964719, 0.6450211444098063, 0.15851731528195478, 0.035875205182224916, 0.12106220766379891, 0.03952411642589292, 0.0751053428242844, 0.16663689804706666, 0.035937411662698864, 0.6823767650066263, 0.03994362517908357, 0.08882170979599488, 0.10421261659749269, 0.16569845070297148, 0.5020437029614292, 0.13922355419474344, 0.219130511310562, 0.17462454643131267, 0.19371488968523687, 0.24341672294815211, 0.16911333283403082, 0.14688329077060427, 0.12839784627107875, 0.04639782298945597, 0.0417484453860838, 0.6365725009631157, 0.7139768474204592, 0.11037426643797756, 0.08305517890386103, 0.030072717098843686, 0.06252103461723224, 0.03813014056694692, 0.01420899482703463, 0.9235657097260006, 0.010334264338585171, 0.013760837288136327, 0.6818320956479749, 0.0771210818892222, 0.09278474825154173, 0.05882314437456291, 0.08943893919579131, 0.07581778349090257, 0.06876163089067215, 0.5934747889885904, 0.2233018190256799, 0.038644063090564, 0.23004314883038982, 0.18224493397515834, 0.19777078785190821, 0.21077487541300585, 0.17916625801684294, 0.1926700551883482, 0.2617524214191132, 0.21235066076921355, 0.18084849053574434, 0.15237836786220912, 0.18396293498664076, 0.19317576615882248, 0.2399116092453695, 0.19592948285091305, 0.1870202088389885, 0.13502413049831877, 0.1473477260027347, 0.4467711447661494, 0.1364809570731389, 0.13437603210333085, 0.09146390412155926, 0.10967799160713894, 0.06288157684556452, 0.6577564210117556, 0.07822004246074211, 0.7178204998185914, 0.01025320176319483, 0.010266243743009405, 0.0218841544381249, 0.23977603171567, 0.18870982984550172, 0.22029666012386814, 0.18744699227040978, 0.21951947315105338, 0.18402703929743355, 0.20884126835238154, 0.18829977415850302, 0.20900494014537807, 0.22697049059232022, 0.16688352088273206, 0.1360631333587795, 0.7582671164587105, 0.04152051714969304, 0.02827829855721424, 0.03587081102999815, 0.005136559770230591, 0.027856872896309934, 0.005115367350117146, 0.6464700542113399, 0.31542111355136043, 0.13387262300184338, 0.0827110940357342, 0.5243369240221274, 0.13965997093716218, 0.11941938871547253, 0.04898647897283043, 0.6268646631033324, 0.05351090843706505, 0.17259889006884654, 0.09803897806232775, 0.014030514440413486, 0.038812212710223816, 0.8355220559037817, 0.02228372673060641, 0.08935145133624216, 0.02897255977501681, 0.0859261895194161, 0.027180585790946923, 0.07569735314236158, 0.7822232376495921, 0.13923573986450277, 0.10879589036783252, 0.6255893471232872, 0.07741315220120282, 0.048965807933878044, 0.021585236212263572, 0.020871188030844708, 0.03265802274024665, 0.042170818232951233, 0.8827147437134357, 0.07950078088637005, 0.7149395492648649, 0.0793999905987592, 0.07220718606615383, 0.05395257635563642, 0.08339772851768791, 0.04075307531649836, 0.03542429493338048, 0.8048559398372949, 0.03556905630208562, 0.20529714184346176, 0.1823634911603704, 0.16119480787940546, 0.20853395228168525, 0.2426106129992414, 0.00014171965685177564, 0.004937819768336937, 0.0004653845663475454, 0.003941992128690038, 0.9905130943854833, 0.3431015958745517, 0.13946754480025234, 0.13245184966520465, 0.22665459783583963, 0.15832442237780298, 0.23795185722604315, 0.21342335049629516, 0.22766496826706045, 0.1716397339565935, 0.14932009319714382, 0.029819022472853184, 0.028604494265074547, 0.7658709128563084, 0.11222850044862018, 0.06347699763853983, 0.15410369504563431, 0.2258704246208191, 0.1932065579607497, 0.19807249788385092, 0.22874682728741735, 0.8687869343182926, 0.06134560321876282, 0.040549109569059376, 0.012451682122196385, 0.01686667151674197, 0.18968631080685808, 0.19556366930007474, 0.1965469790776075, 0.25060215691777904, 0.1676008791608826, 0.017459986364701387, 0.03265571079520632, 0.02554162078746061, 0.021005888347244532, 0.9033367853483042, 0.6938970505894014, 0.04454178314135826, 0.06538270281242263, 0.05187268476918886, 0.14430573116430218, 0.11986333997652611, 0.4436773764427041, 0.12204300607084713, 0.1369818007113677, 0.17743447487726782, 0.23378702604338092, 0.21712343698117123, 0.21113288993218068, 0.1954071657804972, 0.14254947827949144, 0.08413878050425662, 0.03968606084167972, 0.7397774847025156, 0.059204724004282214, 0.07719286713037772, 0.06503837768685766, 0.22633586782179166, 0.05525974094592812, 0.6228149078382355, 0.030551210281244478, 0.17719729620157387, 0.18132631446957007, 0.22318149724565878, 0.20902740846947943, 0.20926748148273397, 0.033563709077443875, 0.05214581376382051, 0.8399086398311796, 0.0300739520937235, 0.04430785115795157], \"Term\": [\"\", \"\", \"\", \"\", \"\", \"abc\", \"abc\", \"abc\", \"abc\", \"abc\", \"actual\", \"actual\", \"actual\", \"actual\", \"actual\", \"advice\", \"advice\", \"advice\", \"advice\", \"advice\", \"ale\", \"ale\", \"ale\", \"ale\", \"ale\", \"america\", \"america\", \"america\", \"america\", \"america\", \"amp\", \"amp\", \"amp\", \"amp\", \"amp\", \"announcement\", \"announcement\", \"announcement\", \"announcement\", \"announcement\", \"au\", \"au\", \"au\", \"au\", \"au\", \"australia\", \"australia\", \"australia\", \"australia\", \"australia\", \"back\", \"back\", \"back\", \"back\", \"back\", \"ball\", \"ball\", \"ball\", \"ball\", \"ball\", \"ban\", \"ban\", \"ban\", \"ban\", \"ban\", \"bar\", \"bar\", \"bar\", \"bar\", \"bar\", \"be\", \"be\", \"be\", \"be\", \"be\", \"bird\", \"bird\", \"bird\", \"bird\", \"bird\", \"block\", \"block\", \"block\", \"block\", \"block\", \"bloke\", \"bloke\", \"bloke\", \"bloke\", \"bloke\", \"brand\", \"brand\", \"brand\", \"brand\", \"brand\", \"break\", \"break\", \"break\", \"break\", \"break\", \"bubble\", \"bubble\", \"bubble\", \"bubble\", \"bubble\", \"bullshit\", \"bullshit\", \"bullshit\", \"bullshit\", \"bullshit\", \"busy\", \"busy\", \"busy\", \"busy\", \"busy\", \"case\", \"case\", \"case\", \"case\", \"case\", \"celebrate\", \"celebrate\", \"celebrate\", \"celebrate\", \"celebrate\", \"chat\", \"chat\", \"chat\", \"chat\", \"chat\", \"church\", \"church\", \"church\", \"church\", \"church\", \"class\", \"class\", \"class\", \"class\", \"class\", \"close\", \"close\", \"close\", \"close\", \"close\", \"coffee\", \"coffee\", \"coffee\", \"coffee\", \"coffee\", \"cold\", \"cold\", \"cold\", \"cold\", \"cold\", \"come\", \"come\", \"come\", \"come\", \"come\", \"communication\", \"communication\", \"communication\", \"communication\", \"communication\", \"community\", \"community\", \"community\", \"community\", \"community\", \"cost\", \"cost\", \"cost\", \"cost\", \"cost\", \"cou\", \"cou\", \"cou\", \"cou\", \"cou\", \"create\", \"create\", \"create\", \"create\", \"create\", \"crime\", \"crime\", \"crime\", \"crime\", \"crime\", \"current\", \"current\", \"current\", \"current\", \"current\", \"customer\", \"customer\", \"customer\", \"customer\", \"customer\", \"dan\", \"dan\", \"dan\", \"dan\", \"dan\", \"day\", \"day\", \"day\", \"day\", \"day\", \"die\", \"die\", \"die\", \"die\", \"die\", \"disgust\", \"disgust\", \"disgust\", \"disgust\", \"disgust\", \"dm\", \"dm\", \"dm\", \"dm\", \"dm\", \"doubt\", \"doubt\", \"doubt\", \"doubt\", \"doubt\", \"dr\", \"dr\", \"dr\", \"dr\", \"dr\", \"drug\", \"drug\", \"drug\", \"drug\", \"drug\", \"due\", \"due\", \"due\", \"due\", \"due\", \"dumb\", \"dumb\", \"dumb\", \"dumb\", \"dumb\", \"easter\", \"easter\", \"easter\", \"easter\", \"easter\", \"eastern\", \"eastern\", \"eastern\", \"eastern\", \"eastern\", \"easy\", \"easy\", \"easy\", \"easy\", \"easy\", \"effo\", \"effo\", \"effo\", \"effo\", \"effo\", \"egg\", \"egg\", \"egg\", \"egg\", \"egg\", \"english\", \"english\", \"english\", \"english\", \"english\", \"evil\", \"evil\", \"evil\", \"evil\", \"evil\", \"example\", \"example\", \"example\", \"example\", \"example\", \"facebook\", \"facebook\", \"facebook\", \"facebook\", \"facebook\", \"fact\", \"fact\", \"fact\", \"fact\", \"fact\", \"fit\", \"fit\", \"fit\", \"fit\", \"fit\", \"free\", \"free\", \"free\", \"free\", \"free\", \"front\", \"front\", \"front\", \"front\", \"front\", \"fund\", \"fund\", \"fund\", \"fund\", \"fund\", \"funny\", \"funny\", \"funny\", \"funny\", \"funny\", \"fwy\", \"fwy\", \"fwy\", \"fwy\", \"fwy\", \"game\", \"game\", \"game\", \"game\", \"game\", \"geelong\", \"geelong\", \"geelong\", \"geelong\", \"geelong\", \"get\", \"get\", \"get\", \"get\", \"get\", \"go\", \"go\", \"go\", \"go\", \"go\", \"good\", \"good\", \"good\", \"good\", \"good\", \"grand\", \"grand\", \"grand\", \"grand\", \"grand\", \"great\", \"great\", \"great\", \"great\", \"great\", \"gt\", \"gt\", \"gt\", \"gt\", \"gt\", \"hair\", \"hair\", \"hair\", \"hair\", \"hair\", \"happy\", \"happy\", \"happy\", \"happy\", \"happy\", \"hunt\", \"hunt\", \"hunt\", \"hunt\", \"hunt\", \"inbound\", \"inbound\", \"inbound\", \"inbound\", \"inbound\", \"industry\", \"industry\", \"industry\", \"industry\", \"industry\", \"judge\", \"judge\", \"judge\", \"judge\", \"judge\", \"jump\", \"jump\", \"jump\", \"jump\", \"jump\", \"justice\", \"justice\", \"justice\", \"justice\", \"justice\", \"kinda\", \"kinda\", \"kinda\", \"kinda\", \"kinda\", \"knock\", \"knock\", \"knock\", \"knock\", \"knock\", \"know\", \"know\", \"know\", \"know\", \"know\", \"land\", \"land\", \"land\", \"land\", \"land\", \"lane\", \"lane\", \"lane\", \"lane\", \"lane\", \"leave\", \"leave\", \"leave\", \"leave\", \"leave\", \"let\", \"let\", \"let\", \"let\", \"let\", \"lie\", \"lie\", \"lie\", \"lie\", \"lie\", \"ll\", \"ll\", \"ll\", \"ll\", \"ll\", \"lockdown\", \"lockdown\", \"lockdown\", \"lockdown\", \"lockdown\", \"look\", \"look\", \"look\", \"look\", \"look\", \"love\", \"love\", \"love\", \"love\", \"love\", \"mafs\", \"mafs\", \"mafs\", \"mafs\", \"mafs\", \"make\", \"make\", \"make\", \"make\", \"make\", \"manage\", \"manage\", \"manage\", \"manage\", \"manage\", \"many\", \"many\", \"many\", \"many\", \"many\", \"mask\", \"mask\", \"mask\", \"mask\", \"mask\", \"meeting\", \"meeting\", \"meeting\", \"meeting\", \"meeting\", \"melbourne\", \"melbourne\", \"melbourne\", \"melbourne\", \"melbourne\", \"monash\", \"monash\", \"monash\", \"monash\", \"monash\", \"monday\", \"monday\", \"monday\", \"monday\", \"monday\", \"month\", \"month\", \"month\", \"month\", \"month\", \"morrison\", \"morrison\", \"morrison\", \"morrison\", \"morrison\", \"mount\", \"mount\", \"mount\", \"mount\", \"mount\", \"movie\", \"movie\", \"movie\", \"movie\", \"movie\", \"nah\", \"nah\", \"nah\", \"nah\", \"nah\", \"need\", \"need\", \"need\", \"need\", \"need\", \"new\", \"new\", \"new\", \"new\", \"new\", \"news\", \"news\", \"news\", \"news\", \"news\", \"nobody\", \"nobody\", \"nobody\", \"nobody\", \"nobody\", \"north\", \"north\", \"north\", \"north\", \"north\", \"okay\", \"okay\", \"okay\", \"okay\", \"okay\", \"page\", \"page\", \"page\", \"page\", \"page\", \"partner\", \"partner\", \"partner\", \"partner\", \"partner\", \"paul\", \"paul\", \"paul\", \"paul\", \"paul\", \"people\", \"people\", \"people\", \"people\", \"people\", \"peter\", \"peter\", \"peter\", \"peter\", \"peter\", \"photo\", \"photo\", \"photo\", \"photo\", \"photo\", \"playing\", \"playing\", \"playing\", \"playing\", \"playing\", \"point\", \"point\", \"point\", \"point\", \"point\", \"positive\", \"positive\", \"positive\", \"positive\", \"positive\", \"post\", \"post\", \"post\", \"post\", \"post\", \"pr\", \"pr\", \"pr\", \"pr\", \"pr\", \"practice\", \"practice\", \"practice\", \"practice\", \"practice\", \"pressure\", \"pressure\", \"pressure\", \"pressure\", \"pressure\", \"product\", \"product\", \"product\", \"product\", \"product\", \"program\", \"program\", \"program\", \"program\", \"program\", \"promise\", \"promise\", \"promise\", \"promise\", \"promise\", \"protect\", \"protect\", \"protect\", \"protect\", \"protect\", \"prove\", \"prove\", \"prove\", \"prove\", \"prove\", \"raise\", \"raise\", \"raise\", \"raise\", \"raise\", \"random\", \"random\", \"random\", \"random\", \"random\", \"rd\", \"rd\", \"rd\", \"rd\", \"rd\", \"read\", \"read\", \"read\", \"read\", \"read\", \"recovery\", \"recovery\", \"recovery\", \"recovery\", \"recovery\", \"remind\", \"remind\", \"remind\", \"remind\", \"remind\", \"remove\", \"remove\", \"remove\", \"remove\", \"remove\", \"report\", \"report\", \"report\", \"report\", \"report\", \"research\", \"research\", \"research\", \"research\", \"research\", \"richmond\", \"richmond\", \"richmond\", \"richmond\", \"richmond\", \"ridiculous\", \"ridiculous\", \"ridiculous\", \"ridiculous\", \"ridiculous\", \"right\", \"right\", \"right\", \"right\", \"right\", \"ring\", \"ring\", \"ring\", \"ring\", \"ring\", \"rise\", \"rise\", \"rise\", \"rise\", \"rise\", \"road\", \"road\", \"road\", \"road\", \"road\", \"round\", \"round\", \"round\", \"round\", \"round\", \"royal\", \"royal\", \"royal\", \"royal\", \"royal\", \"rule\", \"rule\", \"rule\", \"rule\", \"rule\", \"saint\", \"saint\", \"saint\", \"saint\", \"saint\", \"sale\", \"sale\", \"sale\", \"sale\", \"sale\", \"sam\", \"sam\", \"sam\", \"sam\", \"sam\", \"say\", \"say\", \"say\", \"say\", \"say\", \"school\", \"school\", \"school\", \"school\", \"school\", \"scomo\", \"scomo\", \"scomo\", \"scomo\", \"scomo\", \"score\", \"score\", \"score\", \"score\", \"score\", \"see\", \"see\", \"see\", \"see\", \"see\", \"sexy\", \"sexy\", \"sexy\", \"sexy\", \"sexy\", \"shoot\", \"shoot\", \"shoot\", \"shoot\", \"shoot\", \"shop\", \"shop\", \"shop\", \"shop\", \"shop\", \"show\", \"show\", \"show\", \"show\", \"show\", \"situation\", \"situation\", \"situation\", \"situation\", \"situation\", \"sky\", \"sky\", \"sky\", \"sky\", \"sky\", \"smash\", \"smash\", \"smash\", \"smash\", \"smash\", \"smile\", \"smile\", \"smile\", \"smile\", \"smile\", \"south\", \"south\", \"south\", \"south\", \"south\", \"ssr\", \"ssr\", \"ssr\", \"ssr\", \"ssr\", \"staff\", \"staff\", \"staff\", \"staff\", \"staff\", \"stick\", \"stick\", \"stick\", \"stick\", \"stick\", \"street\", \"street\", \"street\", \"street\", \"street\", \"sub\", \"sub\", \"sub\", \"sub\", \"sub\", \"suck\", \"suck\", \"suck\", \"suck\", \"suck\", \"sunday\", \"sunday\", \"sunday\", \"sunday\", \"sunday\", \"take\", \"take\", \"take\", \"take\", \"take\", \"target\", \"target\", \"target\", \"target\", \"target\", \"tea\", \"tea\", \"tea\", \"tea\", \"tea\", \"tear\", \"tear\", \"tear\", \"tear\", \"tear\", \"term\", \"term\", \"term\", \"term\", \"term\", \"terrible\", \"terrible\", \"terrible\", \"terrible\", \"terrible\", \"thanks\", \"thanks\", \"thanks\", \"thanks\", \"thanks\", \"thing\", \"thing\", \"thing\", \"thing\", \"thing\", \"think\", \"think\", \"think\", \"think\", \"think\", \"thought\", \"thought\", \"thought\", \"thought\", \"thought\", \"ticket\", \"ticket\", \"ticket\", \"ticket\", \"ticket\", \"tiger\", \"tiger\", \"tiger\", \"tiger\", \"tiger\", \"time\", \"time\", \"time\", \"time\", \"time\", \"today\", \"today\", \"today\", \"today\", \"today\", \"tour\", \"tour\", \"tour\", \"tour\", \"tour\", \"traffic\", \"traffic\", \"traffic\", \"traffic\", \"traffic\", \"travel\", \"travel\", \"travel\", \"travel\", \"travel\", \"treat\", \"treat\", \"treat\", \"treat\", \"treat\", \"tree\", \"tree\", \"tree\", \"tree\", \"tree\", \"trip\", \"trip\", \"trip\", \"trip\", \"trip\", \"tuesday\", \"tuesday\", \"tuesday\", \"tuesday\", \"tuesday\", \"type\", \"type\", \"type\", \"type\", \"type\", \"ur\", \"ur\", \"ur\", \"ur\", \"ur\", \"victim\", \"victim\", \"victim\", \"victim\", \"victim\", \"victoria\", \"victoria\", \"victoria\", \"victoria\", \"victoria\", \"victraffic\", \"victraffic\", \"victraffic\", \"victraffic\", \"victraffic\", \"video\", \"video\", \"video\", \"video\", \"video\", \"want\", \"want\", \"want\", \"want\", \"want\", \"warrior\", \"warrior\", \"warrior\", \"warrior\", \"warrior\", \"watch\", \"watch\", \"watch\", \"watch\", \"watch\", \"wed\", \"wed\", \"wed\", \"wed\", \"wed\", \"week\", \"week\", \"week\", \"week\", \"week\", \"west\", \"west\", \"west\", \"west\", \"west\", \"wine\", \"wine\", \"wine\", \"wine\", \"wine\", \"wonder\", \"wonder\", \"wonder\", \"wonder\", \"wonder\", \"work\", \"work\", \"work\", \"work\", \"work\", \"worker\", \"worker\", \"worker\", \"worker\", \"worker\", \"worse\", \"worse\", \"worse\", \"worse\", \"worse\", \"year\", \"year\", \"year\", \"year\", \"year\", \"yr\", \"yr\", \"yr\", \"yr\", \"yr\"]}, \"R\": 30, \"lambda.step\": 0.01, \"plot.opts\": {\"xlab\": \"PC1\", \"ylab\": \"PC2\"}, \"topic.order\": [5, 3, 2, 4, 1]};\n",
       "\n",
       "function LDAvis_load_lib(url, callback){\n",
       "  var s = document.createElement('script');\n",
       "  s.src = url;\n",
       "  s.async = true;\n",
       "  s.onreadystatechange = s.onload = callback;\n",
       "  s.onerror = function(){console.warn(\"failed to load library \" + url);};\n",
       "  document.getElementsByTagName(\"head\")[0].appendChild(s);\n",
       "}\n",
       "\n",
       "if(typeof(LDAvis) !== \"undefined\"){\n",
       "   // already loaded: just create the visualization\n",
       "   !function(LDAvis){\n",
       "       new LDAvis(\"#\" + \"ldavis_el1357650039852967199440514\", ldavis_el1357650039852967199440514_data);\n",
       "   }(LDAvis);\n",
       "}else if(typeof define === \"function\" && define.amd){\n",
       "   // require.js is available: use it to load d3/LDAvis\n",
       "   require.config({paths: {d3: \"https://d3js.org/d3.v5\"}});\n",
       "   require([\"d3\"], function(d3){\n",
       "      window.d3 = d3;\n",
       "      LDAvis_load_lib(\"https://cdn.jsdelivr.net/gh/bmabey/pyLDAvis@3.3.1/pyLDAvis/js/ldavis.v3.0.0.js\", function(){\n",
       "        new LDAvis(\"#\" + \"ldavis_el1357650039852967199440514\", ldavis_el1357650039852967199440514_data);\n",
       "      });\n",
       "    });\n",
       "}else{\n",
       "    // require.js not available: dynamically load d3 & LDAvis\n",
       "    LDAvis_load_lib(\"https://d3js.org/d3.v5.js\", function(){\n",
       "         LDAvis_load_lib(\"https://cdn.jsdelivr.net/gh/bmabey/pyLDAvis@3.3.1/pyLDAvis/js/ldavis.v3.0.0.js\", function(){\n",
       "                 new LDAvis(\"#\" + \"ldavis_el1357650039852967199440514\", ldavis_el1357650039852967199440514_data);\n",
       "            })\n",
       "         });\n",
       "}\n",
       "</script>"
      ],
      "text/plain": [
       "<IPython.core.display.HTML object>"
      ]
     },
     "execution_count": 38,
     "metadata": {},
     "output_type": "execute_result"
    }
   ],
   "source": [
    "py_lda_prepared_data = pyLDAvis.prepare(formatted['topic_term_dists'],formatted['doc_topic_dists'],formatted['doc_lengths'],formatted['vocab'],formatted['term_frequency'])\n",
    "pyLDAvis.display(py_lda_prepared_data)"
   ]
  },
  {
   "cell_type": "code",
   "execution_count": null,
   "id": "72c50a62",
   "metadata": {},
   "outputs": [],
   "source": []
  }
 ],
 "metadata": {
  "kernelspec": {
   "display_name": "Python 3",
   "language": "python",
   "name": "python3"
  },
  "language_info": {
   "codemirror_mode": {
    "name": "ipython",
    "version": 3
   },
   "file_extension": ".py",
   "mimetype": "text/x-python",
   "name": "python",
   "nbconvert_exporter": "python",
   "pygments_lexer": "ipython3",
   "version": "3.9.4"
  }
 },
 "nbformat": 4,
 "nbformat_minor": 5
}

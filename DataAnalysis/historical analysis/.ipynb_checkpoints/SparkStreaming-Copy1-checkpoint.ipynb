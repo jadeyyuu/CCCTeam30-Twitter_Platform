{
 "cells": [
  {
   "cell_type": "code",
   "execution_count": 2,
   "metadata": {},
   "outputs": [],
   "source": [
    "import tweepy\n",
    "from tweepy import Stream\n",
    "from tweepy.streaming import StreamListener\n",
    "from tweepy import OAuthHandler\n",
    "import socket\n",
    "import json"
   ]
  },
  {
   "cell_type": "code",
   "execution_count": 3,
   "metadata": {},
   "outputs": [],
   "source": [
    "consumer_key= 'SQf2LRLejlp9VDjR17pyHjYSX'\n",
    "consumer_secret='ZUaakaPl7bknkxCPV9aVxzNmxLKkDS1b8kC2OE4pF9qBZygPG4'\n",
    "access_token ='1384514435385937926-TeZVtjNaYI2n2zPXnh1WuLDgcka3xm'\n",
    "access_secret='y8e3lm23rQoZpSTeU7mRgqmQF3plYsQEPzCtVElmE0gzD'"
   ]
  },
  {
   "cell_type": "code",
   "execution_count": null,
   "metadata": {},
   "outputs": [],
   "source": [
    "class TweetsListener(StreamListener):\n",
    "  # tweet object listens for the tweets\n",
    "    def __init__(self, csocket):\n",
    "        self.client_socket = csocket\n",
    "    def on_data(self, data):\n",
    "        try:  \n",
    "            msg = json.loads( data )\n",
    "            print(\"new message\")\n",
    "      # if tweet is longer than 140 characters\n",
    "            if \"extended_tweet\" in msg:\n",
    "        # add at the end of each tweet \"t_end\" \n",
    "                self.client_socket\\\n",
    "                .send(str(msg['extended_tweet']['full_text']+\"t_end\")\\\n",
    "                .encode('utf-8'))         \n",
    "                print(msg['extended_tweet']['full_text'])\n",
    "            else:\n",
    "        # add at the end of each tweet \"t_end\" \n",
    "                self.client_socket\\\n",
    "                    .send(str(msg['text']+\"t_end\")\\\n",
    "                    .encode('utf-8'))\n",
    "                print(msg['text'])\n",
    "            return True\n",
    "        except BaseException as e:\n",
    "            print(\"Error on_data: %s\" % str(e))\n",
    "        return True\n",
    "    def on_error(self, status):\n",
    "        print(status)\n",
    "        return True"
   ]
  },
  {
   "cell_type": "code",
   "execution_count": null,
   "metadata": {},
   "outputs": [],
   "source": [
    "def sendData(c_socket, keyword):\n",
    "    print('start sending data from Twitter to socket')\n",
    "    # authentication based on the credentials\n",
    "    auth = OAuthHandler(consumer_key, consumer_secret)\n",
    "    auth.set_access_token(access_token, access_secret)\n",
    "    # start sending data from the Streaming API \n",
    "    twitter_stream = Stream(auth, TweetsListener(c_socket))\n",
    "    twitter_stream.filter(track = keyword, languages=[\"en\"])"
   ]
  },
  {
   "cell_type": "code",
   "execution_count": null,
   "metadata": {},
   "outputs": [],
   "source": [
    "if __name__ == \"__main__\":\n",
    "    # server (local machine) creates listening socket\n",
    "    s = socket.socket()\n",
    "    host = \"0.0.0.0\"    \n",
    "    port = 5555\n",
    "    s.bind((host, port))\n",
    "    print('socket is ready')\n",
    "    # server (local machine) listens for connections\n",
    "    s.listen(4)\n",
    "    print('socket is listening')\n",
    "    # return the socket and the address on the other side of the connection (client side)\n",
    "    c_socket, addr = s.accept()\n",
    "    print(\"Received request from: \" + str(addr))\n",
    "    # select here the keyword for the tweet data\n",
    "    sendData(c_socket, keyword = ['covid'])"
   ]
  },
  {
   "cell_type": "code",
   "execution_count": null,
   "metadata": {},
   "outputs": [],
   "source": []
  },
  {
   "cell_type": "code",
   "execution_count": null,
   "metadata": {},
   "outputs": [],
   "source": []
  }
 ],
 "metadata": {
  "kernelspec": {
   "display_name": "Python 3",
   "language": "python",
   "name": "python3"
  },
  "language_info": {
   "codemirror_mode": {
    "name": "ipython",
    "version": 3
   },
   "file_extension": ".py",
   "mimetype": "text/x-python",
   "name": "python",
   "nbconvert_exporter": "python",
   "pygments_lexer": "ipython3",
   "version": "3.9.4"
  }
 },
 "nbformat": 4,
 "nbformat_minor": 4
}
